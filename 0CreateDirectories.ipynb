{
  "nbformat": 4,
  "nbformat_minor": 0,
  "metadata": {
    "colab": {
      "provenance": [],
      "authorship_tag": "ABX9TyMZ/epigCTxSASkiN4xCH/l",
      "include_colab_link": true
    },
    "kernelspec": {
      "name": "python3",
      "display_name": "Python 3"
    },
    "language_info": {
      "name": "python"
    }
  },
  "cells": [
    {
      "cell_type": "markdown",
      "metadata": {
        "id": "view-in-github",
        "colab_type": "text"
      },
      "source": [
        "<a href=\"https://colab.research.google.com/github/justcme/PerformanceSpecs/blob/main/0CreateDirectories.ipynb\" target=\"_parent\"><img src=\"https://colab.research.google.com/assets/colab-badge.svg\" alt=\"Open In Colab\"/></a>"
      ]
    },
    {
      "cell_type": "markdown",
      "source": [
        "#Create and Load Main Directory\n",
        "\n",
        "For this project, I created a directory in my GoogleDrive called \"LipidPerf\"."
      ],
      "metadata": {
        "id": "OnF5x26NCIAa"
      }
    },
    {
      "cell_type": "code",
      "execution_count": null,
      "metadata": {
        "colab": {
          "base_uri": "https://localhost:8080/"
        },
        "id": "VArdwuSNdvCS",
        "outputId": "751ea542-0120-4824-92e5-ef5027cc8786"
      },
      "outputs": [
        {
          "output_type": "stream",
          "name": "stdout",
          "text": [
            "Mounted at /content/drive/\n"
          ]
        }
      ],
      "source": [
        "import os\n",
        "from google.colab import drive\n",
        "drive.mount('/content/drive/')\n",
        "os.chdir('/content/drive/My Drive/Colab Notebooks/LipidPerf')"
      ]
    },
    {
      "cell_type": "markdown",
      "source": [
        "##Notebooks"
      ],
      "metadata": {
        "id": "CU_WsYwoL69H"
      }
    },
    {
      "cell_type": "code",
      "source": [
        "os.mkdir('Notebooks')"
      ],
      "metadata": {
        "id": "dg7QYiRhMBhF"
      },
      "execution_count": null,
      "outputs": []
    },
    {
      "cell_type": "markdown",
      "source": [
        "##For Files Produced in Project"
      ],
      "metadata": {
        "id": "JShhBPpIJYC0"
      }
    },
    {
      "cell_type": "code",
      "source": [
        "os.mkdir('from_Pandas')"
      ],
      "metadata": {
        "id": "AvMrMqszJT_3"
      },
      "execution_count": null,
      "outputs": []
    },
    {
      "cell_type": "markdown",
      "source": [
        "##Base Data and Dictionaries"
      ],
      "metadata": {
        "id": "U_bTBN29KQlo"
      }
    },
    {
      "cell_type": "code",
      "source": [
        "os.mkdir('from_Pandas/Base')"
      ],
      "metadata": {
        "id": "qFRlTlZoKW4P"
      },
      "execution_count": null,
      "outputs": []
    },
    {
      "cell_type": "markdown",
      "source": [
        "##Old and New Criteria"
      ],
      "metadata": {
        "id": "4eEOqgD-JuBU"
      }
    },
    {
      "cell_type": "code",
      "source": [
        "os.mkdir('from_Pandas/Old_Criteria')\n",
        "os.mkdir('from_Pandas/New_Criteria')"
      ],
      "metadata": {
        "id": "mwlgzwJqJtIV"
      },
      "execution_count": null,
      "outputs": []
    },
    {
      "cell_type": "markdown",
      "source": [
        "###Old Criteria Analysis"
      ],
      "metadata": {
        "id": "VhsqKrWUCQqX"
      }
    },
    {
      "cell_type": "code",
      "source": [
        "dfnames = ('df1','df2','df3','df4','df5','df6','df7')\n",
        "XTfilenames = ('XT1', 'XT2', 'XT3', 'XT4', 'XT5', 'XT6', 'XT7')"
      ],
      "metadata": {
        "id": "hkCen_AmfNsR"
      },
      "execution_count": null,
      "outputs": []
    },
    {
      "cell_type": "code",
      "source": [
        "os.mkdir('from_Pandas/Old_Criteria/Error')\n",
        "os.mkdir('from_Pandas/Old_Criteria/Stats')\n",
        "\n",
        "for b in dfnames:\n",
        "  os.mkdir(f'from_Pandas/Old_Criteria/{b}')\n",
        "for a in XTfilenames:\n",
        "  os.mkdir(f'from_Pandas/Old_Criteria/{a}')"
      ],
      "metadata": {
        "id": "50-3_FdHvvbG"
      },
      "execution_count": null,
      "outputs": []
    },
    {
      "cell_type": "markdown",
      "source": [
        "###New Criteria Analysis"
      ],
      "metadata": {
        "id": "6O0lqTVOLPUN"
      }
    },
    {
      "cell_type": "code",
      "source": [
        "os.mkdir('from_Pandas/New_Criteria/Error')\n",
        "os.mkdir('from_Pandas/New_Criteria/Stats')\n",
        "\n",
        "for b in dfnames:\n",
        "  os.mkdir(f'from_Pandas/New_Criteria/{b}')\n",
        "for a in XTfilenames:\n",
        "  os.mkdir(f'from_Pandas/New_Criteria/{a}')"
      ],
      "metadata": {
        "id": "f71_4W6sLPUN"
      },
      "execution_count": null,
      "outputs": []
    },
    {
      "cell_type": "markdown",
      "source": [
        "##Figures"
      ],
      "metadata": {
        "id": "p8urmXHnL21n"
      }
    },
    {
      "cell_type": "code",
      "source": [
        "os.mkdir('from_Pandas/Figures')"
      ],
      "metadata": {
        "id": "8D0Wz-Vk0T-P"
      },
      "execution_count": null,
      "outputs": []
    },
    {
      "cell_type": "markdown",
      "source": [
        "###Iterations"
      ],
      "metadata": {
        "id": "pO5NgrNkKuZa"
      }
    },
    {
      "cell_type": "code",
      "source": [
        "os.mkdir('from_Pandas/Iterations')"
      ],
      "metadata": {
        "id": "dn64aJ8SKwxB"
      },
      "execution_count": null,
      "outputs": []
    },
    {
      "cell_type": "markdown",
      "source": [
        "###Replicates"
      ],
      "metadata": {
        "id": "0nakTqSCFmEf"
      }
    },
    {
      "cell_type": "code",
      "source": [
        "os.mkdir('from_Pandas/Replicates')"
      ],
      "metadata": {
        "id": "Elk4p4S-Fy-I"
      },
      "execution_count": null,
      "outputs": []
    }
  ]
}