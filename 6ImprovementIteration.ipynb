{
  "nbformat": 4,
  "nbformat_minor": 0,
  "metadata": {
    "colab": {
      "provenance": [],
      "authorship_tag": "ABX9TyMueG311mYlA6rRaHm1eB4J",
      "include_colab_link": true
    },
    "kernelspec": {
      "name": "python3",
      "display_name": "Python 3"
    },
    "language_info": {
      "name": "python"
    }
  },
  "cells": [
    {
      "cell_type": "markdown",
      "metadata": {
        "id": "view-in-github",
        "colab_type": "text"
      },
      "source": [
        "<a href=\"https://colab.research.google.com/github/justcme/PerformanceSpecs/blob/main/6ImprovementIteration.ipynb\" target=\"_parent\"><img src=\"https://colab.research.google.com/assets/colab-badge.svg\" alt=\"Open In Colab\"/></a>"
      ]
    },
    {
      "cell_type": "markdown",
      "source": [
        "#SETUP"
      ],
      "metadata": {
        "id": "jSF3IUpbeWFJ"
      }
    },
    {
      "cell_type": "markdown",
      "source": [
        "###Directory"
      ],
      "metadata": {
        "id": "NLyzUI7Zftgm"
      }
    },
    {
      "cell_type": "code",
      "execution_count": null,
      "metadata": {
        "colab": {
          "base_uri": "https://localhost:8080/"
        },
        "id": "VArdwuSNdvCS",
        "outputId": "fbb939bd-1277-47ca-aa7c-97c9e7d46af5"
      },
      "outputs": [
        {
          "output_type": "stream",
          "name": "stdout",
          "text": [
            "Drive already mounted at /content/drive/; to attempt to forcibly remount, call drive.mount(\"/content/drive/\", force_remount=True).\n"
          ]
        }
      ],
      "source": [
        "import os\n",
        "from google.colab import drive\n",
        "drive.mount('/content/drive/')\n",
        "os.chdir('/content/drive/My Drive/Colab Notebooks/LipidPerf/from_Pandas')"
      ]
    },
    {
      "cell_type": "markdown",
      "source": [
        "###Imports"
      ],
      "metadata": {
        "id": "Wcec67yDfedq"
      }
    },
    {
      "cell_type": "code",
      "source": [
        "import numpy as np\n",
        "import pandas as pd\n",
        "from scipy.stats import norm\n",
        "from statistics import mean\n",
        "import seaborn as sns\n",
        "import matplotlib.pyplot as plt"
      ],
      "metadata": {
        "id": "SySMaNNDfh-e"
      },
      "execution_count": null,
      "outputs": []
    },
    {
      "cell_type": "markdown",
      "source": [
        "###Data"
      ],
      "metadata": {
        "id": "RFHbPPe1fyDp"
      }
    },
    {
      "cell_type": "code",
      "source": [
        "df_base = pd.read_csv('Base/df_base.csv')\n",
        "df0 = pd.read_csv('Base/df0.csv')"
      ],
      "metadata": {
        "id": "t29VO-yhf0Fq"
      },
      "execution_count": null,
      "outputs": []
    },
    {
      "cell_type": "markdown",
      "source": [
        "# FUNCTIONS"
      ],
      "metadata": {
        "id": "ENOhwRYofkW3"
      }
    },
    {
      "cell_type": "markdown",
      "source": [
        "## 1. Calculate and create columns for variable PCE terms and sum them"
      ],
      "metadata": {
        "id": "jxvy8dXRqZvK"
      }
    },
    {
      "cell_type": "code",
      "source": [
        "def AddSum2(df, par):\n",
        "  newdf = df.copy()\n",
        "\n",
        "  if par == 'TC':\n",
        "    HDL = df.loc[:,'HDL']\n",
        "    TC = df.iloc[:,12]\n",
        "  elif par == 'HDL':\n",
        "    HDL = df.iloc[:,12]\n",
        "    TC = df.loc[:,'TC']\n",
        "  else:\n",
        "    HDL = df.loc[:,'HDL']\n",
        "    TC = df.loc[:,'TC']\n",
        "\n",
        "  vcoeffs = ['CTotalChol','CAgeTotalChol','CHDLChol','CAgeHDLChol']\n",
        "\n",
        "  var_list = [np.log(TC), np.log(age)*np.log(TC), np.log(HDL), np.log(age)*np.log(HDL)]\n",
        "\n",
        "  newdf.loc[:,'add_sum']=0\n",
        "\n",
        "  for t,k in zip(vcoeffs, var_list):\n",
        "    newdf.loc[:,'add_sum'] += df[t]*k\n",
        "  \n",
        "  return newdf"
      ],
      "metadata": {
        "id": "mOsSZg5st8yY"
      },
      "execution_count": null,
      "outputs": []
    },
    {
      "cell_type": "markdown",
      "source": [
        "## 2. Pooled Cohort Equation (PCE)"
      ],
      "metadata": {
        "id": "FKdw-k9IgiLo"
      }
    },
    {
      "cell_type": "code",
      "source": [
        "def PCEcalc2(df):\n",
        "  newdf = df.copy()\n",
        "\n",
        "  newdf['terms'] = df['interum_sum'] + df['add_sum']\n",
        "  newdf['PCE'] = 100*(1 - newdf['S10'] ** (np.e ** (newdf['terms'] - newdf['MeanTerms'])))\n",
        "  \n",
        "  return newdf"
      ],
      "metadata": {
        "id": "SF2ne61OgkmS"
      },
      "execution_count": null,
      "outputs": []
    },
    {
      "cell_type": "markdown",
      "source": [
        "## 3. Calculate LDL-C"
      ],
      "metadata": {
        "id": "QHy5ut6aa5_Y"
      }
    },
    {
      "cell_type": "code",
      "source": [
        "def BLipoType2(df, par, Btype):\n",
        "  \"\"\"This function calculates LDL-C using the Friedewald equation, non-HDL-C,\n",
        "  and the ASCVD risk using the pooled cohort equation (PCE) from the American Heart Association.\"\"\"\n",
        "\n",
        "  newdf = df.copy()\n",
        "\n",
        "  if par == 'TC':\n",
        "    HDL = newdf.loc[:,'HDL']\n",
        "    TG = newdf.loc[:,'TG']\n",
        "    TC = newdf.iloc[:,12]\n",
        "  elif par == 'HDL':\n",
        "    HDL = newdf.iloc[:,12]\n",
        "    TG = newdf.loc[:,'TG']\n",
        "    TC = newdf.loc[:,'TC']\n",
        "  else:\n",
        "    HDL = newdf.loc[:,'HDL']\n",
        "    TG = newdf.iloc[:,12]\n",
        "    TC = newdf.loc[:,'TC']\n",
        "\n",
        "  if Btype == 'LDL':\n",
        "    # To calculate LDL-C: where TG<=400, use Friedewald, where >400, use Sampson  \n",
        "    newdf.loc[:,'cLDL'] = np.select(condlist = [newdf.loc[:,'TG']<=400, newdf.loc[:,'TG']>400],\n",
        "                                    choicelist = [TC - HDL - TG/5, TC/0.948 - HDL/0.971 - (TG/8.56 + (TG*(TC - HDL))/2140 - (TG**2)/16100) - 9.44],\n",
        "                                    default = np.nan)      \n",
        "  else:\n",
        "    newdf['NHDL'] = TC - HDL\n",
        "\n",
        "  return newdf"
      ],
      "metadata": {
        "id": "CNwQ2e_TYJSc"
      },
      "execution_count": null,
      "outputs": []
    },
    {
      "cell_type": "markdown",
      "source": [
        "## 4. Risk Group Determination"
      ],
      "metadata": {
        "id": "AqTrLRNSbG9R"
      }
    },
    {
      "cell_type": "code",
      "source": [
        "def Groups2(df,par, BType):\n",
        "  \"\"\"This function determines the Risk Group (A-D) based on LDL-C and non-HDL-C and creates a column for each.\"\"\"\n",
        "\n",
        "  newdf = df.copy()\n",
        "\n",
        "  if par == 'TG':\n",
        "    TG = newdf.iloc[:,12]\n",
        "  else:\n",
        "    TG = newdf.loc[:,'TG']\n",
        "\n",
        "  PCE = newdf['PCE']\n",
        "\n",
        "  if BType == 'LDL':\n",
        "    LDL = newdf['cLDL']\n",
        "    newdf.loc[:,'Lgroup'] = np.nan\n",
        "    newdf.loc[:,'Lgroup'] = np.select(condlist=[(PCE<7.5) | (LDL<70),\n",
        "                                                (PCE >=20) | (LDL >=190),\n",
        "                                                (LDL >=70) & (LDL <160) & (TG <175),\n",
        "                                                (LDL >=160) | (TG >=175)],\n",
        "                                      choicelist=['A','D', 'B', 'C'],\n",
        "                                      default=np.nan)\n",
        "  else:\n",
        "    NHDL = newdf['NHDL']\n",
        "    newdf.loc[:,'Ngroup'] = np.nan\n",
        "    newdf.loc[:,'Ngroup'] = np.select(condlist=[(PCE<7.5) | (NHDL<90),\n",
        "                                                (PCE >=20) | (NHDL >=220),\n",
        "                                                (NHDL >=90) & (NHDL <190) & (TG <175),\n",
        "                                                (NHDL >=190) | (TG >=175)],\n",
        "                                      choicelist=['A','D', 'B', 'C'],\n",
        "                                      default=np.nan)\n",
        "\n",
        "  return newdf"
      ],
      "metadata": {
        "id": "eIHmDKQadnFr"
      },
      "execution_count": null,
      "outputs": []
    },
    {
      "cell_type": "markdown",
      "source": [
        "##5. Call all functions to add necessary columns"
      ],
      "metadata": {
        "id": "hafw2r9-NBGK"
      }
    },
    {
      "cell_type": "code",
      "source": [
        "def AddCols2(df,par,BType):\n",
        "  \"\"\"This function adds variability to the lipid results and then calculates the terms for PCE calculation that are dependent on these.\n",
        "    It then sums those terms.\"\"\"\n",
        "\n",
        "#Add Sum of variable terms\n",
        "  df = AddSum2(df,par)\n",
        "  df = PCEcalc2(df)\n",
        "  df = BLipoType2(df,par,BType)\n",
        "  df = Groups2(df,par,BType)\n",
        "\n",
        "  return df"
      ],
      "metadata": {
        "id": "kWr5iayQPRHI"
      },
      "execution_count": null,
      "outputs": []
    },
    {
      "cell_type": "markdown",
      "source": [
        "## 6. Iterated Bias"
      ],
      "metadata": {
        "id": "G4axc_KRzANo"
      }
    },
    {
      "cell_type": "code",
      "source": [
        "def IterBias(BType, grouptype):\n",
        "  IterB = np.arange(0.90,1.10,0.02, dtype = 'float')\n",
        "  AveReclassdB = {}\n",
        "  AveReclassdB['Bias (%)'] = (IterB*100 - 100).astype(int)\n",
        "  for n,param in enumerate(params):\n",
        "    AveReclassdB[param] = []\n",
        "\n",
        "    for bias in IterB:\n",
        "      iter_bias = iter_df.copy()\n",
        "      total_reclassificationsB = 0\n",
        "      ReClassListB = []\n",
        "\n",
        "      iter_bias.loc[:,f'{param}_bias'] = bias*iter_bias.loc[:,param]\n",
        "\n",
        "      #If new values <0, make them = 1\n",
        "      iter_bias.loc[:,f'{param}_bias'] = np.select(condlist = [iter_bias.loc[:,f'{param}_bias']<0, iter_bias.loc[:,f'{param}_bias']>=0],\n",
        "                                                   choicelist = [1,iter_bias.loc[:,f'{param}_bias']],\n",
        "                                                   default = np.nan)\n",
        "      \n",
        "      iter_bias = AddCols2(iter_bias, param, BType)\n",
        "\n",
        "      XTB = pd.DataFrame(pd.crosstab(iter_bias[grouptype], df0[grouptype], normalize = True))\n",
        "      reclassTotalB = round(100*(1-XTB.loc['A','A']-XTB.loc['B','B']-XTB.loc['C','C']-XTB.loc['D','D']), ndigits=1)\n",
        "      ReClassListB.append(reclassTotalB)\n",
        "\n",
        "      AveReclassdB[param].append(round(mean(ReClassListB), ndigits=2))\n",
        "\n",
        "  totalmeansB = pd.DataFrame(AveReclassdB)\n",
        "  return totalmeansB\n",
        "#  totalmeansB.to_csv(f'Iterations/BXTmeans_{param}')"
      ],
      "metadata": {
        "id": "pKuIwTpy1QHh"
      },
      "execution_count": null,
      "outputs": []
    },
    {
      "cell_type": "markdown",
      "source": [
        "## 7. Iterated Imprecision"
      ],
      "metadata": {
        "id": "3CLqKMgZzG3T"
      }
    },
    {
      "cell_type": "code",
      "source": [
        "#np.random.randint(0,300,150)"
      ],
      "metadata": {
        "id": "TfV9tg2gusRd"
      },
      "execution_count": null,
      "outputs": []
    },
    {
      "cell_type": "code",
      "source": [
        "Seeds = [ 60,  12, 255, 197,  19,  49, 123,  33,  72, 272, 190, 172, 172,\n",
        "       224, 282,  59,  29,  68,  95, 276, 184,   1, 158, 170, 171, 220,\n",
        "       122, 223,  32, 113, 269, 257,  42, 282,  41,  79, 176,  36, 140,\n",
        "       150, 137,  65, 265, 158, 164,  74,  40, 285, 115,  82,   8,  11,\n",
        "        20, 172, 108, 166, 246, 254,  86,   7, 283, 182, 236, 202,  31,\n",
        "        97, 256, 265, 146,  51,  88, 103, 156, 172,  35,  74,   9, 147,\n",
        "        71,  21, 134, 207, 231, 236,  27, 233, 228,   9, 143, 117, 270,\n",
        "        39, 217, 245, 237, 203, 296, 184, 138, 150, 192, 237, 158, 170,\n",
        "       169, 215,  15, 145, 176, 124,  20, 205, 109, 179, 255, 219, 273,\n",
        "       246,  46, 236, 127, 179,  66, 143,   4,  50, 212, 299, 204,  52,\n",
        "       269, 134, 132, 182, 195, 243, 136, 195, 140,  84, 175,  38, 144,\n",
        "       177, 124,  67, 104, 286, 137, 136]"
      ],
      "metadata": {
        "id": "DQWdmGAMvJ1v"
      },
      "execution_count": null,
      "outputs": []
    },
    {
      "cell_type": "code",
      "source": [
        "def IterImp(BType, grouptype):\n",
        "  IterI = np.arange(1,9)/100\n",
        "  AveReclassdI = {}\n",
        "  AveReclassdI['Imprecision (%)'] = (IterI*100).astype(int)\n",
        "  for n,param in enumerate(params):\n",
        "    AveReclassdI[param] = []\n",
        "\n",
        "    for imp in IterI:\n",
        "      iter_imp = iter_df.copy()\n",
        "      total_reclassificationsI = 0\n",
        "      ReClassListI = []\n",
        "\n",
        "      for m in range(50):\n",
        "        pos = 3*m + n\n",
        "        a = np.random.RandomState(Seeds[pos])\n",
        "        iter_imp.loc[:,f'{param}_imp'] = norm.ppf(a.uniform(1e-16,0.9999999999999999,8506),\n",
        "                                                  loc = iter_imp.loc[:,param], scale = imp*iter_imp.loc[:,param]).astype('int')\n",
        "\n",
        "        iter_imp = AddCols2(iter_imp, param, BType)\n",
        "\n",
        "        XTI = pd.DataFrame(pd.crosstab(iter_imp[grouptype], df0[grouptype], normalize = True))\n",
        "        reclassTotalI = round(100*(1-XTI.loc['A','A']-XTI.loc['B','B']-XTI.loc['C','C']-XTI.loc['D','D']), ndigits=1)\n",
        "        ReClassListI.append(reclassTotalI)\n",
        "\n",
        "      AveReclassdI[param].append(round(mean(ReClassListI), ndigits=2))\n",
        "  totalmeansI = pd.DataFrame(AveReclassdI)\n",
        "\n",
        "  return totalmeansI\n",
        "#totalmeansI.to_csv(f'Iterations/IXTmeans_{param}')"
      ],
      "metadata": {
        "id": "1iDr5aIQqRvg"
      },
      "execution_count": null,
      "outputs": []
    },
    {
      "cell_type": "markdown",
      "source": [
        "#DATA MANIPULATION"
      ],
      "metadata": {
        "id": "shmouDWvgVOq"
      }
    },
    {
      "cell_type": "markdown",
      "source": [
        "###Create Dataframes"
      ],
      "metadata": {
        "id": "2rUCoDaJnX3N"
      }
    },
    {
      "cell_type": "code",
      "source": [
        "#base dataframe with variables for PCE calculation\n",
        "iter_df = df_base.iloc[:,[0,1,37,38,48,9,10,11,26,27,28,29]]"
      ],
      "metadata": {
        "id": "WoSQLwshsBv8"
      },
      "execution_count": null,
      "outputs": []
    },
    {
      "cell_type": "markdown",
      "source": [
        "Global Variables"
      ],
      "metadata": {
        "id": "r_94R0sEopH3"
      }
    },
    {
      "cell_type": "code",
      "source": [
        "params=['TC','HDL','TG']\n",
        "age = iter_df.loc[:,'age']"
      ],
      "metadata": {
        "id": "daim_C5fokUB"
      },
      "execution_count": null,
      "outputs": []
    },
    {
      "cell_type": "markdown",
      "source": [
        "# CALL FUNCTIONS"
      ],
      "metadata": {
        "id": "EL8-dyvdJZov"
      }
    },
    {
      "cell_type": "code",
      "source": [
        "biasd_LDL = IterBias('LDL','Lgroup')\n",
        "biasd_NHDL = IterBias('NHDL','Ngroup')"
      ],
      "metadata": {
        "id": "sWI6uCeu5S07"
      },
      "execution_count": null,
      "outputs": []
    },
    {
      "cell_type": "code",
      "source": [
        "imprecise_LDL = IterImp('LDL','Lgroup')\n",
        "imprecise_NHDL = IterImp('NHDL','Ngroup')"
      ],
      "metadata": {
        "id": "SpPZAjUO3XEq"
      },
      "execution_count": null,
      "outputs": []
    },
    {
      "cell_type": "markdown",
      "source": [
        "# PLOT DATA"
      ],
      "metadata": {
        "id": "dOwmuyDJ0rAE"
      }
    },
    {
      "cell_type": "code",
      "source": [
        "biasd_LDL['BLip'] = 'cLDL-C'\n",
        "biasd_NHDL['BLip'] = 'non-HDL-C'\n",
        "biasd_plot_df = pd.concat([biasd_LDL, biasd_NHDL], ignore_index= True)\n",
        "biasd_plot_df.head()"
      ],
      "metadata": {
        "colab": {
          "base_uri": "https://localhost:8080/",
          "height": 206
        },
        "id": "SguCgikwp4z3",
        "outputId": "1d595e66-0f8b-454a-b005-a59ecb76fbaf"
      },
      "execution_count": null,
      "outputs": [
        {
          "output_type": "execute_result",
          "data": {
            "text/plain": [
              "   Bias (%)   TC  HDL   TG    BLip\n",
              "0       -10  8.0  4.9  1.8  cLDL-C\n",
              "1        -8  6.5  3.9  1.5  cLDL-C\n",
              "2        -6  5.1  3.1  1.1  cLDL-C\n",
              "3        -3  3.6  2.0  0.7  cLDL-C\n",
              "4        -1  2.0  0.9  0.2  cLDL-C"
            ],
            "text/html": [
              "\n",
              "  <div id=\"df-1c6c4b43-fd8f-4811-a938-7ace6bd20406\">\n",
              "    <div class=\"colab-df-container\">\n",
              "      <div>\n",
              "<style scoped>\n",
              "    .dataframe tbody tr th:only-of-type {\n",
              "        vertical-align: middle;\n",
              "    }\n",
              "\n",
              "    .dataframe tbody tr th {\n",
              "        vertical-align: top;\n",
              "    }\n",
              "\n",
              "    .dataframe thead th {\n",
              "        text-align: right;\n",
              "    }\n",
              "</style>\n",
              "<table border=\"1\" class=\"dataframe\">\n",
              "  <thead>\n",
              "    <tr style=\"text-align: right;\">\n",
              "      <th></th>\n",
              "      <th>Bias (%)</th>\n",
              "      <th>TC</th>\n",
              "      <th>HDL</th>\n",
              "      <th>TG</th>\n",
              "      <th>BLip</th>\n",
              "    </tr>\n",
              "  </thead>\n",
              "  <tbody>\n",
              "    <tr>\n",
              "      <th>0</th>\n",
              "      <td>-10</td>\n",
              "      <td>8.0</td>\n",
              "      <td>4.9</td>\n",
              "      <td>1.8</td>\n",
              "      <td>cLDL-C</td>\n",
              "    </tr>\n",
              "    <tr>\n",
              "      <th>1</th>\n",
              "      <td>-8</td>\n",
              "      <td>6.5</td>\n",
              "      <td>3.9</td>\n",
              "      <td>1.5</td>\n",
              "      <td>cLDL-C</td>\n",
              "    </tr>\n",
              "    <tr>\n",
              "      <th>2</th>\n",
              "      <td>-6</td>\n",
              "      <td>5.1</td>\n",
              "      <td>3.1</td>\n",
              "      <td>1.1</td>\n",
              "      <td>cLDL-C</td>\n",
              "    </tr>\n",
              "    <tr>\n",
              "      <th>3</th>\n",
              "      <td>-3</td>\n",
              "      <td>3.6</td>\n",
              "      <td>2.0</td>\n",
              "      <td>0.7</td>\n",
              "      <td>cLDL-C</td>\n",
              "    </tr>\n",
              "    <tr>\n",
              "      <th>4</th>\n",
              "      <td>-1</td>\n",
              "      <td>2.0</td>\n",
              "      <td>0.9</td>\n",
              "      <td>0.2</td>\n",
              "      <td>cLDL-C</td>\n",
              "    </tr>\n",
              "  </tbody>\n",
              "</table>\n",
              "</div>\n",
              "      <button class=\"colab-df-convert\" onclick=\"convertToInteractive('df-1c6c4b43-fd8f-4811-a938-7ace6bd20406')\"\n",
              "              title=\"Convert this dataframe to an interactive table.\"\n",
              "              style=\"display:none;\">\n",
              "        \n",
              "  <svg xmlns=\"http://www.w3.org/2000/svg\" height=\"24px\"viewBox=\"0 0 24 24\"\n",
              "       width=\"24px\">\n",
              "    <path d=\"M0 0h24v24H0V0z\" fill=\"none\"/>\n",
              "    <path d=\"M18.56 5.44l.94 2.06.94-2.06 2.06-.94-2.06-.94-.94-2.06-.94 2.06-2.06.94zm-11 1L8.5 8.5l.94-2.06 2.06-.94-2.06-.94L8.5 2.5l-.94 2.06-2.06.94zm10 10l.94 2.06.94-2.06 2.06-.94-2.06-.94-.94-2.06-.94 2.06-2.06.94z\"/><path d=\"M17.41 7.96l-1.37-1.37c-.4-.4-.92-.59-1.43-.59-.52 0-1.04.2-1.43.59L10.3 9.45l-7.72 7.72c-.78.78-.78 2.05 0 2.83L4 21.41c.39.39.9.59 1.41.59.51 0 1.02-.2 1.41-.59l7.78-7.78 2.81-2.81c.8-.78.8-2.07 0-2.86zM5.41 20L4 18.59l7.72-7.72 1.47 1.35L5.41 20z\"/>\n",
              "  </svg>\n",
              "      </button>\n",
              "      \n",
              "  <style>\n",
              "    .colab-df-container {\n",
              "      display:flex;\n",
              "      flex-wrap:wrap;\n",
              "      gap: 12px;\n",
              "    }\n",
              "\n",
              "    .colab-df-convert {\n",
              "      background-color: #E8F0FE;\n",
              "      border: none;\n",
              "      border-radius: 50%;\n",
              "      cursor: pointer;\n",
              "      display: none;\n",
              "      fill: #1967D2;\n",
              "      height: 32px;\n",
              "      padding: 0 0 0 0;\n",
              "      width: 32px;\n",
              "    }\n",
              "\n",
              "    .colab-df-convert:hover {\n",
              "      background-color: #E2EBFA;\n",
              "      box-shadow: 0px 1px 2px rgba(60, 64, 67, 0.3), 0px 1px 3px 1px rgba(60, 64, 67, 0.15);\n",
              "      fill: #174EA6;\n",
              "    }\n",
              "\n",
              "    [theme=dark] .colab-df-convert {\n",
              "      background-color: #3B4455;\n",
              "      fill: #D2E3FC;\n",
              "    }\n",
              "\n",
              "    [theme=dark] .colab-df-convert:hover {\n",
              "      background-color: #434B5C;\n",
              "      box-shadow: 0px 1px 3px 1px rgba(0, 0, 0, 0.15);\n",
              "      filter: drop-shadow(0px 1px 2px rgba(0, 0, 0, 0.3));\n",
              "      fill: #FFFFFF;\n",
              "    }\n",
              "  </style>\n",
              "\n",
              "      <script>\n",
              "        const buttonEl =\n",
              "          document.querySelector('#df-1c6c4b43-fd8f-4811-a938-7ace6bd20406 button.colab-df-convert');\n",
              "        buttonEl.style.display =\n",
              "          google.colab.kernel.accessAllowed ? 'block' : 'none';\n",
              "\n",
              "        async function convertToInteractive(key) {\n",
              "          const element = document.querySelector('#df-1c6c4b43-fd8f-4811-a938-7ace6bd20406');\n",
              "          const dataTable =\n",
              "            await google.colab.kernel.invokeFunction('convertToInteractive',\n",
              "                                                     [key], {});\n",
              "          if (!dataTable) return;\n",
              "\n",
              "          const docLinkHtml = 'Like what you see? Visit the ' +\n",
              "            '<a target=\"_blank\" href=https://colab.research.google.com/notebooks/data_table.ipynb>data table notebook</a>'\n",
              "            + ' to learn more about interactive tables.';\n",
              "          element.innerHTML = '';\n",
              "          dataTable['output_type'] = 'display_data';\n",
              "          await google.colab.output.renderOutput(dataTable, element);\n",
              "          const docLink = document.createElement('div');\n",
              "          docLink.innerHTML = docLinkHtml;\n",
              "          element.appendChild(docLink);\n",
              "        }\n",
              "      </script>\n",
              "    </div>\n",
              "  </div>\n",
              "  "
            ]
          },
          "metadata": {},
          "execution_count": 42
        }
      ]
    },
    {
      "cell_type": "code",
      "source": [
        "imprecise_LDL['BLip'] = 'cLDL-C'\n",
        "imprecise_NHDL['BLip'] = 'non-HDL-C'\n",
        "imprecise_plot_df = pd.concat([imprecise_LDL, imprecise_NHDL], ignore_index= True)\n",
        "imprecise_plot_df.head()"
      ],
      "metadata": {
        "colab": {
          "base_uri": "https://localhost:8080/",
          "height": 206
        },
        "id": "rZs6X2W-plt4",
        "outputId": "18aa16b4-3af3-4396-da4d-6ce4e65d008c"
      },
      "execution_count": null,
      "outputs": [
        {
          "output_type": "execute_result",
          "data": {
            "text/plain": [
              "   Imprecision (%)    TC   HDL    TG    BLip\n",
              "0                1  0.95  0.60  0.10  cLDL-C\n",
              "1                2  1.77  0.87  0.26  cLDL-C\n",
              "2                3  2.51  1.23  0.42  cLDL-C\n",
              "3                4  3.25  1.57  0.59  cLDL-C\n",
              "4                5  3.93  1.91  0.75  cLDL-C"
            ],
            "text/html": [
              "\n",
              "  <div id=\"df-03c78dd1-a2f7-4cd7-be84-aef25580c8fe\">\n",
              "    <div class=\"colab-df-container\">\n",
              "      <div>\n",
              "<style scoped>\n",
              "    .dataframe tbody tr th:only-of-type {\n",
              "        vertical-align: middle;\n",
              "    }\n",
              "\n",
              "    .dataframe tbody tr th {\n",
              "        vertical-align: top;\n",
              "    }\n",
              "\n",
              "    .dataframe thead th {\n",
              "        text-align: right;\n",
              "    }\n",
              "</style>\n",
              "<table border=\"1\" class=\"dataframe\">\n",
              "  <thead>\n",
              "    <tr style=\"text-align: right;\">\n",
              "      <th></th>\n",
              "      <th>Imprecision (%)</th>\n",
              "      <th>TC</th>\n",
              "      <th>HDL</th>\n",
              "      <th>TG</th>\n",
              "      <th>BLip</th>\n",
              "    </tr>\n",
              "  </thead>\n",
              "  <tbody>\n",
              "    <tr>\n",
              "      <th>0</th>\n",
              "      <td>1</td>\n",
              "      <td>0.95</td>\n",
              "      <td>0.60</td>\n",
              "      <td>0.10</td>\n",
              "      <td>cLDL-C</td>\n",
              "    </tr>\n",
              "    <tr>\n",
              "      <th>1</th>\n",
              "      <td>2</td>\n",
              "      <td>1.77</td>\n",
              "      <td>0.87</td>\n",
              "      <td>0.26</td>\n",
              "      <td>cLDL-C</td>\n",
              "    </tr>\n",
              "    <tr>\n",
              "      <th>2</th>\n",
              "      <td>3</td>\n",
              "      <td>2.51</td>\n",
              "      <td>1.23</td>\n",
              "      <td>0.42</td>\n",
              "      <td>cLDL-C</td>\n",
              "    </tr>\n",
              "    <tr>\n",
              "      <th>3</th>\n",
              "      <td>4</td>\n",
              "      <td>3.25</td>\n",
              "      <td>1.57</td>\n",
              "      <td>0.59</td>\n",
              "      <td>cLDL-C</td>\n",
              "    </tr>\n",
              "    <tr>\n",
              "      <th>4</th>\n",
              "      <td>5</td>\n",
              "      <td>3.93</td>\n",
              "      <td>1.91</td>\n",
              "      <td>0.75</td>\n",
              "      <td>cLDL-C</td>\n",
              "    </tr>\n",
              "  </tbody>\n",
              "</table>\n",
              "</div>\n",
              "      <button class=\"colab-df-convert\" onclick=\"convertToInteractive('df-03c78dd1-a2f7-4cd7-be84-aef25580c8fe')\"\n",
              "              title=\"Convert this dataframe to an interactive table.\"\n",
              "              style=\"display:none;\">\n",
              "        \n",
              "  <svg xmlns=\"http://www.w3.org/2000/svg\" height=\"24px\"viewBox=\"0 0 24 24\"\n",
              "       width=\"24px\">\n",
              "    <path d=\"M0 0h24v24H0V0z\" fill=\"none\"/>\n",
              "    <path d=\"M18.56 5.44l.94 2.06.94-2.06 2.06-.94-2.06-.94-.94-2.06-.94 2.06-2.06.94zm-11 1L8.5 8.5l.94-2.06 2.06-.94-2.06-.94L8.5 2.5l-.94 2.06-2.06.94zm10 10l.94 2.06.94-2.06 2.06-.94-2.06-.94-.94-2.06-.94 2.06-2.06.94z\"/><path d=\"M17.41 7.96l-1.37-1.37c-.4-.4-.92-.59-1.43-.59-.52 0-1.04.2-1.43.59L10.3 9.45l-7.72 7.72c-.78.78-.78 2.05 0 2.83L4 21.41c.39.39.9.59 1.41.59.51 0 1.02-.2 1.41-.59l7.78-7.78 2.81-2.81c.8-.78.8-2.07 0-2.86zM5.41 20L4 18.59l7.72-7.72 1.47 1.35L5.41 20z\"/>\n",
              "  </svg>\n",
              "      </button>\n",
              "      \n",
              "  <style>\n",
              "    .colab-df-container {\n",
              "      display:flex;\n",
              "      flex-wrap:wrap;\n",
              "      gap: 12px;\n",
              "    }\n",
              "\n",
              "    .colab-df-convert {\n",
              "      background-color: #E8F0FE;\n",
              "      border: none;\n",
              "      border-radius: 50%;\n",
              "      cursor: pointer;\n",
              "      display: none;\n",
              "      fill: #1967D2;\n",
              "      height: 32px;\n",
              "      padding: 0 0 0 0;\n",
              "      width: 32px;\n",
              "    }\n",
              "\n",
              "    .colab-df-convert:hover {\n",
              "      background-color: #E2EBFA;\n",
              "      box-shadow: 0px 1px 2px rgba(60, 64, 67, 0.3), 0px 1px 3px 1px rgba(60, 64, 67, 0.15);\n",
              "      fill: #174EA6;\n",
              "    }\n",
              "\n",
              "    [theme=dark] .colab-df-convert {\n",
              "      background-color: #3B4455;\n",
              "      fill: #D2E3FC;\n",
              "    }\n",
              "\n",
              "    [theme=dark] .colab-df-convert:hover {\n",
              "      background-color: #434B5C;\n",
              "      box-shadow: 0px 1px 3px 1px rgba(0, 0, 0, 0.15);\n",
              "      filter: drop-shadow(0px 1px 2px rgba(0, 0, 0, 0.3));\n",
              "      fill: #FFFFFF;\n",
              "    }\n",
              "  </style>\n",
              "\n",
              "      <script>\n",
              "        const buttonEl =\n",
              "          document.querySelector('#df-03c78dd1-a2f7-4cd7-be84-aef25580c8fe button.colab-df-convert');\n",
              "        buttonEl.style.display =\n",
              "          google.colab.kernel.accessAllowed ? 'block' : 'none';\n",
              "\n",
              "        async function convertToInteractive(key) {\n",
              "          const element = document.querySelector('#df-03c78dd1-a2f7-4cd7-be84-aef25580c8fe');\n",
              "          const dataTable =\n",
              "            await google.colab.kernel.invokeFunction('convertToInteractive',\n",
              "                                                     [key], {});\n",
              "          if (!dataTable) return;\n",
              "\n",
              "          const docLinkHtml = 'Like what you see? Visit the ' +\n",
              "            '<a target=\"_blank\" href=https://colab.research.google.com/notebooks/data_table.ipynb>data table notebook</a>'\n",
              "            + ' to learn more about interactive tables.';\n",
              "          element.innerHTML = '';\n",
              "          dataTable['output_type'] = 'display_data';\n",
              "          await google.colab.output.renderOutput(dataTable, element);\n",
              "          const docLink = document.createElement('div');\n",
              "          docLink.innerHTML = docLinkHtml;\n",
              "          element.appendChild(docLink);\n",
              "        }\n",
              "      </script>\n",
              "    </div>\n",
              "  </div>\n",
              "  "
            ]
          },
          "metadata": {},
          "execution_count": 43
        }
      ]
    },
    {
      "cell_type": "code",
      "source": [
        "fig, ((ax1,ax2,ax3),(ax4,ax5,ax6)) = plt.subplots(nrows = 2, ncols = 3, sharex='row', figsize=(18,11), gridspec_kw={'wspace': 0.3, 'hspace': 0.3})\n",
        "#fig.suptitle('Effect of imprecision and bias in each parameter on reclassification by LDL-C and nonHDL-C', y= 0.98, fontsize=15)\n",
        "\n",
        "sns.set_context('paper', font_scale=1.2, rc={\"lines.linewidth\": 2, \"lines.markersize\":6})\n",
        "\n",
        "#Imprecision on LDL and NHDL\n",
        "sns.lineplot(data = imprecise_plot_df, x='Imprecision (%)', y='TC', ax=ax1, palette='deep', marker = 'o', hue = 'BLip')\n",
        "sns.lineplot(data = imprecise_plot_df, x='Imprecision (%)', y='HDL', ax=ax2, marker = 'o', hue = 'BLip', legend = False)\n",
        "sns.lineplot(data = imprecise_plot_df, x='Imprecision (%)', y='TG', ax=ax3, marker = 'o', hue = 'BLip', legend = False)\n",
        "\n",
        "## Bias on LDL and NHDL\n",
        "sns.lineplot(data = biasd_plot_df, x='Bias (%)', y='TC', ax=ax4, marker = 'o', hue = 'BLip', legend = False)\n",
        "sns.lineplot(data = biasd_plot_df, x='Bias (%)', y='HDL', ax=ax5, marker = 'o', hue = 'BLip', legend = False)\n",
        "sns.lineplot(data = biasd_plot_df, x='Bias (%)', y='TG', ax=ax6, marker = 'o', hue = 'BLip', legend = False)\n",
        "\n",
        "sns.despine()\n",
        "ax1.legend(title=None)\n",
        "for ax,p in zip([ax1,ax2,ax3],params):\n",
        "  ax.set_title(p)\n",
        "for ax in (ax1,ax4):\n",
        "  ax.set_ylabel('Misclassified (%)')\n",
        "for ax in (ax2,ax3,ax5,ax6):\n",
        "  ax.set_ylabel('')\n",
        "\n",
        "fig.savefig('Figures/PNG/Iterations.png', dpi = 600)"
      ],
      "metadata": {
        "colab": {
          "base_uri": "https://localhost:8080/",
          "height": 680
        },
        "id": "4MFtz1-bfJ9N",
        "outputId": "3b674166-5928-464f-f3ba-93a3d08aee37"
      },
      "execution_count": null,
      "outputs": [
        {
          "output_type": "display_data",
          "data": {
            "text/plain": [
              "<Figure size 1296x792 with 6 Axes>"
            ],
            "image/png": "[encoded data removed]"
          },
          "metadata": {
            "needs_background": "light"
          }
        }
      ]
    },
    {
      "cell_type": "code",
      "source": [
        "fig.savefig('Figures/Iterations.jpg', dpi = 600)"
      ],
      "metadata": {
        "id": "lhFABG5P-QIy"
      },
      "execution_count": null,
      "outputs": []
    }
  ]
}