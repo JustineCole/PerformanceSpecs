{
  "nbformat": 4,
  "nbformat_minor": 0,
  "metadata": {
    "colab": {
      "provenance": [],
      "collapsed_sections": [
        "ENOhwRYofkW3",
        "FKdw-k9IgiLo",
        "06sqC-6nZThU"
      ],
      "authorship_tag": "ABX9TyNoT63UjdwixwUtMAZZoVC4",
      "include_colab_link": true
    },
    "kernelspec": {
      "name": "python3",
      "display_name": "Python 3"
    },
    "language_info": {
      "name": "python"
    }
  },
  "cells": [
    {
      "cell_type": "markdown",
      "metadata": {
        "id": "view-in-github",
        "colab_type": "text"
      },
      "source": [
        "<a href=\"https://colab.research.google.com/github/justcme/PerformanceSpecs/blob/main/C_DataExplorationCleaning.ipynb\" target=\"_parent\"><img src=\"https://colab.research.google.com/assets/colab-badge.svg\" alt=\"Open In Colab\"/></a>"
      ]
    },
    {
      "cell_type": "markdown",
      "source": [
        "# Lipid Panel Performance Recommendations\n",
        "### Data Cleaning\n",
        "\n",
        "*   Loaded data from NHANES.\n",
        "*   Renamed variables.\n",
        "*   Encoded categorical variables.\n",
        "*   Reordered columns.\n",
        "*   Addressed \"missingness\".\n",
        "*   Added variable column (not on BP treatment) required for PCE calculation\n",
        "*   Applied exclusion criteria.\n",
        "*   Selected columns required for analysis.\n"
      ],
      "metadata": {
        "id": "_9T2VaL1Fwee"
      }
    },
    {
      "cell_type": "markdown",
      "source": [
        "# SETUP"
      ],
      "metadata": {
        "id": "1Og253ECcLjr"
      }
    },
    {
      "cell_type": "markdown",
      "source": [
        "OS"
      ],
      "metadata": {
        "id": "9R9VUIVvGQUe"
      }
    },
    {
      "cell_type": "code",
      "execution_count": null,
      "metadata": {
        "colab": {
          "base_uri": "https://localhost:8080/"
        },
        "id": "VpubywtBFIq_",
        "outputId": "58e34e05-304f-4635-86ac-1bd78b5943e7"
      },
      "outputs": [
        {
          "output_type": "stream",
          "name": "stdout",
          "text": [
            "Mounted at /content/drive/\n"
          ]
        }
      ],
      "source": [
        "import os\n",
        "from google.colab import drive\n",
        "drive.mount('/content/drive/')\n",
        "os.chdir(\"/content/drive/My Drive/Colab Notebooks/LipidPerf\")"
      ]
    },
    {
      "cell_type": "markdown",
      "source": [
        "Imports"
      ],
      "metadata": {
        "id": "xDokOY5WIcu6"
      }
    },
    {
      "cell_type": "code",
      "source": [
        "import numpy as np\n",
        "import pandas as pd\n",
        "import matplotlib.pyplot as plt\n",
        "import seaborn as sns"
      ],
      "metadata": {
        "id": "VSJUwh6cId8S"
      },
      "execution_count": null,
      "outputs": []
    },
    {
      "cell_type": "markdown",
      "source": [
        "# DATA"
      ],
      "metadata": {
        "id": "rAziTdPTIeV5"
      }
    },
    {
      "cell_type": "code",
      "source": [
        "data1 = pd.read_csv(\"NHANES_RAW.csv\")  #Original Lipid Data"
      ],
      "metadata": {
        "id": "iG7JjLnAFZX1"
      },
      "execution_count": null,
      "outputs": []
    },
    {
      "cell_type": "markdown",
      "source": [
        "# Data Exploration"
      ],
      "metadata": {
        "id": "fIE_20is9qbG"
      }
    },
    {
      "cell_type": "code",
      "source": [
        "data1"
      ],
      "metadata": {
        "id": "vTC2fl_gMJNU",
        "outputId": "8ae1eca7-fce9-4716-d5c7-8e5e8d21ebb8",
        "colab": {
          "base_uri": "https://localhost:8080/",
          "height": 424
        }
      },
      "execution_count": null,
      "outputs": [
        {
          "output_type": "execute_result",
          "data": {
            "text/plain": [
              "           ID       ethnicity  age gender  current bp meds  current smoker  \\\n",
              "0       31131            NH B   44      F              1.0             0.0   \n",
              "1       31132            NH W   70      M              1.0             0.0   \n",
              "2       31133            NH B   16      F              0.0             0.0   \n",
              "3       31134            NH W   73      M              1.0             0.0   \n",
              "4       31148            NH W   16      F              0.0             0.0   \n",
              "...       ...             ...  ...    ...              ...             ...   \n",
              "28717  124815            NH B   52      M              NaN             0.0   \n",
              "28718  124817         Mexican   67      F              NaN             NaN   \n",
              "28719  124818            NH B   40      M              NaN             NaN   \n",
              "28720  124821            NH B   63      M              1.0             NaN   \n",
              "28721  124822  other Hispanic   74      M              NaN             NaN   \n",
              "\n",
              "       diabetes  current lipid meds  GLU  HDL   TC   TG    SBP        DBP  \n",
              "0           0.0                 0.0   90   39  105   86  139.0  73.000000  \n",
              "1           1.0                 1.0  157   59  147   65  131.0  56.000000  \n",
              "2           0.0                 NaN   84   54  147   61  119.0  47.000000  \n",
              "3           0.0                 1.0  100   49  186  195  120.0  67.000000  \n",
              "4           0.0                 NaN   91   53  126   67  107.0  51.000000  \n",
              "...         ...                 ...  ...  ...  ...  ...    ...        ...  \n",
              "28717       0.0                 NaN  102   67  203   51  140.0  86.666667  \n",
              "28718       1.0                 1.0   81   60  200  112  112.0  67.333333  \n",
              "28719       0.0                 NaN   96   50  234   71  103.0  67.333333  \n",
              "28720       1.0                 0.0  125   44  155   52  124.0  66.666667  \n",
              "28721       0.0                 1.0   96   65  171   77  122.0  56.333333  \n",
              "\n",
              "[28722 rows x 14 columns]"
            ],
            "text/html": [
              "\n",
              "  <div id=\"df-2d9cf5eb-0714-4792-a06b-b9ef79b819a4\">\n",
              "    <div class=\"colab-df-container\">\n",
              "      <div>\n",
              "<style scoped>\n",
              "    .dataframe tbody tr th:only-of-type {\n",
              "        vertical-align: middle;\n",
              "    }\n",
              "\n",
              "    .dataframe tbody tr th {\n",
              "        vertical-align: top;\n",
              "    }\n",
              "\n",
              "    .dataframe thead th {\n",
              "        text-align: right;\n",
              "    }\n",
              "</style>\n",
              "<table border=\"1\" class=\"dataframe\">\n",
              "  <thead>\n",
              "    <tr style=\"text-align: right;\">\n",
              "      <th></th>\n",
              "      <th>ID</th>\n",
              "      <th>ethnicity</th>\n",
              "      <th>age</th>\n",
              "      <th>gender</th>\n",
              "      <th>current bp meds</th>\n",
              "      <th>current smoker</th>\n",
              "      <th>diabetes</th>\n",
              "      <th>current lipid meds</th>\n",
              "      <th>GLU</th>\n",
              "      <th>HDL</th>\n",
              "      <th>TC</th>\n",
              "      <th>TG</th>\n",
              "      <th>SBP</th>\n",
              "      <th>DBP</th>\n",
              "    </tr>\n",
              "  </thead>\n",
              "  <tbody>\n",
              "    <tr>\n",
              "      <th>0</th>\n",
              "      <td>31131</td>\n",
              "      <td>NH B</td>\n",
              "      <td>44</td>\n",
              "      <td>F</td>\n",
              "      <td>1.0</td>\n",
              "      <td>0.0</td>\n",
              "      <td>0.0</td>\n",
              "      <td>0.0</td>\n",
              "      <td>90</td>\n",
              "      <td>39</td>\n",
              "      <td>105</td>\n",
              "      <td>86</td>\n",
              "      <td>139.0</td>\n",
              "      <td>73.000000</td>\n",
              "    </tr>\n",
              "    <tr>\n",
              "      <th>1</th>\n",
              "      <td>31132</td>\n",
              "      <td>NH W</td>\n",
              "      <td>70</td>\n",
              "      <td>M</td>\n",
              "      <td>1.0</td>\n",
              "      <td>0.0</td>\n",
              "      <td>1.0</td>\n",
              "      <td>1.0</td>\n",
              "      <td>157</td>\n",
              "      <td>59</td>\n",
              "      <td>147</td>\n",
              "      <td>65</td>\n",
              "      <td>131.0</td>\n",
              "      <td>56.000000</td>\n",
              "    </tr>\n",
              "    <tr>\n",
              "      <th>2</th>\n",
              "      <td>31133</td>\n",
              "      <td>NH B</td>\n",
              "      <td>16</td>\n",
              "      <td>F</td>\n",
              "      <td>0.0</td>\n",
              "      <td>0.0</td>\n",
              "      <td>0.0</td>\n",
              "      <td>NaN</td>\n",
              "      <td>84</td>\n",
              "      <td>54</td>\n",
              "      <td>147</td>\n",
              "      <td>61</td>\n",
              "      <td>119.0</td>\n",
              "      <td>47.000000</td>\n",
              "    </tr>\n",
              "    <tr>\n",
              "      <th>3</th>\n",
              "      <td>31134</td>\n",
              "      <td>NH W</td>\n",
              "      <td>73</td>\n",
              "      <td>M</td>\n",
              "      <td>1.0</td>\n",
              "      <td>0.0</td>\n",
              "      <td>0.0</td>\n",
              "      <td>1.0</td>\n",
              "      <td>100</td>\n",
              "      <td>49</td>\n",
              "      <td>186</td>\n",
              "      <td>195</td>\n",
              "      <td>120.0</td>\n",
              "      <td>67.000000</td>\n",
              "    </tr>\n",
              "    <tr>\n",
              "      <th>4</th>\n",
              "      <td>31148</td>\n",
              "      <td>NH W</td>\n",
              "      <td>16</td>\n",
              "      <td>F</td>\n",
              "      <td>0.0</td>\n",
              "      <td>0.0</td>\n",
              "      <td>0.0</td>\n",
              "      <td>NaN</td>\n",
              "      <td>91</td>\n",
              "      <td>53</td>\n",
              "      <td>126</td>\n",
              "      <td>67</td>\n",
              "      <td>107.0</td>\n",
              "      <td>51.000000</td>\n",
              "    </tr>\n",
              "    <tr>\n",
              "      <th>...</th>\n",
              "      <td>...</td>\n",
              "      <td>...</td>\n",
              "      <td>...</td>\n",
              "      <td>...</td>\n",
              "      <td>...</td>\n",
              "      <td>...</td>\n",
              "      <td>...</td>\n",
              "      <td>...</td>\n",
              "      <td>...</td>\n",
              "      <td>...</td>\n",
              "      <td>...</td>\n",
              "      <td>...</td>\n",
              "      <td>...</td>\n",
              "      <td>...</td>\n",
              "    </tr>\n",
              "    <tr>\n",
              "      <th>28717</th>\n",
              "      <td>124815</td>\n",
              "      <td>NH B</td>\n",
              "      <td>52</td>\n",
              "      <td>M</td>\n",
              "      <td>NaN</td>\n",
              "      <td>0.0</td>\n",
              "      <td>0.0</td>\n",
              "      <td>NaN</td>\n",
              "      <td>102</td>\n",
              "      <td>67</td>\n",
              "      <td>203</td>\n",
              "      <td>51</td>\n",
              "      <td>140.0</td>\n",
              "      <td>86.666667</td>\n",
              "    </tr>\n",
              "    <tr>\n",
              "      <th>28718</th>\n",
              "      <td>124817</td>\n",
              "      <td>Mexican</td>\n",
              "      <td>67</td>\n",
              "      <td>F</td>\n",
              "      <td>NaN</td>\n",
              "      <td>NaN</td>\n",
              "      <td>1.0</td>\n",
              "      <td>1.0</td>\n",
              "      <td>81</td>\n",
              "      <td>60</td>\n",
              "      <td>200</td>\n",
              "      <td>112</td>\n",
              "      <td>112.0</td>\n",
              "      <td>67.333333</td>\n",
              "    </tr>\n",
              "    <tr>\n",
              "      <th>28719</th>\n",
              "      <td>124818</td>\n",
              "      <td>NH B</td>\n",
              "      <td>40</td>\n",
              "      <td>M</td>\n",
              "      <td>NaN</td>\n",
              "      <td>NaN</td>\n",
              "      <td>0.0</td>\n",
              "      <td>NaN</td>\n",
              "      <td>96</td>\n",
              "      <td>50</td>\n",
              "      <td>234</td>\n",
              "      <td>71</td>\n",
              "      <td>103.0</td>\n",
              "      <td>67.333333</td>\n",
              "    </tr>\n",
              "    <tr>\n",
              "      <th>28720</th>\n",
              "      <td>124821</td>\n",
              "      <td>NH B</td>\n",
              "      <td>63</td>\n",
              "      <td>M</td>\n",
              "      <td>1.0</td>\n",
              "      <td>NaN</td>\n",
              "      <td>1.0</td>\n",
              "      <td>0.0</td>\n",
              "      <td>125</td>\n",
              "      <td>44</td>\n",
              "      <td>155</td>\n",
              "      <td>52</td>\n",
              "      <td>124.0</td>\n",
              "      <td>66.666667</td>\n",
              "    </tr>\n",
              "    <tr>\n",
              "      <th>28721</th>\n",
              "      <td>124822</td>\n",
              "      <td>other Hispanic</td>\n",
              "      <td>74</td>\n",
              "      <td>M</td>\n",
              "      <td>NaN</td>\n",
              "      <td>NaN</td>\n",
              "      <td>0.0</td>\n",
              "      <td>1.0</td>\n",
              "      <td>96</td>\n",
              "      <td>65</td>\n",
              "      <td>171</td>\n",
              "      <td>77</td>\n",
              "      <td>122.0</td>\n",
              "      <td>56.333333</td>\n",
              "    </tr>\n",
              "  </tbody>\n",
              "</table>\n",
              "<p>28722 rows × 14 columns</p>\n",
              "</div>\n",
              "      <button class=\"colab-df-convert\" onclick=\"convertToInteractive('df-2d9cf5eb-0714-4792-a06b-b9ef79b819a4')\"\n",
              "              title=\"Convert this dataframe to an interactive table.\"\n",
              "              style=\"display:none;\">\n",
              "        \n",
              "  <svg xmlns=\"http://www.w3.org/2000/svg\" height=\"24px\"viewBox=\"0 0 24 24\"\n",
              "       width=\"24px\">\n",
              "    <path d=\"M0 0h24v24H0V0z\" fill=\"none\"/>\n",
              "    <path d=\"M18.56 5.44l.94 2.06.94-2.06 2.06-.94-2.06-.94-.94-2.06-.94 2.06-2.06.94zm-11 1L8.5 8.5l.94-2.06 2.06-.94-2.06-.94L8.5 2.5l-.94 2.06-2.06.94zm10 10l.94 2.06.94-2.06 2.06-.94-2.06-.94-.94-2.06-.94 2.06-2.06.94z\"/><path d=\"M17.41 7.96l-1.37-1.37c-.4-.4-.92-.59-1.43-.59-.52 0-1.04.2-1.43.59L10.3 9.45l-7.72 7.72c-.78.78-.78 2.05 0 2.83L4 21.41c.39.39.9.59 1.41.59.51 0 1.02-.2 1.41-.59l7.78-7.78 2.81-2.81c.8-.78.8-2.07 0-2.86zM5.41 20L4 18.59l7.72-7.72 1.47 1.35L5.41 20z\"/>\n",
              "  </svg>\n",
              "      </button>\n",
              "      \n",
              "  <style>\n",
              "    .colab-df-container {\n",
              "      display:flex;\n",
              "      flex-wrap:wrap;\n",
              "      gap: 12px;\n",
              "    }\n",
              "\n",
              "    .colab-df-convert {\n",
              "      background-color: #E8F0FE;\n",
              "      border: none;\n",
              "      border-radius: 50%;\n",
              "      cursor: pointer;\n",
              "      display: none;\n",
              "      fill: #1967D2;\n",
              "      height: 32px;\n",
              "      padding: 0 0 0 0;\n",
              "      width: 32px;\n",
              "    }\n",
              "\n",
              "    .colab-df-convert:hover {\n",
              "      background-color: #E2EBFA;\n",
              "      box-shadow: 0px 1px 2px rgba(60, 64, 67, 0.3), 0px 1px 3px 1px rgba(60, 64, 67, 0.15);\n",
              "      fill: #174EA6;\n",
              "    }\n",
              "\n",
              "    [theme=dark] .colab-df-convert {\n",
              "      background-color: #3B4455;\n",
              "      fill: #D2E3FC;\n",
              "    }\n",
              "\n",
              "    [theme=dark] .colab-df-convert:hover {\n",
              "      background-color: #434B5C;\n",
              "      box-shadow: 0px 1px 3px 1px rgba(0, 0, 0, 0.15);\n",
              "      filter: drop-shadow(0px 1px 2px rgba(0, 0, 0, 0.3));\n",
              "      fill: #FFFFFF;\n",
              "    }\n",
              "  </style>\n",
              "\n",
              "      <script>\n",
              "        const buttonEl =\n",
              "          document.querySelector('#df-2d9cf5eb-0714-4792-a06b-b9ef79b819a4 button.colab-df-convert');\n",
              "        buttonEl.style.display =\n",
              "          google.colab.kernel.accessAllowed ? 'block' : 'none';\n",
              "\n",
              "        async function convertToInteractive(key) {\n",
              "          const element = document.querySelector('#df-2d9cf5eb-0714-4792-a06b-b9ef79b819a4');\n",
              "          const dataTable =\n",
              "            await google.colab.kernel.invokeFunction('convertToInteractive',\n",
              "                                                     [key], {});\n",
              "          if (!dataTable) return;\n",
              "\n",
              "          const docLinkHtml = 'Like what you see? Visit the ' +\n",
              "            '<a target=\"_blank\" href=https://colab.research.google.com/notebooks/data_table.ipynb>data table notebook</a>'\n",
              "            + ' to learn more about interactive tables.';\n",
              "          element.innerHTML = '';\n",
              "          dataTable['output_type'] = 'display_data';\n",
              "          await google.colab.output.renderOutput(dataTable, element);\n",
              "          const docLink = document.createElement('div');\n",
              "          docLink.innerHTML = docLinkHtml;\n",
              "          element.appendChild(docLink);\n",
              "        }\n",
              "      </script>\n",
              "    </div>\n",
              "  </div>\n",
              "  "
            ]
          },
          "metadata": {},
          "execution_count": 82
        }
      ]
    },
    {
      "cell_type": "code",
      "source": [
        "data1.shape"
      ],
      "metadata": {
        "colab": {
          "base_uri": "https://localhost:8080/"
        },
        "id": "qB-qaf3A9u-f",
        "outputId": "502b97f9-9891-4683-86c7-7a7a6d03ba1a"
      },
      "execution_count": null,
      "outputs": [
        {
          "output_type": "execute_result",
          "data": {
            "text/plain": [
              "(28722, 14)"
            ]
          },
          "metadata": {},
          "execution_count": 83
        }
      ]
    },
    {
      "cell_type": "code",
      "source": [
        "data1.dtypes"
      ],
      "metadata": {
        "colab": {
          "base_uri": "https://localhost:8080/"
        },
        "id": "Ewz0nOnK-L7O",
        "outputId": "e6d60704-1fc2-4694-fb39-d6069ab0db3e"
      },
      "execution_count": null,
      "outputs": [
        {
          "output_type": "execute_result",
          "data": {
            "text/plain": [
              "ID                      int64\n",
              "ethnicity              object\n",
              "age                     int64\n",
              "gender                 object\n",
              "current bp meds       float64\n",
              "current smoker        float64\n",
              "diabetes              float64\n",
              "current lipid meds    float64\n",
              "GLU                     int64\n",
              "HDL                     int64\n",
              "TC                      int64\n",
              "TG                      int64\n",
              "SBP                   float64\n",
              "DBP                   float64\n",
              "dtype: object"
            ]
          },
          "metadata": {},
          "execution_count": 84
        }
      ]
    },
    {
      "cell_type": "code",
      "source": [
        "data1.isnull().sum()"
      ],
      "metadata": {
        "colab": {
          "base_uri": "https://localhost:8080/"
        },
        "id": "83EuM5v9-kFt",
        "outputId": "44dfc1ab-9be3-410d-9056-8d371ccf4b6f"
      },
      "execution_count": null,
      "outputs": [
        {
          "output_type": "execute_result",
          "data": {
            "text/plain": [
              "ID                        0\n",
              "ethnicity                 0\n",
              "age                       0\n",
              "gender                    0\n",
              "current bp meds        6002\n",
              "current smoker         5493\n",
              "diabetes                 18\n",
              "current lipid meds    11733\n",
              "GLU                       0\n",
              "HDL                       0\n",
              "TC                        0\n",
              "TG                        0\n",
              "SBP                       0\n",
              "DBP                     394\n",
              "dtype: int64"
            ]
          },
          "metadata": {},
          "execution_count": 85
        }
      ]
    },
    {
      "cell_type": "code",
      "source": [
        "data1.describe(include = 'all')"
      ],
      "metadata": {
        "colab": {
          "base_uri": "https://localhost:8080/",
          "height": 394
        },
        "id": "f8ZKF6JH-78G",
        "outputId": "e916ebda-4896-4fd4-cbd0-fd86d1274047"
      },
      "execution_count": null,
      "outputs": [
        {
          "output_type": "execute_result",
          "data": {
            "text/plain": [
              "                   ID ethnicity           age gender  current bp meds  \\\n",
              "count    28722.000000     28722  28722.000000  28722     22720.000000   \n",
              "unique            NaN         7           NaN      2              NaN   \n",
              "top               NaN      NH W           NaN      F              NaN   \n",
              "freq              NaN     11138           NaN  14548              NaN   \n",
              "mean     81475.166667       NaN     43.806072    NaN         0.295731   \n",
              "std      29025.256746       NaN     20.885156    NaN         0.456381   \n",
              "min      31131.000000       NaN     12.000000    NaN         0.000000   \n",
              "25%      55881.250000       NaN     24.000000    NaN         0.000000   \n",
              "50%      81565.000000       NaN     44.000000    NaN         0.000000   \n",
              "75%     111739.750000       NaN     61.000000    NaN         1.000000   \n",
              "max     124822.000000       NaN     85.000000    NaN         1.000000   \n",
              "\n",
              "        current smoker      diabetes  current lipid meds           GLU  \\\n",
              "count     23229.000000  28704.000000        16989.000000  28722.000000   \n",
              "unique             NaN           NaN                 NaN           NaN   \n",
              "top                NaN           NaN                 NaN           NaN   \n",
              "freq               NaN           NaN                 NaN           NaN   \n",
              "mean          0.200009      0.135974            0.277650    105.932317   \n",
              "std           0.400015      0.342767            0.447853     34.525144   \n",
              "min           0.000000      0.000000            0.000000     21.000000   \n",
              "25%           0.000000      0.000000            0.000000     91.000000   \n",
              "50%           0.000000      0.000000            0.000000     98.000000   \n",
              "75%           0.000000      0.000000            1.000000    108.000000   \n",
              "max           1.000000      1.000000            1.000000    626.000000   \n",
              "\n",
              "                 HDL            TC            TG           SBP           DBP  \n",
              "count   28722.000000  28722.000000  28722.000000  28722.000000  28328.000000  \n",
              "unique           NaN           NaN           NaN           NaN           NaN  \n",
              "top              NaN           NaN           NaN           NaN           NaN  \n",
              "freq             NaN           NaN           NaN           NaN           NaN  \n",
              "mean       53.722408    184.233967    121.829817    121.308614     69.197555  \n",
              "std        15.486417     41.963119     94.450695     18.465471     12.587972  \n",
              "min         5.000000     66.000000     10.000000     65.000000      4.000000  \n",
              "25%        43.000000    154.000000     67.000000    108.666667     61.000000  \n",
              "50%        51.000000    180.000000     98.000000    118.000000     69.000000  \n",
              "75%        62.000000    210.000000    147.000000    131.000000     77.000000  \n",
              "max       226.000000    463.000000   2923.000000    235.000000    135.000000  "
            ],
            "text/html": [
              "\n",
              "  <div id=\"df-e6c1c1c3-1d87-4a9d-8979-29994d825b88\">\n",
              "    <div class=\"colab-df-container\">\n",
              "      <div>\n",
              "<style scoped>\n",
              "    .dataframe tbody tr th:only-of-type {\n",
              "        vertical-align: middle;\n",
              "    }\n",
              "\n",
              "    .dataframe tbody tr th {\n",
              "        vertical-align: top;\n",
              "    }\n",
              "\n",
              "    .dataframe thead th {\n",
              "        text-align: right;\n",
              "    }\n",
              "</style>\n",
              "<table border=\"1\" class=\"dataframe\">\n",
              "  <thead>\n",
              "    <tr style=\"text-align: right;\">\n",
              "      <th></th>\n",
              "      <th>ID</th>\n",
              "      <th>ethnicity</th>\n",
              "      <th>age</th>\n",
              "      <th>gender</th>\n",
              "      <th>current bp meds</th>\n",
              "      <th>current smoker</th>\n",
              "      <th>diabetes</th>\n",
              "      <th>current lipid meds</th>\n",
              "      <th>GLU</th>\n",
              "      <th>HDL</th>\n",
              "      <th>TC</th>\n",
              "      <th>TG</th>\n",
              "      <th>SBP</th>\n",
              "      <th>DBP</th>\n",
              "    </tr>\n",
              "  </thead>\n",
              "  <tbody>\n",
              "    <tr>\n",
              "      <th>count</th>\n",
              "      <td>28722.000000</td>\n",
              "      <td>28722</td>\n",
              "      <td>28722.000000</td>\n",
              "      <td>28722</td>\n",
              "      <td>22720.000000</td>\n",
              "      <td>23229.000000</td>\n",
              "      <td>28704.000000</td>\n",
              "      <td>16989.000000</td>\n",
              "      <td>28722.000000</td>\n",
              "      <td>28722.000000</td>\n",
              "      <td>28722.000000</td>\n",
              "      <td>28722.000000</td>\n",
              "      <td>28722.000000</td>\n",
              "      <td>28328.000000</td>\n",
              "    </tr>\n",
              "    <tr>\n",
              "      <th>unique</th>\n",
              "      <td>NaN</td>\n",
              "      <td>7</td>\n",
              "      <td>NaN</td>\n",
              "      <td>2</td>\n",
              "      <td>NaN</td>\n",
              "      <td>NaN</td>\n",
              "      <td>NaN</td>\n",
              "      <td>NaN</td>\n",
              "      <td>NaN</td>\n",
              "      <td>NaN</td>\n",
              "      <td>NaN</td>\n",
              "      <td>NaN</td>\n",
              "      <td>NaN</td>\n",
              "      <td>NaN</td>\n",
              "    </tr>\n",
              "    <tr>\n",
              "      <th>top</th>\n",
              "      <td>NaN</td>\n",
              "      <td>NH W</td>\n",
              "      <td>NaN</td>\n",
              "      <td>F</td>\n",
              "      <td>NaN</td>\n",
              "      <td>NaN</td>\n",
              "      <td>NaN</td>\n",
              "      <td>NaN</td>\n",
              "      <td>NaN</td>\n",
              "      <td>NaN</td>\n",
              "      <td>NaN</td>\n",
              "      <td>NaN</td>\n",
              "      <td>NaN</td>\n",
              "      <td>NaN</td>\n",
              "    </tr>\n",
              "    <tr>\n",
              "      <th>freq</th>\n",
              "      <td>NaN</td>\n",
              "      <td>11138</td>\n",
              "      <td>NaN</td>\n",
              "      <td>14548</td>\n",
              "      <td>NaN</td>\n",
              "      <td>NaN</td>\n",
              "      <td>NaN</td>\n",
              "      <td>NaN</td>\n",
              "      <td>NaN</td>\n",
              "      <td>NaN</td>\n",
              "      <td>NaN</td>\n",
              "      <td>NaN</td>\n",
              "      <td>NaN</td>\n",
              "      <td>NaN</td>\n",
              "    </tr>\n",
              "    <tr>\n",
              "      <th>mean</th>\n",
              "      <td>81475.166667</td>\n",
              "      <td>NaN</td>\n",
              "      <td>43.806072</td>\n",
              "      <td>NaN</td>\n",
              "      <td>0.295731</td>\n",
              "      <td>0.200009</td>\n",
              "      <td>0.135974</td>\n",
              "      <td>0.277650</td>\n",
              "      <td>105.932317</td>\n",
              "      <td>53.722408</td>\n",
              "      <td>184.233967</td>\n",
              "      <td>121.829817</td>\n",
              "      <td>121.308614</td>\n",
              "      <td>69.197555</td>\n",
              "    </tr>\n",
              "    <tr>\n",
              "      <th>std</th>\n",
              "      <td>29025.256746</td>\n",
              "      <td>NaN</td>\n",
              "      <td>20.885156</td>\n",
              "      <td>NaN</td>\n",
              "      <td>0.456381</td>\n",
              "      <td>0.400015</td>\n",
              "      <td>0.342767</td>\n",
              "      <td>0.447853</td>\n",
              "      <td>34.525144</td>\n",
              "      <td>15.486417</td>\n",
              "      <td>41.963119</td>\n",
              "      <td>94.450695</td>\n",
              "      <td>18.465471</td>\n",
              "      <td>12.587972</td>\n",
              "    </tr>\n",
              "    <tr>\n",
              "      <th>min</th>\n",
              "      <td>31131.000000</td>\n",
              "      <td>NaN</td>\n",
              "      <td>12.000000</td>\n",
              "      <td>NaN</td>\n",
              "      <td>0.000000</td>\n",
              "      <td>0.000000</td>\n",
              "      <td>0.000000</td>\n",
              "      <td>0.000000</td>\n",
              "      <td>21.000000</td>\n",
              "      <td>5.000000</td>\n",
              "      <td>66.000000</td>\n",
              "      <td>10.000000</td>\n",
              "      <td>65.000000</td>\n",
              "      <td>4.000000</td>\n",
              "    </tr>\n",
              "    <tr>\n",
              "      <th>25%</th>\n",
              "      <td>55881.250000</td>\n",
              "      <td>NaN</td>\n",
              "      <td>24.000000</td>\n",
              "      <td>NaN</td>\n",
              "      <td>0.000000</td>\n",
              "      <td>0.000000</td>\n",
              "      <td>0.000000</td>\n",
              "      <td>0.000000</td>\n",
              "      <td>91.000000</td>\n",
              "      <td>43.000000</td>\n",
              "      <td>154.000000</td>\n",
              "      <td>67.000000</td>\n",
              "      <td>108.666667</td>\n",
              "      <td>61.000000</td>\n",
              "    </tr>\n",
              "    <tr>\n",
              "      <th>50%</th>\n",
              "      <td>81565.000000</td>\n",
              "      <td>NaN</td>\n",
              "      <td>44.000000</td>\n",
              "      <td>NaN</td>\n",
              "      <td>0.000000</td>\n",
              "      <td>0.000000</td>\n",
              "      <td>0.000000</td>\n",
              "      <td>0.000000</td>\n",
              "      <td>98.000000</td>\n",
              "      <td>51.000000</td>\n",
              "      <td>180.000000</td>\n",
              "      <td>98.000000</td>\n",
              "      <td>118.000000</td>\n",
              "      <td>69.000000</td>\n",
              "    </tr>\n",
              "    <tr>\n",
              "      <th>75%</th>\n",
              "      <td>111739.750000</td>\n",
              "      <td>NaN</td>\n",
              "      <td>61.000000</td>\n",
              "      <td>NaN</td>\n",
              "      <td>1.000000</td>\n",
              "      <td>0.000000</td>\n",
              "      <td>0.000000</td>\n",
              "      <td>1.000000</td>\n",
              "      <td>108.000000</td>\n",
              "      <td>62.000000</td>\n",
              "      <td>210.000000</td>\n",
              "      <td>147.000000</td>\n",
              "      <td>131.000000</td>\n",
              "      <td>77.000000</td>\n",
              "    </tr>\n",
              "    <tr>\n",
              "      <th>max</th>\n",
              "      <td>124822.000000</td>\n",
              "      <td>NaN</td>\n",
              "      <td>85.000000</td>\n",
              "      <td>NaN</td>\n",
              "      <td>1.000000</td>\n",
              "      <td>1.000000</td>\n",
              "      <td>1.000000</td>\n",
              "      <td>1.000000</td>\n",
              "      <td>626.000000</td>\n",
              "      <td>226.000000</td>\n",
              "      <td>463.000000</td>\n",
              "      <td>2923.000000</td>\n",
              "      <td>235.000000</td>\n",
              "      <td>135.000000</td>\n",
              "    </tr>\n",
              "  </tbody>\n",
              "</table>\n",
              "</div>\n",
              "      <button class=\"colab-df-convert\" onclick=\"convertToInteractive('df-e6c1c1c3-1d87-4a9d-8979-29994d825b88')\"\n",
              "              title=\"Convert this dataframe to an interactive table.\"\n",
              "              style=\"display:none;\">\n",
              "        \n",
              "  <svg xmlns=\"http://www.w3.org/2000/svg\" height=\"24px\"viewBox=\"0 0 24 24\"\n",
              "       width=\"24px\">\n",
              "    <path d=\"M0 0h24v24H0V0z\" fill=\"none\"/>\n",
              "    <path d=\"M18.56 5.44l.94 2.06.94-2.06 2.06-.94-2.06-.94-.94-2.06-.94 2.06-2.06.94zm-11 1L8.5 8.5l.94-2.06 2.06-.94-2.06-.94L8.5 2.5l-.94 2.06-2.06.94zm10 10l.94 2.06.94-2.06 2.06-.94-2.06-.94-.94-2.06-.94 2.06-2.06.94z\"/><path d=\"M17.41 7.96l-1.37-1.37c-.4-.4-.92-.59-1.43-.59-.52 0-1.04.2-1.43.59L10.3 9.45l-7.72 7.72c-.78.78-.78 2.05 0 2.83L4 21.41c.39.39.9.59 1.41.59.51 0 1.02-.2 1.41-.59l7.78-7.78 2.81-2.81c.8-.78.8-2.07 0-2.86zM5.41 20L4 18.59l7.72-7.72 1.47 1.35L5.41 20z\"/>\n",
              "  </svg>\n",
              "      </button>\n",
              "      \n",
              "  <style>\n",
              "    .colab-df-container {\n",
              "      display:flex;\n",
              "      flex-wrap:wrap;\n",
              "      gap: 12px;\n",
              "    }\n",
              "\n",
              "    .colab-df-convert {\n",
              "      background-color: #E8F0FE;\n",
              "      border: none;\n",
              "      border-radius: 50%;\n",
              "      cursor: pointer;\n",
              "      display: none;\n",
              "      fill: #1967D2;\n",
              "      height: 32px;\n",
              "      padding: 0 0 0 0;\n",
              "      width: 32px;\n",
              "    }\n",
              "\n",
              "    .colab-df-convert:hover {\n",
              "      background-color: #E2EBFA;\n",
              "      box-shadow: 0px 1px 2px rgba(60, 64, 67, 0.3), 0px 1px 3px 1px rgba(60, 64, 67, 0.15);\n",
              "      fill: #174EA6;\n",
              "    }\n",
              "\n",
              "    [theme=dark] .colab-df-convert {\n",
              "      background-color: #3B4455;\n",
              "      fill: #D2E3FC;\n",
              "    }\n",
              "\n",
              "    [theme=dark] .colab-df-convert:hover {\n",
              "      background-color: #434B5C;\n",
              "      box-shadow: 0px 1px 3px 1px rgba(0, 0, 0, 0.15);\n",
              "      filter: drop-shadow(0px 1px 2px rgba(0, 0, 0, 0.3));\n",
              "      fill: #FFFFFF;\n",
              "    }\n",
              "  </style>\n",
              "\n",
              "      <script>\n",
              "        const buttonEl =\n",
              "          document.querySelector('#df-e6c1c1c3-1d87-4a9d-8979-29994d825b88 button.colab-df-convert');\n",
              "        buttonEl.style.display =\n",
              "          google.colab.kernel.accessAllowed ? 'block' : 'none';\n",
              "\n",
              "        async function convertToInteractive(key) {\n",
              "          const element = document.querySelector('#df-e6c1c1c3-1d87-4a9d-8979-29994d825b88');\n",
              "          const dataTable =\n",
              "            await google.colab.kernel.invokeFunction('convertToInteractive',\n",
              "                                                     [key], {});\n",
              "          if (!dataTable) return;\n",
              "\n",
              "          const docLinkHtml = 'Like what you see? Visit the ' +\n",
              "            '<a target=\"_blank\" href=https://colab.research.google.com/notebooks/data_table.ipynb>data table notebook</a>'\n",
              "            + ' to learn more about interactive tables.';\n",
              "          element.innerHTML = '';\n",
              "          dataTable['output_type'] = 'display_data';\n",
              "          await google.colab.output.renderOutput(dataTable, element);\n",
              "          const docLink = document.createElement('div');\n",
              "          docLink.innerHTML = docLinkHtml;\n",
              "          element.appendChild(docLink);\n",
              "        }\n",
              "      </script>\n",
              "    </div>\n",
              "  </div>\n",
              "  "
            ]
          },
          "metadata": {},
          "execution_count": 86
        }
      ]
    },
    {
      "cell_type": "code",
      "source": [
        "data1.ethnicity.unique()"
      ],
      "metadata": {
        "colab": {
          "base_uri": "https://localhost:8080/"
        },
        "id": "v7Wuyezk-T5-",
        "outputId": "cc4df5c9-27d3-4e9a-8846-97947543e0b9"
      },
      "execution_count": null,
      "outputs": [
        {
          "output_type": "execute_result",
          "data": {
            "text/plain": [
              "array(['NH B', 'NH W', 'other', 'Mexican', 'Hispanic', 'NH Asian',\n",
              "       'other Hispanic'], dtype=object)"
            ]
          },
          "metadata": {},
          "execution_count": 87
        }
      ]
    },
    {
      "cell_type": "code",
      "source": [
        "data1.gender.unique()"
      ],
      "metadata": {
        "colab": {
          "base_uri": "https://localhost:8080/"
        },
        "id": "HeNiBMYs-cPe",
        "outputId": "9f1edb61-76ef-4f15-d098-920c50dddbdc"
      },
      "execution_count": null,
      "outputs": [
        {
          "output_type": "execute_result",
          "data": {
            "text/plain": [
              "array(['F', 'M'], dtype=object)"
            ]
          },
          "metadata": {},
          "execution_count": 88
        }
      ]
    },
    {
      "cell_type": "code",
      "source": [
        "data1.columns"
      ],
      "metadata": {
        "colab": {
          "base_uri": "https://localhost:8080/"
        },
        "id": "eF_SlbS2ENf4",
        "outputId": "8d0dfcec-77d4-40bf-cc9c-a6205370dbbe"
      },
      "execution_count": null,
      "outputs": [
        {
          "output_type": "execute_result",
          "data": {
            "text/plain": [
              "Index(['ID', 'ethnicity', 'age', 'gender', 'current bp meds', 'current smoker',\n",
              "       'diabetes', 'current lipid meds', 'GLU', 'HDL', 'TC', 'TG', 'SBP',\n",
              "       'DBP'],\n",
              "      dtype='object')"
            ]
          },
          "metadata": {},
          "execution_count": 89
        }
      ]
    },
    {
      "cell_type": "code",
      "source": [
        "numdata = data1[['age','GLU', 'HDL', 'TC', 'TG', 'SBP', 'DBP']]\n",
        "catdata = data1[['ethnicity', 'gender', 'current bp meds', 'current smoker', 'diabetes', 'current lipid meds']]"
      ],
      "metadata": {
        "id": "jcvBMekf_wjN"
      },
      "execution_count": null,
      "outputs": []
    },
    {
      "cell_type": "code",
      "source": [
        "for col in numdata.columns:\n",
        "  sns.histplot(data=numdata, x = col)\n",
        "  plt.show()"
      ],
      "metadata": {
        "colab": {
          "base_uri": "https://localhost:8080/",
          "height": 1000
        },
        "id": "mfIpfcg7CJ1t",
        "outputId": "9c9fe932-3015-431e-975f-391bccd84472"
      },
      "execution_count": null,
      "outputs": [
        {
          "output_type": "display_data",
          "data": {
            "text/plain": [
              "<Figure size 432x288 with 1 Axes>"
            ],
            "image/png": "[encoded data removed]"
          },
          "metadata": {
            "needs_background": "light"
          }
        },
        {
          "output_type": "display_data",
          "data": {
            "text/plain": [
              "<Figure size 432x288 with 1 Axes>"
            ],
            "image/png": "[encoded data removed]"
          },
          "metadata": {
            "needs_background": "light"
          }
        },
        {
          "output_type": "display_data",
          "data": {
            "text/plain": [
              "<Figure size 432x288 with 1 Axes>"
            ],
            "image/png": "[encoded data removed]"
          },
          "metadata": {
            "needs_background": "light"
          }
        },
        {
          "output_type": "display_data",
          "data": {
            "text/plain": [
              "<Figure size 432x288 with 1 Axes>"
            ],
            "image/png": "[encoded data removed]"
          },
          "metadata": {
            "needs_background": "light"
          }
        },
        {
          "output_type": "display_data",
          "data": {
            "text/plain": [
              "<Figure size 432x288 with 1 Axes>"
            ],
            "image/png": "[encoded data removed]"
          },
          "metadata": {
            "needs_background": "light"
          }
        },
        {
          "output_type": "display_data",
          "data": {
            "text/plain": [
              "<Figure size 432x288 with 1 Axes>"
            ],
            "image/png": "[encoded data removed]"
          },
          "metadata": {
            "needs_background": "light"
          }
        },
        {
          "output_type": "display_data",
          "data": {
            "text/plain": [
              "<Figure size 432x288 with 1 Axes>"
            ],
            "image/png": "[encoded data removed]"
          },
          "metadata": {
            "needs_background": "light"
          }
        }
      ]
    },
    {
      "cell_type": "code",
      "source": [
        "for col in catdata.columns:\n",
        "  sns.catplot(data = catdata, x = col, kind = 'count')\n",
        "  plt.show()"
      ],
      "metadata": {
        "colab": {
          "base_uri": "https://localhost:8080/",
          "height": 1000
        },
        "id": "kYCZXOKeDTXc",
        "outputId": "5c261c5b-4a87-4ef8-80cd-867089b8a1a1"
      },
      "execution_count": null,
      "outputs": [
        {
          "output_type": "display_data",
          "data": {
            "text/plain": [
              "<Figure size 360x360 with 1 Axes>"
            ],
            "image/png": "[encoded data removed]"
          },
          "metadata": {
            "needs_background": "light"
          }
        },
        {
          "output_type": "display_data",
          "data": {
            "text/plain": [
              "<Figure size 360x360 with 1 Axes>"
            ],
            "image/png": "[encoded data removed]"
          },
          "metadata": {
            "needs_background": "light"
          }
        },
        {
          "output_type": "display_data",
          "data": {
            "text/plain": [
              "<Figure size 360x360 with 1 Axes>"
            ],
            "image/png": "[encoded data removed]"
          },
          "metadata": {
            "needs_background": "light"
          }
        },
        {
          "output_type": "display_data",
          "data": {
            "text/plain": [
              "<Figure size 360x360 with 1 Axes>"
            ],
            "image/png": "[encoded data removed]"
          },
          "metadata": {
            "needs_background": "light"
          }
        },
        {
          "output_type": "display_data",
          "data": {
            "text/plain": [
              "<Figure size 360x360 with 1 Axes>"
            ],
            "image/png": "[encoded data removed]"
          },
          "metadata": {
            "needs_background": "light"
          }
        },
        {
          "output_type": "display_data",
          "data": {
            "text/plain": [
              "<Figure size 360x360 with 1 Axes>"
            ],
            "image/png": "[encoded data removed]"
          },
          "metadata": {
            "needs_background": "light"
          }
        }
      ]
    },
    {
      "cell_type": "markdown",
      "source": [
        "# Data Cleaning"
      ],
      "metadata": {
        "id": "DqvCXNU-JKnh"
      }
    },
    {
      "cell_type": "markdown",
      "source": [
        "Rename Variables"
      ],
      "metadata": {
        "id": "XwgjCco8cKRT"
      }
    },
    {
      "cell_type": "code",
      "source": [
        "# Rename columns with simpler headers\n",
        "data1.rename(columns = {'ethnicity':'race', 'gender': 'sex', 'current bp meds': 'BPRx', 'current smoker': 'smoker', 'diabetes': 'DM',\n",
        "                        'current lipid meds': 'LipRx'}, inplace = True)"
      ],
      "metadata": {
        "id": "0uzb3DYZcMhX"
      },
      "execution_count": null,
      "outputs": []
    },
    {
      "cell_type": "markdown",
      "source": [
        "Encoding Binary Categorical Variables"
      ],
      "metadata": {
        "id": "A5bd4IQxbbGq"
      }
    },
    {
      "cell_type": "code",
      "source": [
        "# Find the unique values in the 'ethnicity' and 'gender' columns\n",
        "#print('ethnicities: ', data1['ethnicity'].unique())\n",
        "#print('genders: ', data1['gender'].unique())\n",
        "\n",
        "# Encode 'Non-Hispanic Black' as '1' and all other ethnicities as '0'\n",
        "df_obj = {'race': {'NH B': 1, 'NH W': 0, 'other': 0, 'Mexican': 0, 'Hispanic': 0, 'NH Asian': 0, 'other Hispanic': 0}, 'sex': {'F':1, 'M':0}}\n",
        "data1 = data1.replace(df_obj)"
      ],
      "metadata": {
        "id": "MdHNrUCMS82J"
      },
      "execution_count": null,
      "outputs": []
    },
    {
      "cell_type": "markdown",
      "source": [
        "Missingness"
      ],
      "metadata": {
        "id": "zOulgxTIbuIv"
      }
    },
    {
      "cell_type": "code",
      "source": [
        "# Investigate missing values\n",
        "#data1.isnull().sum()   #shows the number of missing values per column\n",
        "#data1[data1['DM'].isnull()].index.tolist()   #gives the row numbers of missing values in the DM column\n",
        "##Give the glucose results for patients with missing DM data\n",
        "#data1.iloc[[311, 1617, 2214, 4395, 5188, 5788, 8385, 8393, 9972, 10964, 16016, 16804, 19070, 19417, 23022, 25693, 27360, 28118],13]   \n",
        "\n",
        "# Replace missing values (NaN) with 0 where it made sense to do so (Answers were taken as \"No\" if not stated)\n",
        "data2 = data1.copy()      # Made a copy of the dataframe to avoid issues with \"copy of a slice\" errors\n",
        "data2.update(data2[['BPRx', 'smoker', 'LipRx', 'DBP']].fillna(0))\n",
        "\n",
        "  # Patients with unknown diabetes status were excluded.\n",
        "data2.update(data2[['DM']].fillna(2))"
      ],
      "metadata": {
        "id": "GYeWQ8Qubs0q"
      },
      "execution_count": null,
      "outputs": []
    },
    {
      "cell_type": "markdown",
      "source": [
        "Adjust Data Type\n",
        "\n",
        "Add Column\n",
        "\n",
        "Reorder Columns"
      ],
      "metadata": {
        "id": "F07K0Dydc054"
      }
    },
    {
      "cell_type": "code",
      "source": [
        "# Made all numerical values integers\n",
        "data2[data2.columns[2:]] = data2[data2.columns[2:]].astype('int')\n",
        "\n",
        "# Add \"Not on BP meds column\"\n",
        "data2.loc[:,'BPRxn'] = np.where(data2['BPRx']== 1, 0, 1)\n",
        "\n",
        "# Reorder columns\n",
        "data2 = data2.reindex(columns = ['ID', 'age', 'race', 'sex', 'SBP', 'BPRx', 'BPRxn', 'LipRx', 'smoker', 'DM', 'HDL', 'TC', 'TG'])"
      ],
      "metadata": {
        "id": "YBbCPvvhdBNc"
      },
      "execution_count": null,
      "outputs": []
    },
    {
      "cell_type": "markdown",
      "source": [
        "Apply Exlusion Criteria"
      ],
      "metadata": {
        "id": "k0QIrAEOdOW7"
      }
    },
    {
      "cell_type": "code",
      "source": [
        "# Make a copy of dataframe and confirm original N\n",
        "data3 = data2.copy()\n",
        "print(len(data3.index))    \n",
        "\n",
        "# Exclusions: Diabetics, On Lipid Meds, not 40-75 yrs old (inclusive), Triglycerides >400mg/dL\n",
        "data3 = data3.loc[(data3['DM']==0) & (data3['LipRx']==0) & (data3['age'] >= 40) & (data3['age']<= 75) & (data3['TG'] <=400)]\n",
        "\n",
        "# New N after exclusions\n",
        "data3 = data3.reset_index(drop = True)\n",
        "print(len(data3.index))\n",
        "data3.head()"
      ],
      "metadata": {
        "colab": {
          "base_uri": "https://localhost:8080/",
          "height": 241
        },
        "id": "mdMe-SfJdRwI",
        "outputId": "b04dfac7-3919-407f-ffcc-5be146517790"
      },
      "execution_count": null,
      "outputs": [
        {
          "output_type": "stream",
          "name": "stdout",
          "text": [
            "28722\n",
            "8506\n"
          ]
        },
        {
          "output_type": "execute_result",
          "data": {
            "text/plain": [
              "      ID  age  race  sex  SBP  BPRx  BPRxn  LipRx  smoker  DM  HDL   TC   TG\n",
              "0  31131   44     1    1  139     1      0      0       0   0   39  105   86\n",
              "1  31153   44     0    1  121     1      0      0       0   0   50  198  256\n",
              "2  31158   71     0    0  146     0      1      0       1   0   71  199   88\n",
              "3  31193   51     0    0  149     0      1      0       1   0   40  214  125\n",
              "4  31205   43     0    1  137     0      1      0       0   0   43  163  127"
            ],
            "text/html": [
              "\n",
              "  <div id=\"df-79bcfa07-22c0-4d00-b0d0-260accaf04e0\">\n",
              "    <div class=\"colab-df-container\">\n",
              "      <div>\n",
              "<style scoped>\n",
              "    .dataframe tbody tr th:only-of-type {\n",
              "        vertical-align: middle;\n",
              "    }\n",
              "\n",
              "    .dataframe tbody tr th {\n",
              "        vertical-align: top;\n",
              "    }\n",
              "\n",
              "    .dataframe thead th {\n",
              "        text-align: right;\n",
              "    }\n",
              "</style>\n",
              "<table border=\"1\" class=\"dataframe\">\n",
              "  <thead>\n",
              "    <tr style=\"text-align: right;\">\n",
              "      <th></th>\n",
              "      <th>ID</th>\n",
              "      <th>age</th>\n",
              "      <th>race</th>\n",
              "      <th>sex</th>\n",
              "      <th>SBP</th>\n",
              "      <th>BPRx</th>\n",
              "      <th>BPRxn</th>\n",
              "      <th>LipRx</th>\n",
              "      <th>smoker</th>\n",
              "      <th>DM</th>\n",
              "      <th>HDL</th>\n",
              "      <th>TC</th>\n",
              "      <th>TG</th>\n",
              "    </tr>\n",
              "  </thead>\n",
              "  <tbody>\n",
              "    <tr>\n",
              "      <th>0</th>\n",
              "      <td>31131</td>\n",
              "      <td>44</td>\n",
              "      <td>1</td>\n",
              "      <td>1</td>\n",
              "      <td>139</td>\n",
              "      <td>1</td>\n",
              "      <td>0</td>\n",
              "      <td>0</td>\n",
              "      <td>0</td>\n",
              "      <td>0</td>\n",
              "      <td>39</td>\n",
              "      <td>105</td>\n",
              "      <td>86</td>\n",
              "    </tr>\n",
              "    <tr>\n",
              "      <th>1</th>\n",
              "      <td>31153</td>\n",
              "      <td>44</td>\n",
              "      <td>0</td>\n",
              "      <td>1</td>\n",
              "      <td>121</td>\n",
              "      <td>1</td>\n",
              "      <td>0</td>\n",
              "      <td>0</td>\n",
              "      <td>0</td>\n",
              "      <td>0</td>\n",
              "      <td>50</td>\n",
              "      <td>198</td>\n",
              "      <td>256</td>\n",
              "    </tr>\n",
              "    <tr>\n",
              "      <th>2</th>\n",
              "      <td>31158</td>\n",
              "      <td>71</td>\n",
              "      <td>0</td>\n",
              "      <td>0</td>\n",
              "      <td>146</td>\n",
              "      <td>0</td>\n",
              "      <td>1</td>\n",
              "      <td>0</td>\n",
              "      <td>1</td>\n",
              "      <td>0</td>\n",
              "      <td>71</td>\n",
              "      <td>199</td>\n",
              "      <td>88</td>\n",
              "    </tr>\n",
              "    <tr>\n",
              "      <th>3</th>\n",
              "      <td>31193</td>\n",
              "      <td>51</td>\n",
              "      <td>0</td>\n",
              "      <td>0</td>\n",
              "      <td>149</td>\n",
              "      <td>0</td>\n",
              "      <td>1</td>\n",
              "      <td>0</td>\n",
              "      <td>1</td>\n",
              "      <td>0</td>\n",
              "      <td>40</td>\n",
              "      <td>214</td>\n",
              "      <td>125</td>\n",
              "    </tr>\n",
              "    <tr>\n",
              "      <th>4</th>\n",
              "      <td>31205</td>\n",
              "      <td>43</td>\n",
              "      <td>0</td>\n",
              "      <td>1</td>\n",
              "      <td>137</td>\n",
              "      <td>0</td>\n",
              "      <td>1</td>\n",
              "      <td>0</td>\n",
              "      <td>0</td>\n",
              "      <td>0</td>\n",
              "      <td>43</td>\n",
              "      <td>163</td>\n",
              "      <td>127</td>\n",
              "    </tr>\n",
              "  </tbody>\n",
              "</table>\n",
              "</div>\n",
              "      <button class=\"colab-df-convert\" onclick=\"convertToInteractive('df-79bcfa07-22c0-4d00-b0d0-260accaf04e0')\"\n",
              "              title=\"Convert this dataframe to an interactive table.\"\n",
              "              style=\"display:none;\">\n",
              "        \n",
              "  <svg xmlns=\"http://www.w3.org/2000/svg\" height=\"24px\"viewBox=\"0 0 24 24\"\n",
              "       width=\"24px\">\n",
              "    <path d=\"M0 0h24v24H0V0z\" fill=\"none\"/>\n",
              "    <path d=\"M18.56 5.44l.94 2.06.94-2.06 2.06-.94-2.06-.94-.94-2.06-.94 2.06-2.06.94zm-11 1L8.5 8.5l.94-2.06 2.06-.94-2.06-.94L8.5 2.5l-.94 2.06-2.06.94zm10 10l.94 2.06.94-2.06 2.06-.94-2.06-.94-.94-2.06-.94 2.06-2.06.94z\"/><path d=\"M17.41 7.96l-1.37-1.37c-.4-.4-.92-.59-1.43-.59-.52 0-1.04.2-1.43.59L10.3 9.45l-7.72 7.72c-.78.78-.78 2.05 0 2.83L4 21.41c.39.39.9.59 1.41.59.51 0 1.02-.2 1.41-.59l7.78-7.78 2.81-2.81c.8-.78.8-2.07 0-2.86zM5.41 20L4 18.59l7.72-7.72 1.47 1.35L5.41 20z\"/>\n",
              "  </svg>\n",
              "      </button>\n",
              "      \n",
              "  <style>\n",
              "    .colab-df-container {\n",
              "      display:flex;\n",
              "      flex-wrap:wrap;\n",
              "      gap: 12px;\n",
              "    }\n",
              "\n",
              "    .colab-df-convert {\n",
              "      background-color: #E8F0FE;\n",
              "      border: none;\n",
              "      border-radius: 50%;\n",
              "      cursor: pointer;\n",
              "      display: none;\n",
              "      fill: #1967D2;\n",
              "      height: 32px;\n",
              "      padding: 0 0 0 0;\n",
              "      width: 32px;\n",
              "    }\n",
              "\n",
              "    .colab-df-convert:hover {\n",
              "      background-color: #E2EBFA;\n",
              "      box-shadow: 0px 1px 2px rgba(60, 64, 67, 0.3), 0px 1px 3px 1px rgba(60, 64, 67, 0.15);\n",
              "      fill: #174EA6;\n",
              "    }\n",
              "\n",
              "    [theme=dark] .colab-df-convert {\n",
              "      background-color: #3B4455;\n",
              "      fill: #D2E3FC;\n",
              "    }\n",
              "\n",
              "    [theme=dark] .colab-df-convert:hover {\n",
              "      background-color: #434B5C;\n",
              "      box-shadow: 0px 1px 3px 1px rgba(0, 0, 0, 0.15);\n",
              "      filter: drop-shadow(0px 1px 2px rgba(0, 0, 0, 0.3));\n",
              "      fill: #FFFFFF;\n",
              "    }\n",
              "  </style>\n",
              "\n",
              "      <script>\n",
              "        const buttonEl =\n",
              "          document.querySelector('#df-79bcfa07-22c0-4d00-b0d0-260accaf04e0 button.colab-df-convert');\n",
              "        buttonEl.style.display =\n",
              "          google.colab.kernel.accessAllowed ? 'block' : 'none';\n",
              "\n",
              "        async function convertToInteractive(key) {\n",
              "          const element = document.querySelector('#df-79bcfa07-22c0-4d00-b0d0-260accaf04e0');\n",
              "          const dataTable =\n",
              "            await google.colab.kernel.invokeFunction('convertToInteractive',\n",
              "                                                     [key], {});\n",
              "          if (!dataTable) return;\n",
              "\n",
              "          const docLinkHtml = 'Like what you see? Visit the ' +\n",
              "            '<a target=\"_blank\" href=https://colab.research.google.com/notebooks/data_table.ipynb>data table notebook</a>'\n",
              "            + ' to learn more about interactive tables.';\n",
              "          element.innerHTML = '';\n",
              "          dataTable['output_type'] = 'display_data';\n",
              "          await google.colab.output.renderOutput(dataTable, element);\n",
              "          const docLink = document.createElement('div');\n",
              "          docLink.innerHTML = docLinkHtml;\n",
              "          element.appendChild(docLink);\n",
              "        }\n",
              "      </script>\n",
              "    </div>\n",
              "  </div>\n",
              "  "
            ]
          },
          "metadata": {},
          "execution_count": 73
        }
      ]
    },
    {
      "cell_type": "markdown",
      "source": [
        "Select Columns"
      ],
      "metadata": {
        "id": "8HCkZLeAo9Xq"
      }
    },
    {
      "cell_type": "code",
      "source": [
        "# Drop unneeded columns\n",
        "df8000 = data3.iloc[:,[0,1,2,3,4,5,6,8,9,10,11,12]]\n",
        "df8000['dLDL'] = df8000['TC'] - (df8000['HDL'] + df8000['TG']/5)\n",
        "\n",
        "# print(df8000.info())\n",
        "df8000.head()"
      ],
      "metadata": {
        "id": "IiA80hLRo_LK",
        "colab": {
          "base_uri": "https://localhost:8080/",
          "height": 206
        },
        "outputId": "0db4abe6-8123-4e2a-c4bd-131f9af9aa6d"
      },
      "execution_count": null,
      "outputs": [
        {
          "output_type": "execute_result",
          "data": {
            "text/plain": [
              "      ID  age  race  sex  SBP  BPRx  BPRxn  smoker  DM  HDL   TC   TG   dLDL\n",
              "0  31131   44     1    1  139     1      0       0   0   39  105   86   48.8\n",
              "1  31153   44     0    1  121     1      0       0   0   50  198  256   96.8\n",
              "2  31158   71     0    0  146     0      1       1   0   71  199   88  110.4\n",
              "3  31193   51     0    0  149     0      1       1   0   40  214  125  149.0\n",
              "4  31205   43     0    1  137     0      1       0   0   43  163  127   94.6"
            ],
            "text/html": [
              "\n",
              "  <div id=\"df-dd911674-454c-4bdc-aa13-84b8aa3e8a4a\">\n",
              "    <div class=\"colab-df-container\">\n",
              "      <div>\n",
              "<style scoped>\n",
              "    .dataframe tbody tr th:only-of-type {\n",
              "        vertical-align: middle;\n",
              "    }\n",
              "\n",
              "    .dataframe tbody tr th {\n",
              "        vertical-align: top;\n",
              "    }\n",
              "\n",
              "    .dataframe thead th {\n",
              "        text-align: right;\n",
              "    }\n",
              "</style>\n",
              "<table border=\"1\" class=\"dataframe\">\n",
              "  <thead>\n",
              "    <tr style=\"text-align: right;\">\n",
              "      <th></th>\n",
              "      <th>ID</th>\n",
              "      <th>age</th>\n",
              "      <th>race</th>\n",
              "      <th>sex</th>\n",
              "      <th>SBP</th>\n",
              "      <th>BPRx</th>\n",
              "      <th>BPRxn</th>\n",
              "      <th>smoker</th>\n",
              "      <th>DM</th>\n",
              "      <th>HDL</th>\n",
              "      <th>TC</th>\n",
              "      <th>TG</th>\n",
              "      <th>dLDL</th>\n",
              "    </tr>\n",
              "  </thead>\n",
              "  <tbody>\n",
              "    <tr>\n",
              "      <th>0</th>\n",
              "      <td>31131</td>\n",
              "      <td>44</td>\n",
              "      <td>1</td>\n",
              "      <td>1</td>\n",
              "      <td>139</td>\n",
              "      <td>1</td>\n",
              "      <td>0</td>\n",
              "      <td>0</td>\n",
              "      <td>0</td>\n",
              "      <td>39</td>\n",
              "      <td>105</td>\n",
              "      <td>86</td>\n",
              "      <td>48.8</td>\n",
              "    </tr>\n",
              "    <tr>\n",
              "      <th>1</th>\n",
              "      <td>31153</td>\n",
              "      <td>44</td>\n",
              "      <td>0</td>\n",
              "      <td>1</td>\n",
              "      <td>121</td>\n",
              "      <td>1</td>\n",
              "      <td>0</td>\n",
              "      <td>0</td>\n",
              "      <td>0</td>\n",
              "      <td>50</td>\n",
              "      <td>198</td>\n",
              "      <td>256</td>\n",
              "      <td>96.8</td>\n",
              "    </tr>\n",
              "    <tr>\n",
              "      <th>2</th>\n",
              "      <td>31158</td>\n",
              "      <td>71</td>\n",
              "      <td>0</td>\n",
              "      <td>0</td>\n",
              "      <td>146</td>\n",
              "      <td>0</td>\n",
              "      <td>1</td>\n",
              "      <td>1</td>\n",
              "      <td>0</td>\n",
              "      <td>71</td>\n",
              "      <td>199</td>\n",
              "      <td>88</td>\n",
              "      <td>110.4</td>\n",
              "    </tr>\n",
              "    <tr>\n",
              "      <th>3</th>\n",
              "      <td>31193</td>\n",
              "      <td>51</td>\n",
              "      <td>0</td>\n",
              "      <td>0</td>\n",
              "      <td>149</td>\n",
              "      <td>0</td>\n",
              "      <td>1</td>\n",
              "      <td>1</td>\n",
              "      <td>0</td>\n",
              "      <td>40</td>\n",
              "      <td>214</td>\n",
              "      <td>125</td>\n",
              "      <td>149.0</td>\n",
              "    </tr>\n",
              "    <tr>\n",
              "      <th>4</th>\n",
              "      <td>31205</td>\n",
              "      <td>43</td>\n",
              "      <td>0</td>\n",
              "      <td>1</td>\n",
              "      <td>137</td>\n",
              "      <td>0</td>\n",
              "      <td>1</td>\n",
              "      <td>0</td>\n",
              "      <td>0</td>\n",
              "      <td>43</td>\n",
              "      <td>163</td>\n",
              "      <td>127</td>\n",
              "      <td>94.6</td>\n",
              "    </tr>\n",
              "  </tbody>\n",
              "</table>\n",
              "</div>\n",
              "      <button class=\"colab-df-convert\" onclick=\"convertToInteractive('df-dd911674-454c-4bdc-aa13-84b8aa3e8a4a')\"\n",
              "              title=\"Convert this dataframe to an interactive table.\"\n",
              "              style=\"display:none;\">\n",
              "        \n",
              "  <svg xmlns=\"http://www.w3.org/2000/svg\" height=\"24px\"viewBox=\"0 0 24 24\"\n",
              "       width=\"24px\">\n",
              "    <path d=\"M0 0h24v24H0V0z\" fill=\"none\"/>\n",
              "    <path d=\"M18.56 5.44l.94 2.06.94-2.06 2.06-.94-2.06-.94-.94-2.06-.94 2.06-2.06.94zm-11 1L8.5 8.5l.94-2.06 2.06-.94-2.06-.94L8.5 2.5l-.94 2.06-2.06.94zm10 10l.94 2.06.94-2.06 2.06-.94-2.06-.94-.94-2.06-.94 2.06-2.06.94z\"/><path d=\"M17.41 7.96l-1.37-1.37c-.4-.4-.92-.59-1.43-.59-.52 0-1.04.2-1.43.59L10.3 9.45l-7.72 7.72c-.78.78-.78 2.05 0 2.83L4 21.41c.39.39.9.59 1.41.59.51 0 1.02-.2 1.41-.59l7.78-7.78 2.81-2.81c.8-.78.8-2.07 0-2.86zM5.41 20L4 18.59l7.72-7.72 1.47 1.35L5.41 20z\"/>\n",
              "  </svg>\n",
              "      </button>\n",
              "      \n",
              "  <style>\n",
              "    .colab-df-container {\n",
              "      display:flex;\n",
              "      flex-wrap:wrap;\n",
              "      gap: 12px;\n",
              "    }\n",
              "\n",
              "    .colab-df-convert {\n",
              "      background-color: #E8F0FE;\n",
              "      border: none;\n",
              "      border-radius: 50%;\n",
              "      cursor: pointer;\n",
              "      display: none;\n",
              "      fill: #1967D2;\n",
              "      height: 32px;\n",
              "      padding: 0 0 0 0;\n",
              "      width: 32px;\n",
              "    }\n",
              "\n",
              "    .colab-df-convert:hover {\n",
              "      background-color: #E2EBFA;\n",
              "      box-shadow: 0px 1px 2px rgba(60, 64, 67, 0.3), 0px 1px 3px 1px rgba(60, 64, 67, 0.15);\n",
              "      fill: #174EA6;\n",
              "    }\n",
              "\n",
              "    [theme=dark] .colab-df-convert {\n",
              "      background-color: #3B4455;\n",
              "      fill: #D2E3FC;\n",
              "    }\n",
              "\n",
              "    [theme=dark] .colab-df-convert:hover {\n",
              "      background-color: #434B5C;\n",
              "      box-shadow: 0px 1px 3px 1px rgba(0, 0, 0, 0.15);\n",
              "      filter: drop-shadow(0px 1px 2px rgba(0, 0, 0, 0.3));\n",
              "      fill: #FFFFFF;\n",
              "    }\n",
              "  </style>\n",
              "\n",
              "      <script>\n",
              "        const buttonEl =\n",
              "          document.querySelector('#df-dd911674-454c-4bdc-aa13-84b8aa3e8a4a button.colab-df-convert');\n",
              "        buttonEl.style.display =\n",
              "          google.colab.kernel.accessAllowed ? 'block' : 'none';\n",
              "\n",
              "        async function convertToInteractive(key) {\n",
              "          const element = document.querySelector('#df-dd911674-454c-4bdc-aa13-84b8aa3e8a4a');\n",
              "          const dataTable =\n",
              "            await google.colab.kernel.invokeFunction('convertToInteractive',\n",
              "                                                     [key], {});\n",
              "          if (!dataTable) return;\n",
              "\n",
              "          const docLinkHtml = 'Like what you see? Visit the ' +\n",
              "            '<a target=\"_blank\" href=https://colab.research.google.com/notebooks/data_table.ipynb>data table notebook</a>'\n",
              "            + ' to learn more about interactive tables.';\n",
              "          element.innerHTML = '';\n",
              "          dataTable['output_type'] = 'display_data';\n",
              "          await google.colab.output.renderOutput(dataTable, element);\n",
              "          const docLink = document.createElement('div');\n",
              "          docLink.innerHTML = docLinkHtml;\n",
              "          element.appendChild(docLink);\n",
              "        }\n",
              "      </script>\n",
              "    </div>\n",
              "  </div>\n",
              "  "
            ]
          },
          "metadata": {},
          "execution_count": 100
        }
      ]
    },
    {
      "cell_type": "code",
      "source": [
        "numdata2 = df8000[['age', 'SBP','HDL', 'TC', 'TG','dLDL']]\n",
        "catdata2 = df8000[['race', 'sex', 'BPRx', 'smoker', 'DM']]"
      ],
      "metadata": {
        "id": "R6hS3VBnKOPJ"
      },
      "execution_count": null,
      "outputs": []
    },
    {
      "cell_type": "code",
      "source": [
        "for col in numdata2.columns:\n",
        "  sns.histplot(data=numdata2, x = col)\n",
        "  plt.show()"
      ],
      "metadata": {
        "colab": {
          "base_uri": "https://localhost:8080/",
          "height": 1000
        },
        "outputId": "25ae8915-447f-48ee-f558-9d2401dec6e0",
        "id": "llB7zFZZKOPK"
      },
      "execution_count": null,
      "outputs": [
        {
          "output_type": "display_data",
          "data": {
            "text/plain": [
              "<Figure size 432x288 with 1 Axes>"
            ],
            "image/png": "[encoded data removed]"
          },
          "metadata": {
            "needs_background": "light"
          }
        },
        {
          "output_type": "display_data",
          "data": {
            "text/plain": [
              "<Figure size 432x288 with 1 Axes>"
            ],
            "image/png": "[encoded data removed]"
          },
          "metadata": {
            "needs_background": "light"
          }
        },
        {
          "output_type": "display_data",
          "data": {
            "text/plain": [
              "<Figure size 432x288 with 1 Axes>"
            ],
            "image/png": "[encoded data removed]"
          },
          "metadata": {
            "needs_background": "light"
          }
        },
        {
          "output_type": "display_data",
          "data": {
            "text/plain": [
              "<Figure size 432x288 with 1 Axes>"
            ],
            "image/png": "[encoded data removed]"
          },
          "metadata": {
            "needs_background": "light"
          }
        },
        {
          "output_type": "display_data",
          "data": {
            "text/plain": [
              "<Figure size 432x288 with 1 Axes>"
            ],
            "image/png": "[encoded data removed]"
          },
          "metadata": {
            "needs_background": "light"
          }
        },
        {
          "output_type": "display_data",
          "data": {
            "text/plain": [
              "<Figure size 432x288 with 1 Axes>"
            ],
            "image/png": "[encoded data removed]"
          },
          "metadata": {
            "needs_background": "light"
          }
        }
      ]
    },
    {
      "cell_type": "code",
      "source": [
        "for col in catdata2.columns:\n",
        "  sns.catplot(data = catdata2, x = col, kind = 'count')\n",
        "  plt.show()"
      ],
      "metadata": {
        "colab": {
          "base_uri": "https://localhost:8080/",
          "height": 1000
        },
        "outputId": "cbb5d8df-f843-4f28-dab4-0716b43d820f",
        "id": "fgmv3AXGKOPK"
      },
      "execution_count": null,
      "outputs": [
        {
          "output_type": "display_data",
          "data": {
            "text/plain": [
              "<Figure size 360x360 with 1 Axes>"
            ],
            "image/png": "[encoded data removed]"
          },
          "metadata": {
            "needs_background": "light"
          }
        },
        {
          "output_type": "display_data",
          "data": {
            "text/plain": [
              "<Figure size 360x360 with 1 Axes>"
            ],
            "image/png": "[encoded data removed]"
          },
          "metadata": {
            "needs_background": "light"
          }
        },
        {
          "output_type": "display_data",
          "data": {
            "text/plain": [
              "<Figure size 360x360 with 1 Axes>"
            ],
            "image/png": "[encoded data removed]"
          },
          "metadata": {
            "needs_background": "light"
          }
        },
        {
          "output_type": "display_data",
          "data": {
            "text/plain": [
              "<Figure size 360x360 with 1 Axes>"
            ],
            "image/png": "[encoded data removed]"
          },
          "metadata": {
            "needs_background": "light"
          }
        },
        {
          "output_type": "display_data",
          "data": {
            "text/plain": [
              "<Figure size 360x360 with 1 Axes>"
            ],
            "image/png": "[encoded data removed]"
          },
          "metadata": {
            "needs_background": "light"
          }
        }
      ]
    },
    {
      "cell_type": "markdown",
      "source": [
        "# Save new dataframes to .CSV files in *Base* folder"
      ],
      "metadata": {
        "id": "AFo1V_Bk_uya"
      }
    },
    {
      "cell_type": "code",
      "source": [
        "df8000.to_csv('from_Pandas/Base/df8000.csv', index = False)"
      ],
      "metadata": {
        "id": "lQCXmzXA_JDo"
      },
      "execution_count": null,
      "outputs": []
    }
  ]
}