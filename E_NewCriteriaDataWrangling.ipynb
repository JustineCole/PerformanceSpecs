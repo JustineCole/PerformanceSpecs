{
  "nbformat": 4,
  "nbformat_minor": 0,
  "metadata": {
    "colab": {
      "provenance": [],
      "collapsed_sections": [
        "ENOhwRYofkW3",
        "FKdw-k9IgiLo",
        "06sqC-6nZThU"
      ],
      "authorship_tag": "ABX9TyPzIHDfsFBhudo83qqpTMXF",
      "include_colab_link": true
    },
    "kernelspec": {
      "name": "python3",
      "display_name": "Python 3"
    },
    "language_info": {
      "name": "python"
    }
  },
  "cells": [
    {
      "cell_type": "markdown",
      "metadata": {
        "id": "view-in-github",
        "colab_type": "text"
      },
      "source": [
        "<a href=\"https://colab.research.google.com/github/justcme/PerformanceSpecs/blob/main/E_NewCriteriaDataWrangling.ipynb\" target=\"_parent\"><img src=\"https://colab.research.google.com/assets/colab-badge.svg\" alt=\"Open In Colab\"/></a>"
      ]
    },
    {
      "cell_type": "markdown",
      "source": [
        "# Lipid Panel Performance Recommendations\n",
        "\n",
        "### Data Manipulation - New Criteria\n",
        "\n",
        "Added proportional bias as per scenarios and created new columns with these biased lipid values.\n",
        "\n",
        "Added columns for coefficients for PCE calculation, calculated the fixed terms and summed them."
      ],
      "metadata": {
        "id": "_9T2VaL1Fwee"
      }
    },
    {
      "cell_type": "markdown",
      "source": [
        "# SETUP"
      ],
      "metadata": {
        "id": "1Og253ECcLjr"
      }
    },
    {
      "cell_type": "markdown",
      "source": [
        "OS"
      ],
      "metadata": {
        "id": "9R9VUIVvGQUe"
      }
    },
    {
      "cell_type": "code",
      "execution_count": null,
      "metadata": {
        "colab": {
          "base_uri": "https://localhost:8080/"
        },
        "id": "VpubywtBFIq_",
        "outputId": "d6ba84e3-1da8-4fe9-ef35-bf119b5c3426"
      },
      "outputs": [
        {
          "output_type": "stream",
          "name": "stdout",
          "text": [
            "Mounted at /content/drive/\n"
          ]
        }
      ],
      "source": [
        "import os\n",
        "from google.colab import drive\n",
        "drive.mount('/content/drive/')\n",
        "os.chdir(\"/content/drive/My Drive/Colab Notebooks/LipidPerf/from_Pandas/Base\")"
      ]
    },
    {
      "cell_type": "markdown",
      "source": [
        "Imports"
      ],
      "metadata": {
        "id": "xDokOY5WIcu6"
      }
    },
    {
      "cell_type": "code",
      "source": [
        "import numpy as np\n",
        "import pandas as pd\n",
        "from scipy.stats.morestats import sqrt\n",
        "from scipy.stats import norm\n",
        "import random"
      ],
      "metadata": {
        "id": "VSJUwh6cId8S"
      },
      "execution_count": null,
      "outputs": []
    },
    {
      "cell_type": "markdown",
      "source": [
        "# DATA"
      ],
      "metadata": {
        "id": "rAziTdPTIeV5"
      }
    },
    {
      "cell_type": "code",
      "source": [
        "df8000 = pd.read_csv(\"df8000.csv\")  #Lipid Data\n",
        "PCE_coeffs = pd.read_csv(\"PCE_coeffs.csv\")   #Coefficients lookup table\n",
        "TAE_df = pd.read_csv('TAEnew_df.csv', index_col=0)   #New allowable error and BV lookup table"
      ],
      "metadata": {
        "id": "iG7JjLnAFZX1"
      },
      "execution_count": null,
      "outputs": []
    },
    {
      "cell_type": "markdown",
      "source": [
        "# FIXED DATA"
      ],
      "metadata": {
        "id": "naQsw44H1xXs"
      }
    },
    {
      "cell_type": "markdown",
      "source": [
        "Create New Dataframe"
      ],
      "metadata": {
        "id": "U0NXk5wDQmKl"
      }
    },
    {
      "cell_type": "code",
      "source": [
        "#Create DataFrame\n",
        "df_base = df8000.copy()"
      ],
      "metadata": {
        "id": "pQ2TPvTNMsTS"
      },
      "execution_count": null,
      "outputs": []
    },
    {
      "cell_type": "markdown",
      "source": [
        "Create Global Variables"
      ],
      "metadata": {
        "id": "eJv23AUxqie9"
      }
    },
    {
      "cell_type": "code",
      "source": [
        "#Lipid Variables\n",
        "HDL_0 = df_base['HDL']\n",
        "TC_0 = df_base['TC']\n",
        "TG_0 = df_base['TG']\n",
        "\n",
        "#PCE Variables\n",
        "age = df_base['age']\n",
        "SBP = df_base['SBP']\n",
        "BPRx = df_base['BPRx']\n",
        "BPRxn = df_base['BPRxn']\n",
        "smoker = df_base['smoker']\n",
        "DM = df_base['DM']\n",
        "\n",
        "#Error Variable Names\n",
        "HDL_BV = TAE_df.loc['HDL','BV']\n",
        "HDL_CV = TAE_df.loc['HDL','CV']\n",
        "HDL_SD = TAE_df.loc['HDL','SD']\n",
        "HDL_PB = TAE_df.loc['HDL','PB']\n",
        "\n",
        "TC_BV = TAE_df.loc['TC','BV']\n",
        "TC_CV = TAE_df.loc['TC','CV']\n",
        "TC_PB = TAE_df.loc['TC','PB']\n",
        "\n",
        "TG_BV = TAE_df.loc['TG','BV']\n",
        "TG_CV = TAE_df.loc['TG','CV']\n",
        "TG_PB = TAE_df.loc['TG','PB']"
      ],
      "metadata": {
        "id": "2UHWLMHMqWsL"
      },
      "execution_count": null,
      "outputs": []
    },
    {
      "cell_type": "markdown",
      "source": [
        "Create HDL_CV and PB Columns for each Scenario"
      ],
      "metadata": {
        "id": "b7QTRasjbrAW"
      }
    },
    {
      "cell_type": "code",
      "source": [
        "                                                                    #### Scenario 0: No Bias\n",
        "\n",
        "#Create HDL_CV Column (SD=1.7 if HDL <57 mg/dL, CV=0.03 if HDL >=57 mg/dL)\n",
        "df_base.loc[:,'HDL_CV0'] = np.where(HDL_0 >=57, HDL_CV, HDL_SD/HDL_0)\n",
        "\n",
        "\n",
        "\n",
        "                                                                    #### Scenario 1: Max LDL-C\n",
        "\n",
        "#Add Proportional Bias (y = mx +c)\n",
        "df_base.loc[:,'HDL_PB1'] = ((1-HDL_PB)*HDL_0).astype('int')\n",
        "df_base.loc[:,'TC_PB1'] = ((1+TC_PB)*TC_0).astype('int')\n",
        "df_base.loc[:,'TG_PB1'] = ((1-TG_PB)*TG_0).astype('int')\n",
        "HDL_PB1 = df_base['HDL_PB1']\n",
        "\n",
        "\n",
        "#Create HDL_CV Column (SD=1.7 if HDL <57 mg/dL, CV=0.03 if HDL >=57 mg/dL)\n",
        "#Used the biased value as the basis for whether to use SD or CV\n",
        "df_base.loc[:,'HDL_CV1'] = np.where(HDL_PB1 >=57, HDL_CV, HDL_SD/HDL_PB1)\n",
        "\n",
        "\n",
        "\n",
        "                                                                    #### Scenario 2: Min LDL-C\n",
        "#Add Proportional Bias (y = mx +c)\n",
        "df_base.loc[:,'HDL_PB2'] = ((1+HDL_PB)*HDL_0).astype('int')\n",
        "df_base.loc[:,'TC_PB2'] = ((1-TC_PB)*TC_0).astype('int')\n",
        "df_base.loc[:,'TG_PB2'] = ((1+TG_PB)*TG_0).astype('int')\n",
        "HDL_PB2 = df_base['HDL_PB2']\n",
        "\n",
        "\n",
        "#Create HDL_CV Column (SD=1.7 if HDL <57 mg/dL, CV=0.03 if HDL >=57 mg/dL)\n",
        "#Used the biased value as the basis for whether to use SD or CV\n",
        "df_base.loc[:,'HDL_CV2'] = np.where(HDL_PB2 >=57, HDL_CV, HDL_SD/HDL_PB2)\n"
      ],
      "metadata": {
        "id": "xxBD0LIbbt9F"
      },
      "execution_count": null,
      "outputs": []
    },
    {
      "cell_type": "markdown",
      "source": [
        "Calculate fixed terms for PCE calculation"
      ],
      "metadata": {
        "id": "Y9KjY2hGcWhC"
      }
    },
    {
      "cell_type": "code",
      "source": [
        "###Create PCE Variable and Coefficient columns\n",
        "\n",
        "coeff_names = ['CAge', 'CSqAge', 'CTotalChol', 'CAgeTotalChol','CHDLChol', 'CAgeHDLChol', 'COnHypertensionMeds', 'CAgeOnHypertensionMeds', 'COffHypertensionMeds', 'CAgeOffHypertensionMeds',\n",
        "          'CSmoker', 'CAgeSmoker', 'CDiabetes', 'S10','MeanTerms']\n",
        "\n",
        "fixedcoeffs = ['CAge', 'CSqAge', 'COnHypertensionMeds', 'CAgeOnHypertensionMeds', 'COffHypertensionMeds',\n",
        "               'CAgeOffHypertensionMeds', 'CSmoker', 'CAgeSmoker', 'CDiabetes', 'S10','MeanTerms']\n",
        "\n",
        "fixedterms = ['Age', 'SqAge',  'OnHypertensionMeds', 'AgeOnHypertensionMeds', 'OffHypertensionMeds',\n",
        "              'AgeOffHypertensionMeds', 'Smoker', 'AgeSmoker', 'Diabetes']\n",
        "\n",
        "#Coefficient Columns\n",
        "for coeff in coeff_names:\n",
        "  df_base.loc[:,coeff] = np.select(condlist=[(df_base['race']==0) & (df_base['sex']==0), (df_base['race']==0) & (df_base['sex']==1),\n",
        "                                       (df_base['race']==1) & (df_base['sex']==0), (df_base['race']==1) & (df_base['sex']==1)],\n",
        "                             choicelist=[PCE_coeffs.loc[2, coeff], PCE_coeffs.loc[3, coeff], PCE_coeffs.loc[0, coeff], PCE_coeffs.loc[1, coeff]],\n",
        "                             default = np.nan)\n",
        "\n",
        "\n",
        "variables = [np.log(age), np.log(age)**2, np.log(SBP) * BPRx, np.log(age) * np.log(SBP) * BPRx,\n",
        "             np.log(SBP) * BPRxn, np.log(age) * np.log(SBP) * BPRxn, smoker, np.log(age) * smoker, DM]\n",
        "\n",
        "\n",
        "#Fixed term columns and sum of fixed terms\n",
        "for t in range(9):\n",
        "  df_base.loc[:,fixedterms[t]] = variables[t]*df_base[fixedcoeffs[t]]\n",
        "df_base.loc[:,'interum_sum'] = df_base.loc[:,fixedterms].sum(axis=1)\n",
        "\n",
        "\n",
        "df_base.head()"
      ],
      "metadata": {
        "colab": {
          "base_uri": "https://localhost:8080/",
          "height": 299
        },
        "id": "VKBhfzaacdmv",
        "outputId": "59f92f61-5253-4962-ba62-7c87d1d2ffed"
      },
      "execution_count": null,
      "outputs": [
        {
          "output_type": "execute_result",
          "data": {
            "text/plain": [
              "      ID  age  race  sex  SBP  BPRx  BPRxn  smoker  DM  HDL  ...         Age  \\\n",
              "0  31131   44     1    1  139     1      0       0   0   39  ...   64.762621   \n",
              "1  31153   44     0    1  121     1      0       0   0   50  ... -112.765067   \n",
              "2  31158   71     0    0  146     0      1       1   0   71  ...   52.618520   \n",
              "3  31193   51     0    0  149     0      1       1   0   40  ...   48.534456   \n",
              "4  31205   43     0    1  137     0      1       0   0   43  ... -112.080002   \n",
              "\n",
              "       SqAge  OnHypertensionMeds  AgeOnHypertensionMeds  OffHypertensionMeds  \\\n",
              "0   0.000000          144.535676             -120.10464             0.000000   \n",
              "1  69.939325            9.682701                0.00000             0.000000   \n",
              "2   0.000000            0.000000                0.00000             8.791082   \n",
              "3   0.000000            0.000000                0.00000             8.826961   \n",
              "4  69.092123            0.000000                0.00000             9.628403   \n",
              "\n",
              "   AgeOffHypertensionMeds  Smoker  AgeSmoker  Diabetes  interum_sum  \n",
              "0                    -0.0   0.000   0.000000       0.0    89.193657  \n",
              "1                     0.0   0.000  -0.000000       0.0   -33.143040  \n",
              "2                     0.0   7.837  -7.651510       0.0    61.595092  \n",
              "3                     0.0   7.837  -7.057627       0.0    58.140790  \n",
              "4                     0.0   0.000  -0.000000       0.0   -33.359477  \n",
              "\n",
              "[5 rows x 47 columns]"
            ],
            "text/html": [
              "\n",
              "  <div id=\"df-3864970f-0cfd-495e-a233-f9a9b5a7aaa9\">\n",
              "    <div class=\"colab-df-container\">\n",
              "      <div>\n",
              "<style scoped>\n",
              "    .dataframe tbody tr th:only-of-type {\n",
              "        vertical-align: middle;\n",
              "    }\n",
              "\n",
              "    .dataframe tbody tr th {\n",
              "        vertical-align: top;\n",
              "    }\n",
              "\n",
              "    .dataframe thead th {\n",
              "        text-align: right;\n",
              "    }\n",
              "</style>\n",
              "<table border=\"1\" class=\"dataframe\">\n",
              "  <thead>\n",
              "    <tr style=\"text-align: right;\">\n",
              "      <th></th>\n",
              "      <th>ID</th>\n",
              "      <th>age</th>\n",
              "      <th>race</th>\n",
              "      <th>sex</th>\n",
              "      <th>SBP</th>\n",
              "      <th>BPRx</th>\n",
              "      <th>BPRxn</th>\n",
              "      <th>smoker</th>\n",
              "      <th>DM</th>\n",
              "      <th>HDL</th>\n",
              "      <th>...</th>\n",
              "      <th>Age</th>\n",
              "      <th>SqAge</th>\n",
              "      <th>OnHypertensionMeds</th>\n",
              "      <th>AgeOnHypertensionMeds</th>\n",
              "      <th>OffHypertensionMeds</th>\n",
              "      <th>AgeOffHypertensionMeds</th>\n",
              "      <th>Smoker</th>\n",
              "      <th>AgeSmoker</th>\n",
              "      <th>Diabetes</th>\n",
              "      <th>interum_sum</th>\n",
              "    </tr>\n",
              "  </thead>\n",
              "  <tbody>\n",
              "    <tr>\n",
              "      <th>0</th>\n",
              "      <td>31131</td>\n",
              "      <td>44</td>\n",
              "      <td>1</td>\n",
              "      <td>1</td>\n",
              "      <td>139</td>\n",
              "      <td>1</td>\n",
              "      <td>0</td>\n",
              "      <td>0</td>\n",
              "      <td>0</td>\n",
              "      <td>39</td>\n",
              "      <td>...</td>\n",
              "      <td>64.762621</td>\n",
              "      <td>0.000000</td>\n",
              "      <td>144.535676</td>\n",
              "      <td>-120.10464</td>\n",
              "      <td>0.000000</td>\n",
              "      <td>-0.0</td>\n",
              "      <td>0.000</td>\n",
              "      <td>0.000000</td>\n",
              "      <td>0.0</td>\n",
              "      <td>89.193657</td>\n",
              "    </tr>\n",
              "    <tr>\n",
              "      <th>1</th>\n",
              "      <td>31153</td>\n",
              "      <td>44</td>\n",
              "      <td>0</td>\n",
              "      <td>1</td>\n",
              "      <td>121</td>\n",
              "      <td>1</td>\n",
              "      <td>0</td>\n",
              "      <td>0</td>\n",
              "      <td>0</td>\n",
              "      <td>50</td>\n",
              "      <td>...</td>\n",
              "      <td>-112.765067</td>\n",
              "      <td>69.939325</td>\n",
              "      <td>9.682701</td>\n",
              "      <td>0.00000</td>\n",
              "      <td>0.000000</td>\n",
              "      <td>0.0</td>\n",
              "      <td>0.000</td>\n",
              "      <td>-0.000000</td>\n",
              "      <td>0.0</td>\n",
              "      <td>-33.143040</td>\n",
              "    </tr>\n",
              "    <tr>\n",
              "      <th>2</th>\n",
              "      <td>31158</td>\n",
              "      <td>71</td>\n",
              "      <td>0</td>\n",
              "      <td>0</td>\n",
              "      <td>146</td>\n",
              "      <td>0</td>\n",
              "      <td>1</td>\n",
              "      <td>1</td>\n",
              "      <td>0</td>\n",
              "      <td>71</td>\n",
              "      <td>...</td>\n",
              "      <td>52.618520</td>\n",
              "      <td>0.000000</td>\n",
              "      <td>0.000000</td>\n",
              "      <td>0.00000</td>\n",
              "      <td>8.791082</td>\n",
              "      <td>0.0</td>\n",
              "      <td>7.837</td>\n",
              "      <td>-7.651510</td>\n",
              "      <td>0.0</td>\n",
              "      <td>61.595092</td>\n",
              "    </tr>\n",
              "    <tr>\n",
              "      <th>3</th>\n",
              "      <td>31193</td>\n",
              "      <td>51</td>\n",
              "      <td>0</td>\n",
              "      <td>0</td>\n",
              "      <td>149</td>\n",
              "      <td>0</td>\n",
              "      <td>1</td>\n",
              "      <td>1</td>\n",
              "      <td>0</td>\n",
              "      <td>40</td>\n",
              "      <td>...</td>\n",
              "      <td>48.534456</td>\n",
              "      <td>0.000000</td>\n",
              "      <td>0.000000</td>\n",
              "      <td>0.00000</td>\n",
              "      <td>8.826961</td>\n",
              "      <td>0.0</td>\n",
              "      <td>7.837</td>\n",
              "      <td>-7.057627</td>\n",
              "      <td>0.0</td>\n",
              "      <td>58.140790</td>\n",
              "    </tr>\n",
              "    <tr>\n",
              "      <th>4</th>\n",
              "      <td>31205</td>\n",
              "      <td>43</td>\n",
              "      <td>0</td>\n",
              "      <td>1</td>\n",
              "      <td>137</td>\n",
              "      <td>0</td>\n",
              "      <td>1</td>\n",
              "      <td>0</td>\n",
              "      <td>0</td>\n",
              "      <td>43</td>\n",
              "      <td>...</td>\n",
              "      <td>-112.080002</td>\n",
              "      <td>69.092123</td>\n",
              "      <td>0.000000</td>\n",
              "      <td>0.00000</td>\n",
              "      <td>9.628403</td>\n",
              "      <td>0.0</td>\n",
              "      <td>0.000</td>\n",
              "      <td>-0.000000</td>\n",
              "      <td>0.0</td>\n",
              "      <td>-33.359477</td>\n",
              "    </tr>\n",
              "  </tbody>\n",
              "</table>\n",
              "<p>5 rows × 47 columns</p>\n",
              "</div>\n",
              "      <button class=\"colab-df-convert\" onclick=\"convertToInteractive('df-3864970f-0cfd-495e-a233-f9a9b5a7aaa9')\"\n",
              "              title=\"Convert this dataframe to an interactive table.\"\n",
              "              style=\"display:none;\">\n",
              "        \n",
              "  <svg xmlns=\"http://www.w3.org/2000/svg\" height=\"24px\"viewBox=\"0 0 24 24\"\n",
              "       width=\"24px\">\n",
              "    <path d=\"M0 0h24v24H0V0z\" fill=\"none\"/>\n",
              "    <path d=\"M18.56 5.44l.94 2.06.94-2.06 2.06-.94-2.06-.94-.94-2.06-.94 2.06-2.06.94zm-11 1L8.5 8.5l.94-2.06 2.06-.94-2.06-.94L8.5 2.5l-.94 2.06-2.06.94zm10 10l.94 2.06.94-2.06 2.06-.94-2.06-.94-.94-2.06-.94 2.06-2.06.94z\"/><path d=\"M17.41 7.96l-1.37-1.37c-.4-.4-.92-.59-1.43-.59-.52 0-1.04.2-1.43.59L10.3 9.45l-7.72 7.72c-.78.78-.78 2.05 0 2.83L4 21.41c.39.39.9.59 1.41.59.51 0 1.02-.2 1.41-.59l7.78-7.78 2.81-2.81c.8-.78.8-2.07 0-2.86zM5.41 20L4 18.59l7.72-7.72 1.47 1.35L5.41 20z\"/>\n",
              "  </svg>\n",
              "      </button>\n",
              "      \n",
              "  <style>\n",
              "    .colab-df-container {\n",
              "      display:flex;\n",
              "      flex-wrap:wrap;\n",
              "      gap: 12px;\n",
              "    }\n",
              "\n",
              "    .colab-df-convert {\n",
              "      background-color: #E8F0FE;\n",
              "      border: none;\n",
              "      border-radius: 50%;\n",
              "      cursor: pointer;\n",
              "      display: none;\n",
              "      fill: #1967D2;\n",
              "      height: 32px;\n",
              "      padding: 0 0 0 0;\n",
              "      width: 32px;\n",
              "    }\n",
              "\n",
              "    .colab-df-convert:hover {\n",
              "      background-color: #E2EBFA;\n",
              "      box-shadow: 0px 1px 2px rgba(60, 64, 67, 0.3), 0px 1px 3px 1px rgba(60, 64, 67, 0.15);\n",
              "      fill: #174EA6;\n",
              "    }\n",
              "\n",
              "    [theme=dark] .colab-df-convert {\n",
              "      background-color: #3B4455;\n",
              "      fill: #D2E3FC;\n",
              "    }\n",
              "\n",
              "    [theme=dark] .colab-df-convert:hover {\n",
              "      background-color: #434B5C;\n",
              "      box-shadow: 0px 1px 3px 1px rgba(0, 0, 0, 0.15);\n",
              "      filter: drop-shadow(0px 1px 2px rgba(0, 0, 0, 0.3));\n",
              "      fill: #FFFFFF;\n",
              "    }\n",
              "  </style>\n",
              "\n",
              "      <script>\n",
              "        const buttonEl =\n",
              "          document.querySelector('#df-3864970f-0cfd-495e-a233-f9a9b5a7aaa9 button.colab-df-convert');\n",
              "        buttonEl.style.display =\n",
              "          google.colab.kernel.accessAllowed ? 'block' : 'none';\n",
              "\n",
              "        async function convertToInteractive(key) {\n",
              "          const element = document.querySelector('#df-3864970f-0cfd-495e-a233-f9a9b5a7aaa9');\n",
              "          const dataTable =\n",
              "            await google.colab.kernel.invokeFunction('convertToInteractive',\n",
              "                                                     [key], {});\n",
              "          if (!dataTable) return;\n",
              "\n",
              "          const docLinkHtml = 'Like what you see? Visit the ' +\n",
              "            '<a target=\"_blank\" href=https://colab.research.google.com/notebooks/data_table.ipynb>data table notebook</a>'\n",
              "            + ' to learn more about interactive tables.';\n",
              "          element.innerHTML = '';\n",
              "          dataTable['output_type'] = 'display_data';\n",
              "          await google.colab.output.renderOutput(dataTable, element);\n",
              "          const docLink = document.createElement('div');\n",
              "          docLink.innerHTML = docLinkHtml;\n",
              "          element.appendChild(docLink);\n",
              "        }\n",
              "      </script>\n",
              "    </div>\n",
              "  </div>\n",
              "  "
            ]
          },
          "metadata": {},
          "execution_count": 9
        }
      ]
    },
    {
      "cell_type": "markdown",
      "source": [
        "# Save base dataframe to .CSV file"
      ],
      "metadata": {
        "id": "AFo1V_Bk_uya"
      }
    },
    {
      "cell_type": "code",
      "source": [
        "df_base.to_csv('df_base_new.csv', index = False)"
      ],
      "metadata": {
        "id": "lQCXmzXA_JDo"
      },
      "execution_count": null,
      "outputs": []
    }
  ]
}