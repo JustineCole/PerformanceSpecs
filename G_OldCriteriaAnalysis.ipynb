{
  "nbformat": 4,
  "nbformat_minor": 0,
  "metadata": {
    "colab": {
      "provenance": [],
      "collapsed_sections": [
        "ENOhwRYofkW3",
        "FKdw-k9IgiLo",
        "06sqC-6nZThU"
      ],
      "authorship_tag": "ABX9TyMVci64lDOtE5Mv/HCGFnS9",
      "include_colab_link": true
    },
    "kernelspec": {
      "name": "python3",
      "display_name": "Python 3"
    },
    "language_info": {
      "name": "python"
    }
  },
  "cells": [
    {
      "cell_type": "markdown",
      "metadata": {
        "id": "view-in-github",
        "colab_type": "text"
      },
      "source": [
        "<a href=\"https://colab.research.google.com/github/justcme/PerformanceSpecs/blob/main/G_OldCriteriaAnalysis.ipynb\" target=\"_parent\"><img src=\"https://colab.research.google.com/assets/colab-badge.svg\" alt=\"Open In Colab\"/></a>"
      ]
    },
    {
      "cell_type": "markdown",
      "source": [
        "# Lipid Panel Assays Performance Recommendations\n",
        "\n",
        "Add known biological variability, then current allowed imprecision and bias (as proportional bias) to given \"true\" values, to determine the effect on variability of risk classification."
      ],
      "metadata": {
        "id": "_9T2VaL1Fwee"
      }
    },
    {
      "cell_type": "markdown",
      "source": [
        "# SETUP"
      ],
      "metadata": {
        "id": "1Og253ECcLjr"
      }
    },
    {
      "cell_type": "markdown",
      "source": [
        "OS"
      ],
      "metadata": {
        "id": "9R9VUIVvGQUe"
      }
    },
    {
      "cell_type": "code",
      "execution_count": null,
      "metadata": {
        "colab": {
          "base_uri": "https://localhost:8080/"
        },
        "id": "VpubywtBFIq_",
        "outputId": "aa62ae3c-f1e4-43f0-a245-0397d5b57dbb"
      },
      "outputs": [
        {
          "output_type": "stream",
          "name": "stdout",
          "text": [
            "Drive already mounted at /content/drive/; to attempt to forcibly remount, call drive.mount(\"/content/drive/\", force_remount=True).\n"
          ]
        }
      ],
      "source": [
        "import os\n",
        "from google.colab import drive\n",
        "drive.mount('/content/drive/')\n",
        "os.chdir(\"/content/drive/My Drive/Colab Notebooks/LipidPerf/from_Pandas\")"
      ]
    },
    {
      "cell_type": "markdown",
      "source": [
        "Imports"
      ],
      "metadata": {
        "id": "xDokOY5WIcu6"
      }
    },
    {
      "cell_type": "code",
      "source": [
        "import numpy as np\n",
        "import pandas as pd\n",
        "from scipy.stats import norm\n",
        "import random\n",
        "from tqdm import tqdm"
      ],
      "metadata": {
        "id": "VSJUwh6cId8S"
      },
      "execution_count": null,
      "outputs": []
    },
    {
      "cell_type": "markdown",
      "source": [
        "# DATA"
      ],
      "metadata": {
        "id": "rAziTdPTIeV5"
      }
    },
    {
      "cell_type": "code",
      "source": [
        "df_base = pd.read_csv(\"Base/df_base.csv\")  #Original Lipid Data\n",
        "PCE_coeffs = pd.read_csv(\"Base/PCE_coeffs.csv\")   #Coefficients for Pooled Cohort Equation calculation\n",
        "TAE = pd.read_csv('Base/TAE_df.csv', index_col=0)   #Allowable error and BV lookup table"
      ],
      "metadata": {
        "id": "iG7JjLnAFZX1"
      },
      "execution_count": null,
      "outputs": []
    },
    {
      "cell_type": "code",
      "source": [
        "TAE"
      ],
      "metadata": {
        "colab": {
          "base_uri": "https://localhost:8080/",
          "height": 206
        },
        "id": "azEukY5WTpB0",
        "outputId": "d50d549b-f7f4-4818-9b45-b25a2938b228"
      },
      "execution_count": null,
      "outputs": [
        {
          "output_type": "execute_result",
          "data": {
            "text/plain": [
              "              BV    PB    CV   SD\n",
              "Parameter                        \n",
              "TC         0.053  0.03  0.03  NaN\n",
              "HDL        0.058  0.05  0.04  1.7\n",
              "TG         0.200  0.05  0.05  NaN\n",
              "dLDL       0.083  0.04  0.04  NaN"
            ],
            "text/html": [
              "\n",
              "  <div id=\"df-ca869a15-10db-413b-a466-3df9c20bc8ff\">\n",
              "    <div class=\"colab-df-container\">\n",
              "      <div>\n",
              "<style scoped>\n",
              "    .dataframe tbody tr th:only-of-type {\n",
              "        vertical-align: middle;\n",
              "    }\n",
              "\n",
              "    .dataframe tbody tr th {\n",
              "        vertical-align: top;\n",
              "    }\n",
              "\n",
              "    .dataframe thead th {\n",
              "        text-align: right;\n",
              "    }\n",
              "</style>\n",
              "<table border=\"1\" class=\"dataframe\">\n",
              "  <thead>\n",
              "    <tr style=\"text-align: right;\">\n",
              "      <th></th>\n",
              "      <th>BV</th>\n",
              "      <th>PB</th>\n",
              "      <th>CV</th>\n",
              "      <th>SD</th>\n",
              "    </tr>\n",
              "    <tr>\n",
              "      <th>Parameter</th>\n",
              "      <th></th>\n",
              "      <th></th>\n",
              "      <th></th>\n",
              "      <th></th>\n",
              "    </tr>\n",
              "  </thead>\n",
              "  <tbody>\n",
              "    <tr>\n",
              "      <th>TC</th>\n",
              "      <td>0.053</td>\n",
              "      <td>0.03</td>\n",
              "      <td>0.03</td>\n",
              "      <td>NaN</td>\n",
              "    </tr>\n",
              "    <tr>\n",
              "      <th>HDL</th>\n",
              "      <td>0.058</td>\n",
              "      <td>0.05</td>\n",
              "      <td>0.04</td>\n",
              "      <td>1.7</td>\n",
              "    </tr>\n",
              "    <tr>\n",
              "      <th>TG</th>\n",
              "      <td>0.200</td>\n",
              "      <td>0.05</td>\n",
              "      <td>0.05</td>\n",
              "      <td>NaN</td>\n",
              "    </tr>\n",
              "    <tr>\n",
              "      <th>dLDL</th>\n",
              "      <td>0.083</td>\n",
              "      <td>0.04</td>\n",
              "      <td>0.04</td>\n",
              "      <td>NaN</td>\n",
              "    </tr>\n",
              "  </tbody>\n",
              "</table>\n",
              "</div>\n",
              "      <button class=\"colab-df-convert\" onclick=\"convertToInteractive('df-ca869a15-10db-413b-a466-3df9c20bc8ff')\"\n",
              "              title=\"Convert this dataframe to an interactive table.\"\n",
              "              style=\"display:none;\">\n",
              "        \n",
              "  <svg xmlns=\"http://www.w3.org/2000/svg\" height=\"24px\"viewBox=\"0 0 24 24\"\n",
              "       width=\"24px\">\n",
              "    <path d=\"M0 0h24v24H0V0z\" fill=\"none\"/>\n",
              "    <path d=\"M18.56 5.44l.94 2.06.94-2.06 2.06-.94-2.06-.94-.94-2.06-.94 2.06-2.06.94zm-11 1L8.5 8.5l.94-2.06 2.06-.94-2.06-.94L8.5 2.5l-.94 2.06-2.06.94zm10 10l.94 2.06.94-2.06 2.06-.94-2.06-.94-.94-2.06-.94 2.06-2.06.94z\"/><path d=\"M17.41 7.96l-1.37-1.37c-.4-.4-.92-.59-1.43-.59-.52 0-1.04.2-1.43.59L10.3 9.45l-7.72 7.72c-.78.78-.78 2.05 0 2.83L4 21.41c.39.39.9.59 1.41.59.51 0 1.02-.2 1.41-.59l7.78-7.78 2.81-2.81c.8-.78.8-2.07 0-2.86zM5.41 20L4 18.59l7.72-7.72 1.47 1.35L5.41 20z\"/>\n",
              "  </svg>\n",
              "      </button>\n",
              "      \n",
              "  <style>\n",
              "    .colab-df-container {\n",
              "      display:flex;\n",
              "      flex-wrap:wrap;\n",
              "      gap: 12px;\n",
              "    }\n",
              "\n",
              "    .colab-df-convert {\n",
              "      background-color: #E8F0FE;\n",
              "      border: none;\n",
              "      border-radius: 50%;\n",
              "      cursor: pointer;\n",
              "      display: none;\n",
              "      fill: #1967D2;\n",
              "      height: 32px;\n",
              "      padding: 0 0 0 0;\n",
              "      width: 32px;\n",
              "    }\n",
              "\n",
              "    .colab-df-convert:hover {\n",
              "      background-color: #E2EBFA;\n",
              "      box-shadow: 0px 1px 2px rgba(60, 64, 67, 0.3), 0px 1px 3px 1px rgba(60, 64, 67, 0.15);\n",
              "      fill: #174EA6;\n",
              "    }\n",
              "\n",
              "    [theme=dark] .colab-df-convert {\n",
              "      background-color: #3B4455;\n",
              "      fill: #D2E3FC;\n",
              "    }\n",
              "\n",
              "    [theme=dark] .colab-df-convert:hover {\n",
              "      background-color: #434B5C;\n",
              "      box-shadow: 0px 1px 3px 1px rgba(0, 0, 0, 0.15);\n",
              "      filter: drop-shadow(0px 1px 2px rgba(0, 0, 0, 0.3));\n",
              "      fill: #FFFFFF;\n",
              "    }\n",
              "  </style>\n",
              "\n",
              "      <script>\n",
              "        const buttonEl =\n",
              "          document.querySelector('#df-ca869a15-10db-413b-a466-3df9c20bc8ff button.colab-df-convert');\n",
              "        buttonEl.style.display =\n",
              "          google.colab.kernel.accessAllowed ? 'block' : 'none';\n",
              "\n",
              "        async function convertToInteractive(key) {\n",
              "          const element = document.querySelector('#df-ca869a15-10db-413b-a466-3df9c20bc8ff');\n",
              "          const dataTable =\n",
              "            await google.colab.kernel.invokeFunction('convertToInteractive',\n",
              "                                                     [key], {});\n",
              "          if (!dataTable) return;\n",
              "\n",
              "          const docLinkHtml = 'Like what you see? Visit the ' +\n",
              "            '<a target=\"_blank\" href=https://colab.research.google.com/notebooks/data_table.ipynb>data table notebook</a>'\n",
              "            + ' to learn more about interactive tables.';\n",
              "          element.innerHTML = '';\n",
              "          dataTable['output_type'] = 'display_data';\n",
              "          await google.colab.output.renderOutput(dataTable, element);\n",
              "          const docLink = document.createElement('div');\n",
              "          docLink.innerHTML = docLinkHtml;\n",
              "          element.appendChild(docLink);\n",
              "        }\n",
              "      </script>\n",
              "    </div>\n",
              "  </div>\n",
              "  "
            ]
          },
          "metadata": {},
          "execution_count": 69
        }
      ]
    },
    {
      "cell_type": "markdown",
      "source": [
        "#Create Global Variables"
      ],
      "metadata": {
        "id": "r_94R0sEopH3"
      }
    },
    {
      "cell_type": "code",
      "source": [
        "params = ['TC','HDL','TG','dLDL']\n",
        "BLipTypes = ['cLDL','NHDL','dLDL']\n",
        "\n",
        "#PCE Variables\n",
        "age = df_base['age']\n",
        "SBP = df_base['SBP']\n",
        "BPRx = df_base['BPRx']\n",
        "BPRxn = df_base['BPRxn']\n",
        "smoker = df_base['smoker']\n",
        "DM = df_base['DM']"
      ],
      "metadata": {
        "id": "7ppO_KlKsHC7"
      },
      "execution_count": null,
      "outputs": []
    },
    {
      "cell_type": "markdown",
      "source": [
        "# FUNCTIONS"
      ],
      "metadata": {
        "id": "ENOhwRYofkW3"
      }
    },
    {
      "cell_type": "markdown",
      "source": [
        "## 1. Add Variability"
      ],
      "metadata": {
        "id": "7P7JamGyqSIx"
      }
    },
    {
      "cell_type": "code",
      "source": [
        "#np.random.randint(0,500,400)\n",
        "#Total number is (# of parameters) x (# of variability types) x (# of replicates)\n",
        "# = 4 x 2 x 50 = 400"
      ],
      "metadata": {
        "id": "TfV9tg2gusRd"
      },
      "execution_count": null,
      "outputs": []
    },
    {
      "cell_type": "code",
      "source": [
        "Seeds2 = [334, 376,  81, 213, 163, 441, 417, 332,  24, 445, 295, 420, 461,\n",
        "       446, 185, 472, 430,  92,  99, 250, 136,  94, 337, 332,  24, 174,\n",
        "       324, 479, 322, 456,  31, 279, 379, 123, 262, 394,  75, 169,  76,\n",
        "       133, 339, 471, 304, 285, 339, 481, 227,  97, 294, 425, 189, 168,\n",
        "       227,  38, 160, 467,  14, 116,  99, 474,  89, 282, 158,  33, 330,\n",
        "       332, 493,  81, 218, 326, 341, 378,  64, 176,  67, 340, 365, 405,\n",
        "       129, 237, 488, 203, 264, 471,  76, 110, 180, 385,  81, 157, 233,\n",
        "       110, 236, 116, 134,  97, 144, 154, 497, 230,  34, 296,  98, 350,\n",
        "       443,  63, 244, 350, 229, 293, 473, 484, 322, 411, 304, 186,  24,\n",
        "       291, 144, 191, 396, 421, 199, 328, 263, 317,  11, 363, 106, 437,\n",
        "       276, 182, 256, 406, 379,  51, 313,  13,  79, 293, 311, 162, 214,\n",
        "       312, 466, 105, 336, 421, 255, 426,  40, 469, 381, 118, 466, 131,\n",
        "       452, 411, 408, 491, 398,  33, 170, 407, 130,  18,   3, 225,   3,\n",
        "       422, 114,  42, 426, 498, 473,  14, 456, 179, 175,  84,  77,  48,\n",
        "        97, 295, 455, 176,  12, 100, 198, 379,  78, 383, 178, 263,  81,\n",
        "       488, 411, 343, 204, 419,  18, 187, 342, 414, 246, 353, 160, 317,\n",
        "       411, 473, 232, 250, 277, 284, 127, 162, 493, 179, 339,  97, 295,\n",
        "       259, 432,  86, 154,  12, 476,   9, 352,  37, 402, 295, 364,  71,\n",
        "       200, 384, 461, 305, 107, 315, 240,  88, 371, 210, 328, 466, 361,\n",
        "       378,  85, 480, 150, 267, 275, 289, 256,  93, 272, 167,  41,  80,\n",
        "       118, 308, 410, 137, 201, 292, 366, 310, 208,   3,  73,  27,  67,\n",
        "       235, 328, 254, 482, 221,  39, 174,  70, 248, 398, 150,  78, 295,\n",
        "       324, 476, 299, 107, 364, 154, 335, 345, 106, 472, 255, 153, 484,\n",
        "       402,  96, 354, 183, 186, 320, 472, 235, 499, 244,  96, 435, 400,\n",
        "       202, 455, 186, 410, 447, 475, 141, 486, 274,  25, 318, 224, 436,\n",
        "         5,  43, 230, 246, 270,  12, 444, 454,  58, 164, 476,  78, 368,\n",
        "        31, 489, 189, 487, 306, 257,  61,  59,  38, 276, 184, 332, 185,\n",
        "        14,  36, 247, 344, 303,  90, 341, 455,  94, 294, 429, 147, 141,\n",
        "       176, 334, 407, 463, 242, 390,  42, 122, 196, 202, 240, 214,  52,\n",
        "        45, 167, 426, 164,  37,  36, 292, 216, 148, 460,  25, 400, 200,\n",
        "       399, 157,  77,  18, 142,  86, 101, 226, 483,  96]"
      ],
      "metadata": {
        "id": "DQWdmGAMvJ1v"
      },
      "execution_count": null,
      "outputs": []
    },
    {
      "cell_type": "code",
      "source": [
        "Seeds1 = Seeds2[1::2]"
      ],
      "metadata": {
        "id": "v4hip2gaP4D2"
      },
      "execution_count": null,
      "outputs": []
    },
    {
      "cell_type": "code",
      "source": [
        "def AddVarGen(df, parameters, PB, variability_types, replicate):\n",
        "  \"\"\"Adds given error types sequentially to given parameters.\n",
        "  Number of Seeds required for RandomState generation = number of parameters*number of replicates.\n",
        "  Seeds array should be created before calling function, and saved for validation of analysis.\"\"\"\n",
        "\n",
        "  \"\"\"The norm.ppf function calculates is the inverse of the cumulative distribution function (CDF) of the standard normal distribution.\n",
        "  ppf stands for percent point function, which is another name for the quantile function.\n",
        "  random_sample selects a random number in the half-open interval [0,1). 1 Might occur due to rounding.\n",
        "  Initially included 0 and 1 but this results in extreme values. Numpy rounds after 16 decimals so I used 15 decimals to create the included range, excluding 0 and 1\n",
        "  providing a RandomState means the pseudo-random numbers generated will be the same each time the code is run. The number selected is meaningless. It just provides a starting point.\n",
        "  The RandomState number should be changed 5 times to get 5 iterations of the error scenarios.\n",
        "  Using (loc = mean, scale = SD) you can specify the mean and SD of the distribution instead of the default standard distribution.\"\"\"\n",
        "\n",
        "  \n",
        "  newdf = df.copy()\n",
        "  lp = len(parameters)\n",
        "  lv = len(variability_types)\n",
        "\n",
        "  for n,p in enumerate(parameters):\n",
        "    if PB == 0:\n",
        "      p2 = p\n",
        "    else:\n",
        "      p2 = f'{p}_PB{PB}'\n",
        "\n",
        "\n",
        "    newdf.loc[:,p] = df_base.loc[:,p2]\n",
        "\n",
        "    for k,e in enumerate(variability_types):\n",
        "      pos = lp*lv*replicate + (lv*n +k)\n",
        "\n",
        "      if lv == 1:\n",
        "        a = np.random.RandomState(Seeds1[pos])\n",
        "      else:\n",
        "        a = np.random.RandomState(Seeds2[pos])\n",
        "        \n",
        "      if p == 'HDL' and e == 'CV':\n",
        "        V = df_base.loc[:,f'HDL_CV{PB}']\n",
        "      else:\n",
        "        V = TAE.loc[p,e]\n",
        "\n",
        "\n",
        "      newdf.loc[:,p] = norm.ppf(a.uniform(1e-16,0.9999999999999999,8506), loc = newdf.loc[:,p], scale = V*newdf.loc[:,p]).astype('int')\n",
        "    \n",
        "    #To deal with values <0, make them = 1\n",
        "    newdf.loc[:,p] = np.select(condlist = [newdf.loc[:,p]<0, newdf.loc[:,p]>=0],\n",
        "                                choicelist = [1, newdf.loc[:,p]],\n",
        "                                default = np.nan)\n",
        "  \n",
        "  return newdf"
      ],
      "metadata": {
        "id": "M9pSbtjeO0f8"
      },
      "execution_count": null,
      "outputs": []
    },
    {
      "cell_type": "markdown",
      "source": [
        "## 2. Calculate and create columns for variable PCE terms and sum them"
      ],
      "metadata": {
        "id": "jxvy8dXRqZvK"
      }
    },
    {
      "cell_type": "code",
      "source": [
        "def AddSum(newdf):\n",
        "  \"\"\"This function creates columns for the variable terms in the PCE calculation and sums them\"\"\"\n",
        "\n",
        "  HDL = newdf['HDL']\n",
        "  TC = newdf['TC']\n",
        "\n",
        "  variableterms = ['TotalChol', 'AgeTotalChol','HDLChol', 'AgeHDLChol']\n",
        "  variables = [np.log(TC), np.log(age)*np.log(TC), np.log(HDL), np.log(age)*np.log(HDL)]\n",
        "  variablecoeffs = ['CTotalChol', 'CAgeTotalChol','CHDLChol', 'CAgeHDLChol']\n",
        "\n",
        "  for t in range(4):\n",
        "    newdf.loc[:,variableterms[t]] = variables[t]*df_base[variablecoeffs[t]]\n",
        "  newdf.loc[:,'add_sum'] = newdf.loc[:,variableterms].sum(axis=1)\n",
        "  \n",
        "  return newdf"
      ],
      "metadata": {
        "id": "IfxZ9tKrqijq"
      },
      "execution_count": null,
      "outputs": []
    },
    {
      "cell_type": "markdown",
      "source": [
        "## 3. Pooled Cohort Equation (PCE)"
      ],
      "metadata": {
        "id": "FKdw-k9IgiLo"
      }
    },
    {
      "cell_type": "code",
      "source": [
        "def PCEcalc(interum_sum, add_sum, meanterms, S10):\n",
        "  terms = interum_sum + add_sum\n",
        "  PCE = 100*(1 - S10 ** (np.e ** (terms - meanterms)))\n",
        "  return PCE"
      ],
      "metadata": {
        "id": "SF2ne61OgkmS"
      },
      "execution_count": null,
      "outputs": []
    },
    {
      "cell_type": "markdown",
      "source": [
        "## 4. Calculate and create LDL-C, non-HDL-C and PCE Columns"
      ],
      "metadata": {
        "id": "QHy5ut6aa5_Y"
      }
    },
    {
      "cell_type": "code",
      "source": [
        "def Calcs(df):\n",
        "  \"\"\"This function calculates LDL-C using the Friedewald equation, non-HDL-C,\n",
        "  and the ASCVD risk using the pooled cohort equation (PCE) from the American Heart Association.\"\"\"\n",
        "\n",
        "  newdf = df.copy()\n",
        "  HDL = newdf['HDL']\n",
        "  TC = newdf['TC']\n",
        "  TG = newdf['TG']\n",
        "\n",
        "\n",
        "  newdf.loc[:,'NHDL'] = TC - HDL\n",
        "  NHDL = newdf.loc[:,'NHDL']\n",
        "\n",
        "  # To calculate LDL-C: where TG<=400, use Friedewald, where >400, use Sampson  \n",
        "  newdf.loc[:,'cLDL'] = np.select(condlist = [newdf.loc[:,'TG']<=400, newdf.loc[:,'TG']>400],\n",
        "                                  choicelist = [TC - HDL - TG/5, TC/0.948 - HDL/0.971 - (TG/8.56 + (TG*NHDL)/2140 - (TG**2)/16100) - 9.44],\n",
        "                                  default = np.nan)  \n",
        "\n",
        "  newdf.loc[:,'PCE'] = newdf.apply(lambda x: PCEcalc(x.interum_sum, x.add_sum, x.MeanTerms, x.S10), axis=1)\n",
        "\n",
        "    \n",
        "  return newdf"
      ],
      "metadata": {
        "id": "CNwQ2e_TYJSc"
      },
      "execution_count": null,
      "outputs": []
    },
    {
      "cell_type": "markdown",
      "source": [
        "## 5. Risk Group Determination"
      ],
      "metadata": {
        "id": "AqTrLRNSbG9R"
      }
    },
    {
      "cell_type": "code",
      "source": [
        "def Groups3(df, BLipType):\n",
        "  \"\"\"This function determines the Risk Group (A-D) based on LDL-C and non-HDL-C and creates a column for each.\"\"\"\n",
        "\n",
        "  newdf = df.copy()\n",
        "\n",
        "  TG = newdf.loc[:, 'TG']\n",
        "  PCE = newdf.loc[:,'PCE']\n",
        "\n",
        "  if BLipType == 'cLDL' or BLipType == 'dLDL':\n",
        "    LDL = newdf.loc[:,BLipType]\n",
        "    newdf.loc[:,f'{BLipType}group'] = np.nan\n",
        "    newdf.loc[:,f'{BLipType}group'] = np.select(condlist=[(PCE<7.5) | (LDL<70),\n",
        "                                                (PCE >=20) | (LDL >=190),\n",
        "                                                (LDL >=70) & (LDL <160) & (TG <175),\n",
        "                                                (LDL >=160) | (TG >=175)],\n",
        "                                      choicelist=['A','D', 'B', 'C'],\n",
        "                                      default=np.nan)\n",
        "  else:\n",
        "    NHDL = newdf.loc[:,'NHDL']\n",
        "    newdf.loc[:,'Ngroup'] = np.nan\n",
        "    newdf.loc[:,'Ngroup'] = np.select(condlist=[(PCE<7.5) | (NHDL<90),\n",
        "                                                (PCE >=20) | (NHDL >=220),\n",
        "                                                (NHDL >=90) & (NHDL <190) & (TG <175),\n",
        "                                                (NHDL >=190) | (TG >=175)],\n",
        "                                      choicelist=['A','D', 'B', 'C'],\n",
        "                                      default=np.nan)\n",
        "\n",
        "  return newdf"
      ],
      "metadata": {
        "id": "90WWuHSg9fUa"
      },
      "execution_count": null,
      "outputs": []
    },
    {
      "cell_type": "markdown",
      "source": [
        "##6. Call all functions to complete new databases"
      ],
      "metadata": {
        "id": "hafw2r9-NBGK"
      }
    },
    {
      "cell_type": "code",
      "source": [
        "def AddCols(df,parameters, PB, variability_types, replicate):\n",
        "\n",
        "#Create a Dataframe\n",
        "  newdf = df[['ID','S10','MeanTerms','interum_sum']].copy()\n",
        "\n",
        "#Add Variability and Sum of variable terms\n",
        "  newdf = AddVarGen(newdf, parameters, PB, variability_types, replicate)\n",
        "  newdf = AddSum(newdf)\n",
        "\n",
        "#Calculate LDL-C, non-HDL-C and PCE and determine risk groups\n",
        "  newdf = Calcs(newdf)\n",
        "  for BLip in BLipTypes:\n",
        "    newdf = Groups3(newdf, BLip)\n",
        "\n",
        "  return newdf"
      ],
      "metadata": {
        "id": "kWr5iayQPRHI"
      },
      "execution_count": null,
      "outputs": []
    },
    {
      "cell_type": "markdown",
      "source": [
        "##7. Cross-tabulate new risk groups against original risk groups."
      ],
      "metadata": {
        "id": "dv3z4OeCKYFb"
      }
    },
    {
      "cell_type": "code",
      "source": [
        "def List_XT(dfList, group):\n",
        "  \"\"\"This function creates a list of 7 dataframes created by cross-tabulation of the new risk group against the original risk group.\n",
        "   Rows excluded from new dataframes due to lipid measurements <0 or TG >400, also excluded from df0 here for cross-tabulation\"\"\"\n",
        "\n",
        "  XTList = []\n",
        "  for df in dfList:\n",
        "    XT = pd.DataFrame(pd.crosstab(df[group], df0[group], normalize = True))\n",
        "    XTList.append(XT)\n",
        "    \n",
        "  return XTList"
      ],
      "metadata": {
        "id": "1WIASyPx-G9V"
      },
      "execution_count": null,
      "outputs": []
    },
    {
      "cell_type": "markdown",
      "source": [
        "##8. Calculate the total reclassification across all groups for each cross-tabulation."
      ],
      "metadata": {
        "id": "v_RqLtREKn_k"
      }
    },
    {
      "cell_type": "code",
      "source": [
        "def ReClass(XTList):\n",
        "  \"\"\"This function calculates the percentage of individuals that were reclassified due to the added error\n",
        "  and makes a list of those percentages for each of the seven errors added.\"\"\"\n",
        "\n",
        "  TotalRC = []\n",
        "  for df in XTList:\n",
        "    total_reclassified = round(100*(1-df.loc['A','A']-df.loc['B','B']-df.loc['C','C']-df.loc['D','D']), ndigits=1)\n",
        "    TotalRC.append(total_reclassified)\n",
        "\n",
        "  return TotalRC"
      ],
      "metadata": {
        "id": "IAe8DZzfv4aT"
      },
      "execution_count": null,
      "outputs": []
    },
    {
      "cell_type": "markdown",
      "source": [
        "##9. Describe the distribution of reclassifications into each group given 50 (or any number of) replicates."
      ],
      "metadata": {
        "id": "FCdd_gplK9j1"
      }
    },
    {
      "cell_type": "code",
      "source": [
        "def AveReclass(dfList):\n",
        "  \"\"\"This function concatenates all replicates of cross-tabulation and finds the means for each cell.\"\"\"\n",
        "\n",
        "  loXT_means = []\n",
        "  for l in dfList:\n",
        "    XT_concat = pd.concat(l)\n",
        "    XT_group = XT_concat.groupby(XT_concat.index)\n",
        "    XT_means_dict = XT_group.mean()\n",
        "    XT_means = pd.DataFrame(XT_means_dict)\n",
        "    loXT_means.append(XT_means)\n",
        "\n",
        "  return loXT_means"
      ],
      "metadata": {
        "id": "ccBNISgbGPoi"
      },
      "execution_count": null,
      "outputs": []
    },
    {
      "cell_type": "markdown",
      "source": [
        "# ORIGINAL LIPID RESULTS"
      ],
      "metadata": {
        "id": "aGIxqYNicxA7"
      }
    },
    {
      "cell_type": "code",
      "source": [
        "#Add Variable PCE Terms and Sum for Original Data, Calculate Risk Score and Risk Groups\n",
        "df0 = df_base[['ID','S10','MeanTerms','interum_sum','HDL','TC','TG', 'dLDL']].copy()\n",
        "df0 = AddSum(df0)\n",
        "df0 = Calcs(df0)\n",
        "for BLip in BLipTypes:\n",
        "  df0 = Groups3(df0, BLip)\n",
        "df0.head()"
      ],
      "metadata": {
        "id": "cL_HOYuQn1dx",
        "colab": {
          "base_uri": "https://localhost:8080/",
          "height": 206
        },
        "outputId": "9afeeddc-b040-41cf-989e-8ccb79b1d60c"
      },
      "execution_count": null,
      "outputs": [
        {
          "output_type": "execute_result",
          "data": {
            "text/plain": [
              "      ID     S10  MeanTerms  interum_sum  HDL   TC   TG   dLDL  TotalChol  \\\n",
              "0  31131  0.9533      86.61    89.193657   39  105   86   48.8   4.374723   \n",
              "1  31153  0.9665     -29.18   -33.143040   50  198  256   96.8  71.603136   \n",
              "2  31158  0.9144      61.18    61.595092   71  199   88  110.4  62.741542   \n",
              "3  31193  0.9144      61.18    58.140790   40  214  125  149.0  63.602914   \n",
              "4  31205  0.9665     -29.18   -33.359477   43  163  127   94.6  68.969378   \n",
              "\n",
              "   AgeTotalChol    HDLChol  AgeHDLChol   add_sum  NHDL   cLDL        PCE  \\\n",
              "0      0.000000 -69.314586   62.039664 -2.900200    66   48.8   3.424858   \n",
              "1    -62.316762 -53.117448   46.617282  2.786208   148   96.8   1.044846   \n",
              "2    -60.109601 -34.058812   32.143508  0.716637   128  110.4  24.232514   \n",
              "3    -56.205291 -29.474147   25.657630  3.581107   174  149.0  14.260120   \n",
              "4    -59.659924 -51.069575   44.547726  2.787605   120   94.6   0.843534   \n",
              "\n",
              "  cLDLgroup Ngroup dLDLgroup  \n",
              "0         A      A         A  \n",
              "1         A      A         A  \n",
              "2         D      D         D  \n",
              "3         B      B         B  \n",
              "4         A      A         A  "
            ],
            "text/html": [
              "\n",
              "  <div id=\"df-88950eaf-02ca-41e2-add3-92b6c8762c4f\">\n",
              "    <div class=\"colab-df-container\">\n",
              "      <div>\n",
              "<style scoped>\n",
              "    .dataframe tbody tr th:only-of-type {\n",
              "        vertical-align: middle;\n",
              "    }\n",
              "\n",
              "    .dataframe tbody tr th {\n",
              "        vertical-align: top;\n",
              "    }\n",
              "\n",
              "    .dataframe thead th {\n",
              "        text-align: right;\n",
              "    }\n",
              "</style>\n",
              "<table border=\"1\" class=\"dataframe\">\n",
              "  <thead>\n",
              "    <tr style=\"text-align: right;\">\n",
              "      <th></th>\n",
              "      <th>ID</th>\n",
              "      <th>S10</th>\n",
              "      <th>MeanTerms</th>\n",
              "      <th>interum_sum</th>\n",
              "      <th>HDL</th>\n",
              "      <th>TC</th>\n",
              "      <th>TG</th>\n",
              "      <th>dLDL</th>\n",
              "      <th>TotalChol</th>\n",
              "      <th>AgeTotalChol</th>\n",
              "      <th>HDLChol</th>\n",
              "      <th>AgeHDLChol</th>\n",
              "      <th>add_sum</th>\n",
              "      <th>NHDL</th>\n",
              "      <th>cLDL</th>\n",
              "      <th>PCE</th>\n",
              "      <th>cLDLgroup</th>\n",
              "      <th>Ngroup</th>\n",
              "      <th>dLDLgroup</th>\n",
              "    </tr>\n",
              "  </thead>\n",
              "  <tbody>\n",
              "    <tr>\n",
              "      <th>0</th>\n",
              "      <td>31131</td>\n",
              "      <td>0.9533</td>\n",
              "      <td>86.61</td>\n",
              "      <td>89.193657</td>\n",
              "      <td>39</td>\n",
              "      <td>105</td>\n",
              "      <td>86</td>\n",
              "      <td>48.8</td>\n",
              "      <td>4.374723</td>\n",
              "      <td>0.000000</td>\n",
              "      <td>-69.314586</td>\n",
              "      <td>62.039664</td>\n",
              "      <td>-2.900200</td>\n",
              "      <td>66</td>\n",
              "      <td>48.8</td>\n",
              "      <td>3.424858</td>\n",
              "      <td>A</td>\n",
              "      <td>A</td>\n",
              "      <td>A</td>\n",
              "    </tr>\n",
              "    <tr>\n",
              "      <th>1</th>\n",
              "      <td>31153</td>\n",
              "      <td>0.9665</td>\n",
              "      <td>-29.18</td>\n",
              "      <td>-33.143040</td>\n",
              "      <td>50</td>\n",
              "      <td>198</td>\n",
              "      <td>256</td>\n",
              "      <td>96.8</td>\n",
              "      <td>71.603136</td>\n",
              "      <td>-62.316762</td>\n",
              "      <td>-53.117448</td>\n",
              "      <td>46.617282</td>\n",
              "      <td>2.786208</td>\n",
              "      <td>148</td>\n",
              "      <td>96.8</td>\n",
              "      <td>1.044846</td>\n",
              "      <td>A</td>\n",
              "      <td>A</td>\n",
              "      <td>A</td>\n",
              "    </tr>\n",
              "    <tr>\n",
              "      <th>2</th>\n",
              "      <td>31158</td>\n",
              "      <td>0.9144</td>\n",
              "      <td>61.18</td>\n",
              "      <td>61.595092</td>\n",
              "      <td>71</td>\n",
              "      <td>199</td>\n",
              "      <td>88</td>\n",
              "      <td>110.4</td>\n",
              "      <td>62.741542</td>\n",
              "      <td>-60.109601</td>\n",
              "      <td>-34.058812</td>\n",
              "      <td>32.143508</td>\n",
              "      <td>0.716637</td>\n",
              "      <td>128</td>\n",
              "      <td>110.4</td>\n",
              "      <td>24.232514</td>\n",
              "      <td>D</td>\n",
              "      <td>D</td>\n",
              "      <td>D</td>\n",
              "    </tr>\n",
              "    <tr>\n",
              "      <th>3</th>\n",
              "      <td>31193</td>\n",
              "      <td>0.9144</td>\n",
              "      <td>61.18</td>\n",
              "      <td>58.140790</td>\n",
              "      <td>40</td>\n",
              "      <td>214</td>\n",
              "      <td>125</td>\n",
              "      <td>149.0</td>\n",
              "      <td>63.602914</td>\n",
              "      <td>-56.205291</td>\n",
              "      <td>-29.474147</td>\n",
              "      <td>25.657630</td>\n",
              "      <td>3.581107</td>\n",
              "      <td>174</td>\n",
              "      <td>149.0</td>\n",
              "      <td>14.260120</td>\n",
              "      <td>B</td>\n",
              "      <td>B</td>\n",
              "      <td>B</td>\n",
              "    </tr>\n",
              "    <tr>\n",
              "      <th>4</th>\n",
              "      <td>31205</td>\n",
              "      <td>0.9665</td>\n",
              "      <td>-29.18</td>\n",
              "      <td>-33.359477</td>\n",
              "      <td>43</td>\n",
              "      <td>163</td>\n",
              "      <td>127</td>\n",
              "      <td>94.6</td>\n",
              "      <td>68.969378</td>\n",
              "      <td>-59.659924</td>\n",
              "      <td>-51.069575</td>\n",
              "      <td>44.547726</td>\n",
              "      <td>2.787605</td>\n",
              "      <td>120</td>\n",
              "      <td>94.6</td>\n",
              "      <td>0.843534</td>\n",
              "      <td>A</td>\n",
              "      <td>A</td>\n",
              "      <td>A</td>\n",
              "    </tr>\n",
              "  </tbody>\n",
              "</table>\n",
              "</div>\n",
              "      <button class=\"colab-df-convert\" onclick=\"convertToInteractive('df-88950eaf-02ca-41e2-add3-92b6c8762c4f')\"\n",
              "              title=\"Convert this dataframe to an interactive table.\"\n",
              "              style=\"display:none;\">\n",
              "        \n",
              "  <svg xmlns=\"http://www.w3.org/2000/svg\" height=\"24px\"viewBox=\"0 0 24 24\"\n",
              "       width=\"24px\">\n",
              "    <path d=\"M0 0h24v24H0V0z\" fill=\"none\"/>\n",
              "    <path d=\"M18.56 5.44l.94 2.06.94-2.06 2.06-.94-2.06-.94-.94-2.06-.94 2.06-2.06.94zm-11 1L8.5 8.5l.94-2.06 2.06-.94-2.06-.94L8.5 2.5l-.94 2.06-2.06.94zm10 10l.94 2.06.94-2.06 2.06-.94-2.06-.94-.94-2.06-.94 2.06-2.06.94z\"/><path d=\"M17.41 7.96l-1.37-1.37c-.4-.4-.92-.59-1.43-.59-.52 0-1.04.2-1.43.59L10.3 9.45l-7.72 7.72c-.78.78-.78 2.05 0 2.83L4 21.41c.39.39.9.59 1.41.59.51 0 1.02-.2 1.41-.59l7.78-7.78 2.81-2.81c.8-.78.8-2.07 0-2.86zM5.41 20L4 18.59l7.72-7.72 1.47 1.35L5.41 20z\"/>\n",
              "  </svg>\n",
              "      </button>\n",
              "      \n",
              "  <style>\n",
              "    .colab-df-container {\n",
              "      display:flex;\n",
              "      flex-wrap:wrap;\n",
              "      gap: 12px;\n",
              "    }\n",
              "\n",
              "    .colab-df-convert {\n",
              "      background-color: #E8F0FE;\n",
              "      border: none;\n",
              "      border-radius: 50%;\n",
              "      cursor: pointer;\n",
              "      display: none;\n",
              "      fill: #1967D2;\n",
              "      height: 32px;\n",
              "      padding: 0 0 0 0;\n",
              "      width: 32px;\n",
              "    }\n",
              "\n",
              "    .colab-df-convert:hover {\n",
              "      background-color: #E2EBFA;\n",
              "      box-shadow: 0px 1px 2px rgba(60, 64, 67, 0.3), 0px 1px 3px 1px rgba(60, 64, 67, 0.15);\n",
              "      fill: #174EA6;\n",
              "    }\n",
              "\n",
              "    [theme=dark] .colab-df-convert {\n",
              "      background-color: #3B4455;\n",
              "      fill: #D2E3FC;\n",
              "    }\n",
              "\n",
              "    [theme=dark] .colab-df-convert:hover {\n",
              "      background-color: #434B5C;\n",
              "      box-shadow: 0px 1px 3px 1px rgba(0, 0, 0, 0.15);\n",
              "      filter: drop-shadow(0px 1px 2px rgba(0, 0, 0, 0.3));\n",
              "      fill: #FFFFFF;\n",
              "    }\n",
              "  </style>\n",
              "\n",
              "      <script>\n",
              "        const buttonEl =\n",
              "          document.querySelector('#df-88950eaf-02ca-41e2-add3-92b6c8762c4f button.colab-df-convert');\n",
              "        buttonEl.style.display =\n",
              "          google.colab.kernel.accessAllowed ? 'block' : 'none';\n",
              "\n",
              "        async function convertToInteractive(key) {\n",
              "          const element = document.querySelector('#df-88950eaf-02ca-41e2-add3-92b6c8762c4f');\n",
              "          const dataTable =\n",
              "            await google.colab.kernel.invokeFunction('convertToInteractive',\n",
              "                                                     [key], {});\n",
              "          if (!dataTable) return;\n",
              "\n",
              "          const docLinkHtml = 'Like what you see? Visit the ' +\n",
              "            '<a target=\"_blank\" href=https://colab.research.google.com/notebooks/data_table.ipynb>data table notebook</a>'\n",
              "            + ' to learn more about interactive tables.';\n",
              "          element.innerHTML = '';\n",
              "          dataTable['output_type'] = 'display_data';\n",
              "          await google.colab.output.renderOutput(dataTable, element);\n",
              "          const docLink = document.createElement('div');\n",
              "          docLink.innerHTML = docLinkHtml;\n",
              "          element.appendChild(docLink);\n",
              "        }\n",
              "      </script>\n",
              "    </div>\n",
              "  </div>\n",
              "  "
            ]
          },
          "metadata": {},
          "execution_count": 105
        }
      ]
    },
    {
      "cell_type": "markdown",
      "source": [
        "# NEW LIPID RESULTS: STEPS 1-7"
      ],
      "metadata": {
        "id": "ijiSJvLN2g2R"
      }
    },
    {
      "cell_type": "markdown",
      "source": [
        "## Perform analysis X times\n",
        "\n",
        "(I have done X = 50. This involves generating 50 random numbers.)"
      ],
      "metadata": {
        "id": "NcxetnvrMKCV"
      }
    },
    {
      "cell_type": "markdown",
      "source": [
        "Create global dataframes and lists for analysis"
      ],
      "metadata": {
        "id": "tVrGlMYzL5Ox"
      }
    },
    {
      "cell_type": "code",
      "source": [
        "dfnames = ('df1','df2','df3','df4','df5','df6','df7')\n",
        "XTfilenames = ('XT1', 'XT2', 'XT3', 'XT4', 'XT5', 'XT6', 'XT7')"
      ],
      "metadata": {
        "id": "hkCen_AmfNsR"
      },
      "execution_count": null,
      "outputs": []
    },
    {
      "cell_type": "code",
      "source": [
        "steps = {'Step': np.arange(1,8), 'Criteria': 'old', 'Scenario': [0.0,0.1,0.2,1.1,1.2,2.1,2.2], \n",
        "           'Error Added': ['BV', 'CV', 'BV + CV', 'PB1 + CV', 'PB1 + BV + CV', 'PB2 + CV', 'PB2 + BV + CV']}\n",
        "Error_cL = pd.DataFrame(steps)\n",
        "Error_N = pd.DataFrame(steps)\n",
        "Error_dL = pd.DataFrame(steps)"
      ],
      "metadata": {
        "id": "-P1oflK9FuZn"
      },
      "execution_count": null,
      "outputs": []
    },
    {
      "cell_type": "code",
      "source": [
        "cL_List = [[], [], [], [], [], [], []]\n",
        "N_List = [[], [], [], [], [], [], []]\n",
        "dL_List = [[], [], [], [], [], [], []]\n",
        "#Each sublist will contain 50 replicates of one error scenario."
      ],
      "metadata": {
        "id": "fyK7lpUBvwum"
      },
      "execution_count": null,
      "outputs": []
    },
    {
      "cell_type": "code",
      "source": [
        "for m in tqdm(range(50)):\n",
        "\n",
        "#Create 7 new databases with different error added to lipid panel, and then calculate new risk scores and risk groups.\n",
        "  df1 = AddCols(df_base, params, 0, ['BV'], m)\n",
        "  df2 = AddCols(df_base, params, 0, ['CV'], m)\n",
        "  df3 = AddCols(df_base, params, 0, ['BV', 'CV'], m)\n",
        "  df4 = AddCols(df_base, params, 1, ['CV'], m)\n",
        "  df5 = AddCols(df_base, params, 1, ['BV','CV'], m)\n",
        "  df6 = AddCols(df_base, params, 2, ['CV'], m)\n",
        "  df7 = AddCols(df_base, params, 2, ['BV','CV'], m)\n",
        "\n",
        "  lodf = [df1, df2, df3, df4, df5, df6, df7]\n",
        "\n",
        "#Create sets of 7 cross-tabulations between new and old risk groups based on LDL-C or non-HDL-C\n",
        "  XTList_cL = List_XT(lodf, 'cLDLgroup')\n",
        "  XTList_N = List_XT(lodf, 'Ngroup')\n",
        "  XTList_dL = List_XT(lodf, 'dLDLgroup')\n",
        "\n",
        "#Create a dataframe showing the total reclassifications due to 7 error sub-scenarios, with a new column for each of 50 replicate analyses\n",
        "  Error_cL[f'ReClassd_{m+1}'] = ReClass(XTList_cL)\n",
        "  Error_N[f'ReClassd_{m+1}'] = ReClass(XTList_N)\n",
        "  Error_dL[f'ReClassd_{m+1}'] = ReClass(XTList_dL)\n",
        "\n",
        "#Create sets of 50 replicate cross-tabulations for each of 7 error sub-scenarios, based on LDL-C or non-HDL-C\n",
        "  for l,x in zip(cL_List, XTList_cL):\n",
        "    l.append(x)\n",
        "\n",
        "  for l,x in zip(N_List, XTList_N):\n",
        "    l.append(x)\n",
        "  \n",
        "  for l,x in zip(dL_List, XTList_dL):\n",
        "    l.append(x)\n",
        "\n",
        "  #Save non-global dataframes to .csv files\n",
        "  n = m+1  \n",
        "\n",
        "  for df,b in zip(lodf,dfnames):\n",
        "    df.to_csv(f'Old_Criteria/{b}/{b}_{n}.csv')\n",
        "  \n",
        "  for x,y,z,a in zip(XTList_cL, XTList_N, XTList_dL, XTfilenames):\n",
        "    x.to_csv(f'Old_Criteria/{a}/{a}cL_{n}.csv')\n",
        "    y.to_csv(f'Old_Criteria/{a}/{a}N_{n}.csv')\n",
        "    z.to_csv(f'Old_Criteria/{a}/{a}dL_{n}.csv')"
      ],
      "metadata": {
        "id": "wm9O0U9tN9S9",
        "colab": {
          "base_uri": "https://localhost:8080/"
        },
        "outputId": "3b85f24a-e5aa-4192-f6ed-afc117edf747"
      },
      "execution_count": null,
      "outputs": [
        {
          "output_type": "stream",
          "name": "stderr",
          "text": [
            " 34%|███▍      | 17/50 [01:15<02:26,  4.42s/it]/usr/local/lib/python3.9/dist-packages/pandas/core/arraylike.py:364: RuntimeWarning: divide by zero encountered in log\n",
            "  result = getattr(ufunc, method)(*inputs, **kwargs)\n",
            "100%|██████████| 50/50 [03:41<00:00,  4.44s/it]\n"
          ]
        }
      ]
    },
    {
      "cell_type": "markdown",
      "source": [
        "# Save global dataframes to .CSV files"
      ],
      "metadata": {
        "id": "AFo1V_Bk_uya"
      }
    },
    {
      "cell_type": "code",
      "source": [
        "df0.to_csv('Base/df0b.csv', index = False)"
      ],
      "metadata": {
        "id": "lQCXmzXA_JDo"
      },
      "execution_count": null,
      "outputs": []
    },
    {
      "cell_type": "code",
      "source": [
        "Error_cL['max'] = Error_cL.iloc[:,4:].max(axis=1)\n",
        "Error_cL['min'] = Error_cL.iloc[:,4:].min(axis=1)\n",
        "Error_cL['mean'] = Error_cL.iloc[:,4:].mean(axis=1)\n",
        "Error_N['max'] = Error_N.iloc[:,4:].max(axis=1)\n",
        "Error_N['min'] = Error_N.iloc[:,4:].min(axis=1)\n",
        "Error_N['mean'] = Error_N.iloc[:,4:].mean(axis=1)\n",
        "Error_dL['max'] = Error_dL.iloc[:,4:].max(axis=1)\n",
        "Error_dL['min'] = Error_dL.iloc[:,4:].min(axis=1)\n",
        "Error_dL['mean'] = Error_dL.iloc[:,4:].mean(axis=1)"
      ],
      "metadata": {
        "id": "YtwfbWxXO_9-"
      },
      "execution_count": null,
      "outputs": []
    },
    {
      "cell_type": "code",
      "source": [
        "Error_cL.to_csv('Old_Criteria/Error/errorcL.csv', index = False)\n",
        "Error_N.to_csv('Old_Criteria/Error/errorN.csv', index = False)\n",
        "Error_dL.to_csv('Old_Criteria/Error/errordL.csv', index = False)"
      ],
      "metadata": {
        "id": "g7CVfc2NraLd"
      },
      "execution_count": null,
      "outputs": []
    },
    {
      "cell_type": "code",
      "source": [
        "loXT_means_cL = AveReclass(cL_List)\n",
        "loXT_means_N = AveReclass(N_List)\n",
        "loXT_means_dL = AveReclass(dL_List)\n",
        "for l,n,o,s in zip(loXT_means_cL, loXT_means_N, loXT_means_dL,range(1,8)):\n",
        "  l.to_csv(f'Old_Criteria/Stats/cL{s}_means.csv')\n",
        "  n.to_csv(f'Old_Criteria/Stats/N{s}_means.csv')\n",
        "  o.to_csv(f'Old_Criteria/Stats/dL{s}_means.csv')  "
      ],
      "metadata": {
        "id": "F_eVoocfvElb"
      },
      "execution_count": null,
      "outputs": []
    },
    {
      "cell_type": "code",
      "source": [
        "\"\"\"loXT_stats_L = AveReclasStat(L_List)\n",
        "loXT_stats_N = AveReclasStat(N_List)\n",
        "for l,n,s in zip(loXT_stats_L, loXT_stats_N, range(1,8)):\n",
        "  l.to_csv(f'Stats/L{s}_stats.csv')\n",
        "  n.to_csv(f'Stats/N{s}_stats.csv')\"\"\""
      ],
      "metadata": {
        "id": "jDL8MmUIuIva",
        "colab": {
          "base_uri": "https://localhost:8080/",
          "height": 35
        },
        "outputId": "432632a7-9024-4272-c3d9-39763b871650"
      },
      "execution_count": null,
      "outputs": [
        {
          "output_type": "execute_result",
          "data": {
            "text/plain": [
              "\"loXT_stats_L = AveReclasStat(L_List)\\nloXT_stats_N = AveReclasStat(N_List)\\nfor l,n,s in zip(loXT_stats_L, loXT_stats_N, range(1,8)):\\n  l.to_csv(f'Stats/L{s}_stats.csv')\\n  n.to_csv(f'Stats/N{s}_stats.csv')\""
            ],
            "application/vnd.google.colaboratory.intrinsic+json": {
              "type": "string"
            }
          },
          "metadata": {},
          "execution_count": 114
        }
      ]
    }
  ]
}