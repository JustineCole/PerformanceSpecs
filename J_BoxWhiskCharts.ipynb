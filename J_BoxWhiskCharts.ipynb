{
  "nbformat": 4,
  "nbformat_minor": 0,
  "metadata": {
    "colab": {
      "provenance": [],
      "authorship_tag": "ABX9TyMTB5SJ1ejW0PhLbo6fwq2O",
      "include_colab_link": true
    },
    "kernelspec": {
      "name": "python3",
      "display_name": "Python 3"
    },
    "language_info": {
      "name": "python"
    }
  },
  "cells": [
    {
      "cell_type": "markdown",
      "metadata": {
        "id": "view-in-github",
        "colab_type": "text"
      },
      "source": [
        "<a href=\"https://colab.research.google.com/github/justcme/PerformanceSpecs/blob/main/J_BoxWhiskCharts.ipynb\" target=\"_parent\"><img src=\"https://colab.research.google.com/assets/colab-badge.svg\" alt=\"Open In Colab\"/></a>"
      ]
    },
    {
      "cell_type": "markdown",
      "source": [
        "# SETUP"
      ],
      "metadata": {
        "id": "1Og253ECcLjr"
      }
    },
    {
      "cell_type": "markdown",
      "source": [
        "OS"
      ],
      "metadata": {
        "id": "9R9VUIVvGQUe"
      }
    },
    {
      "cell_type": "code",
      "execution_count": null,
      "metadata": {
        "colab": {
          "base_uri": "https://localhost:8080/"
        },
        "id": "VpubywtBFIq_",
        "outputId": "cc4c753d-3ec4-4caa-d25c-251d297a3b11"
      },
      "outputs": [
        {
          "output_type": "stream",
          "name": "stdout",
          "text": [
            "Drive already mounted at /content/drive/; to attempt to forcibly remount, call drive.mount(\"/content/drive/\", force_remount=True).\n"
          ]
        }
      ],
      "source": [
        "import os\n",
        "from google.colab import drive\n",
        "drive.mount('/content/drive/')\n",
        "os.chdir(\"/content/drive/My Drive/Colab Notebooks/LipidPerf/from_Pandas\")"
      ]
    },
    {
      "cell_type": "markdown",
      "source": [
        "Imports"
      ],
      "metadata": {
        "id": "xDokOY5WIcu6"
      }
    },
    {
      "cell_type": "code",
      "source": [
        "import numpy as np\n",
        "import pandas as pd\n",
        "import seaborn as sns\n",
        "import matplotlib.pyplot as plt\n",
        "from operator import index\n",
        "import pathlib\n",
        "from textwrap import wrap"
      ],
      "metadata": {
        "id": "VSJUwh6cId8S"
      },
      "execution_count": null,
      "outputs": []
    },
    {
      "cell_type": "markdown",
      "source": [
        "# DATA"
      ],
      "metadata": {
        "id": "Ra4zwrNCxE7n"
      }
    },
    {
      "cell_type": "code",
      "source": [
        "errorL1 = pd.read_csv(\"Old_Criteria/Error/errorcL.csv\")\n",
        "errorL2 = pd.read_csv(\"New_Criteria/Error/errorL.csv\") \n",
        "errorN1 = pd.read_csv(\"Old_Criteria/Error/errorN.csv\") \n",
        "errorN2 = pd.read_csv(\"New_Criteria/Error/errorN.csv\") "
      ],
      "metadata": {
        "id": "KcB9SY2kuseI"
      },
      "execution_count": null,
      "outputs": []
    },
    {
      "cell_type": "code",
      "source": [
        "errorL1"
      ],
      "metadata": {
        "colab": {
          "base_uri": "https://localhost:8080/",
          "height": 501
        },
        "id": "iYj_zwQxyzeq",
        "outputId": "750547bd-9fcc-4948-f22e-87663cccdb82"
      },
      "execution_count": null,
      "outputs": [
        {
          "output_type": "execute_result",
          "data": {
            "text/plain": [
              "   Step Criteria  Scenario    Error Added  ReClassd_1  ReClassd_2  ReClassd_3  \\\n",
              "0     1      old       0.0             BV         6.6         6.0         6.3   \n",
              "1     2      old       0.1             CV         3.7         3.4         3.4   \n",
              "2     3      old       0.2        BV + CV         7.0         7.2         7.2   \n",
              "3     4      old       1.1       PB1 + CV         7.0         7.0         7.2   \n",
              "4     5      old       1.2  PB1 + BV + CV         9.3         9.9         9.6   \n",
              "5     6      old       2.1       PB2 + CV         5.4         5.1         5.2   \n",
              "6     7      old       2.2  PB2 + BV + CV         7.5         7.9         7.7   \n",
              "\n",
              "   ReClassd_4  ReClassd_5  ReClassd_6  ...  ReClassd_44  ReClassd_45  \\\n",
              "0         6.2         6.4         6.2  ...          6.4          6.0   \n",
              "1         3.4         3.6         3.4  ...          3.5          3.5   \n",
              "2         7.3         7.2         6.0  ...          6.9          6.6   \n",
              "3         6.9         7.1         6.9  ...          7.1          6.9   \n",
              "4         9.1         9.6         8.8  ...          9.5          9.4   \n",
              "5         5.1         5.2         5.3  ...          5.4          5.3   \n",
              "6         7.5         7.6         7.2  ...          8.0          7.5   \n",
              "\n",
              "   ReClassd_46  ReClassd_47  ReClassd_48  ReClassd_49  ReClassd_50   max  min  \\\n",
              "0          6.4          6.0          6.6          6.5          6.0   6.9  5.5   \n",
              "1          3.3          3.4          3.6          3.4          3.3   3.8  2.9   \n",
              "2          7.0          6.7          7.3          7.2          6.9   7.7  6.0   \n",
              "3          7.2          7.2          7.2          6.9          7.0   7.3  6.7   \n",
              "4          9.1          9.4          9.7          9.6          9.3  10.1  8.8   \n",
              "5          5.3          4.9          5.3          5.3          5.1   5.6  4.9   \n",
              "6          7.5          7.4          7.6          7.8          7.6   8.1  7.1   \n",
              "\n",
              "       mean  \n",
              "0  6.303846  \n",
              "1  3.411538  \n",
              "2  7.088462  \n",
              "3  7.051923  \n",
              "4  9.511538  \n",
              "5  5.228846  \n",
              "6  7.628846  \n",
              "\n",
              "[7 rows x 57 columns]"
            ],
            "text/html": [
              "\n",
              "  <div id=\"df-4ce0ab1c-708f-41a6-bfb9-7b56b5e68923\">\n",
              "    <div class=\"colab-df-container\">\n",
              "      <div>\n",
              "<style scoped>\n",
              "    .dataframe tbody tr th:only-of-type {\n",
              "        vertical-align: middle;\n",
              "    }\n",
              "\n",
              "    .dataframe tbody tr th {\n",
              "        vertical-align: top;\n",
              "    }\n",
              "\n",
              "    .dataframe thead th {\n",
              "        text-align: right;\n",
              "    }\n",
              "</style>\n",
              "<table border=\"1\" class=\"dataframe\">\n",
              "  <thead>\n",
              "    <tr style=\"text-align: right;\">\n",
              "      <th></th>\n",
              "      <th>Step</th>\n",
              "      <th>Criteria</th>\n",
              "      <th>Scenario</th>\n",
              "      <th>Error Added</th>\n",
              "      <th>ReClassd_1</th>\n",
              "      <th>ReClassd_2</th>\n",
              "      <th>ReClassd_3</th>\n",
              "      <th>ReClassd_4</th>\n",
              "      <th>ReClassd_5</th>\n",
              "      <th>ReClassd_6</th>\n",
              "      <th>...</th>\n",
              "      <th>ReClassd_44</th>\n",
              "      <th>ReClassd_45</th>\n",
              "      <th>ReClassd_46</th>\n",
              "      <th>ReClassd_47</th>\n",
              "      <th>ReClassd_48</th>\n",
              "      <th>ReClassd_49</th>\n",
              "      <th>ReClassd_50</th>\n",
              "      <th>max</th>\n",
              "      <th>min</th>\n",
              "      <th>mean</th>\n",
              "    </tr>\n",
              "  </thead>\n",
              "  <tbody>\n",
              "    <tr>\n",
              "      <th>0</th>\n",
              "      <td>1</td>\n",
              "      <td>old</td>\n",
              "      <td>0.0</td>\n",
              "      <td>BV</td>\n",
              "      <td>6.6</td>\n",
              "      <td>6.0</td>\n",
              "      <td>6.3</td>\n",
              "      <td>6.2</td>\n",
              "      <td>6.4</td>\n",
              "      <td>6.2</td>\n",
              "      <td>...</td>\n",
              "      <td>6.4</td>\n",
              "      <td>6.0</td>\n",
              "      <td>6.4</td>\n",
              "      <td>6.0</td>\n",
              "      <td>6.6</td>\n",
              "      <td>6.5</td>\n",
              "      <td>6.0</td>\n",
              "      <td>6.9</td>\n",
              "      <td>5.5</td>\n",
              "      <td>6.303846</td>\n",
              "    </tr>\n",
              "    <tr>\n",
              "      <th>1</th>\n",
              "      <td>2</td>\n",
              "      <td>old</td>\n",
              "      <td>0.1</td>\n",
              "      <td>CV</td>\n",
              "      <td>3.7</td>\n",
              "      <td>3.4</td>\n",
              "      <td>3.4</td>\n",
              "      <td>3.4</td>\n",
              "      <td>3.6</td>\n",
              "      <td>3.4</td>\n",
              "      <td>...</td>\n",
              "      <td>3.5</td>\n",
              "      <td>3.5</td>\n",
              "      <td>3.3</td>\n",
              "      <td>3.4</td>\n",
              "      <td>3.6</td>\n",
              "      <td>3.4</td>\n",
              "      <td>3.3</td>\n",
              "      <td>3.8</td>\n",
              "      <td>2.9</td>\n",
              "      <td>3.411538</td>\n",
              "    </tr>\n",
              "    <tr>\n",
              "      <th>2</th>\n",
              "      <td>3</td>\n",
              "      <td>old</td>\n",
              "      <td>0.2</td>\n",
              "      <td>BV + CV</td>\n",
              "      <td>7.0</td>\n",
              "      <td>7.2</td>\n",
              "      <td>7.2</td>\n",
              "      <td>7.3</td>\n",
              "      <td>7.2</td>\n",
              "      <td>6.0</td>\n",
              "      <td>...</td>\n",
              "      <td>6.9</td>\n",
              "      <td>6.6</td>\n",
              "      <td>7.0</td>\n",
              "      <td>6.7</td>\n",
              "      <td>7.3</td>\n",
              "      <td>7.2</td>\n",
              "      <td>6.9</td>\n",
              "      <td>7.7</td>\n",
              "      <td>6.0</td>\n",
              "      <td>7.088462</td>\n",
              "    </tr>\n",
              "    <tr>\n",
              "      <th>3</th>\n",
              "      <td>4</td>\n",
              "      <td>old</td>\n",
              "      <td>1.1</td>\n",
              "      <td>PB1 + CV</td>\n",
              "      <td>7.0</td>\n",
              "      <td>7.0</td>\n",
              "      <td>7.2</td>\n",
              "      <td>6.9</td>\n",
              "      <td>7.1</td>\n",
              "      <td>6.9</td>\n",
              "      <td>...</td>\n",
              "      <td>7.1</td>\n",
              "      <td>6.9</td>\n",
              "      <td>7.2</td>\n",
              "      <td>7.2</td>\n",
              "      <td>7.2</td>\n",
              "      <td>6.9</td>\n",
              "      <td>7.0</td>\n",
              "      <td>7.3</td>\n",
              "      <td>6.7</td>\n",
              "      <td>7.051923</td>\n",
              "    </tr>\n",
              "    <tr>\n",
              "      <th>4</th>\n",
              "      <td>5</td>\n",
              "      <td>old</td>\n",
              "      <td>1.2</td>\n",
              "      <td>PB1 + BV + CV</td>\n",
              "      <td>9.3</td>\n",
              "      <td>9.9</td>\n",
              "      <td>9.6</td>\n",
              "      <td>9.1</td>\n",
              "      <td>9.6</td>\n",
              "      <td>8.8</td>\n",
              "      <td>...</td>\n",
              "      <td>9.5</td>\n",
              "      <td>9.4</td>\n",
              "      <td>9.1</td>\n",
              "      <td>9.4</td>\n",
              "      <td>9.7</td>\n",
              "      <td>9.6</td>\n",
              "      <td>9.3</td>\n",
              "      <td>10.1</td>\n",
              "      <td>8.8</td>\n",
              "      <td>9.511538</td>\n",
              "    </tr>\n",
              "    <tr>\n",
              "      <th>5</th>\n",
              "      <td>6</td>\n",
              "      <td>old</td>\n",
              "      <td>2.1</td>\n",
              "      <td>PB2 + CV</td>\n",
              "      <td>5.4</td>\n",
              "      <td>5.1</td>\n",
              "      <td>5.2</td>\n",
              "      <td>5.1</td>\n",
              "      <td>5.2</td>\n",
              "      <td>5.3</td>\n",
              "      <td>...</td>\n",
              "      <td>5.4</td>\n",
              "      <td>5.3</td>\n",
              "      <td>5.3</td>\n",
              "      <td>4.9</td>\n",
              "      <td>5.3</td>\n",
              "      <td>5.3</td>\n",
              "      <td>5.1</td>\n",
              "      <td>5.6</td>\n",
              "      <td>4.9</td>\n",
              "      <td>5.228846</td>\n",
              "    </tr>\n",
              "    <tr>\n",
              "      <th>6</th>\n",
              "      <td>7</td>\n",
              "      <td>old</td>\n",
              "      <td>2.2</td>\n",
              "      <td>PB2 + BV + CV</td>\n",
              "      <td>7.5</td>\n",
              "      <td>7.9</td>\n",
              "      <td>7.7</td>\n",
              "      <td>7.5</td>\n",
              "      <td>7.6</td>\n",
              "      <td>7.2</td>\n",
              "      <td>...</td>\n",
              "      <td>8.0</td>\n",
              "      <td>7.5</td>\n",
              "      <td>7.5</td>\n",
              "      <td>7.4</td>\n",
              "      <td>7.6</td>\n",
              "      <td>7.8</td>\n",
              "      <td>7.6</td>\n",
              "      <td>8.1</td>\n",
              "      <td>7.1</td>\n",
              "      <td>7.628846</td>\n",
              "    </tr>\n",
              "  </tbody>\n",
              "</table>\n",
              "<p>7 rows × 57 columns</p>\n",
              "</div>\n",
              "      <button class=\"colab-df-convert\" onclick=\"convertToInteractive('df-4ce0ab1c-708f-41a6-bfb9-7b56b5e68923')\"\n",
              "              title=\"Convert this dataframe to an interactive table.\"\n",
              "              style=\"display:none;\">\n",
              "        \n",
              "  <svg xmlns=\"http://www.w3.org/2000/svg\" height=\"24px\"viewBox=\"0 0 24 24\"\n",
              "       width=\"24px\">\n",
              "    <path d=\"M0 0h24v24H0V0z\" fill=\"none\"/>\n",
              "    <path d=\"M18.56 5.44l.94 2.06.94-2.06 2.06-.94-2.06-.94-.94-2.06-.94 2.06-2.06.94zm-11 1L8.5 8.5l.94-2.06 2.06-.94-2.06-.94L8.5 2.5l-.94 2.06-2.06.94zm10 10l.94 2.06.94-2.06 2.06-.94-2.06-.94-.94-2.06-.94 2.06-2.06.94z\"/><path d=\"M17.41 7.96l-1.37-1.37c-.4-.4-.92-.59-1.43-.59-.52 0-1.04.2-1.43.59L10.3 9.45l-7.72 7.72c-.78.78-.78 2.05 0 2.83L4 21.41c.39.39.9.59 1.41.59.51 0 1.02-.2 1.41-.59l7.78-7.78 2.81-2.81c.8-.78.8-2.07 0-2.86zM5.41 20L4 18.59l7.72-7.72 1.47 1.35L5.41 20z\"/>\n",
              "  </svg>\n",
              "      </button>\n",
              "      \n",
              "  <style>\n",
              "    .colab-df-container {\n",
              "      display:flex;\n",
              "      flex-wrap:wrap;\n",
              "      gap: 12px;\n",
              "    }\n",
              "\n",
              "    .colab-df-convert {\n",
              "      background-color: #E8F0FE;\n",
              "      border: none;\n",
              "      border-radius: 50%;\n",
              "      cursor: pointer;\n",
              "      display: none;\n",
              "      fill: #1967D2;\n",
              "      height: 32px;\n",
              "      padding: 0 0 0 0;\n",
              "      width: 32px;\n",
              "    }\n",
              "\n",
              "    .colab-df-convert:hover {\n",
              "      background-color: #E2EBFA;\n",
              "      box-shadow: 0px 1px 2px rgba(60, 64, 67, 0.3), 0px 1px 3px 1px rgba(60, 64, 67, 0.15);\n",
              "      fill: #174EA6;\n",
              "    }\n",
              "\n",
              "    [theme=dark] .colab-df-convert {\n",
              "      background-color: #3B4455;\n",
              "      fill: #D2E3FC;\n",
              "    }\n",
              "\n",
              "    [theme=dark] .colab-df-convert:hover {\n",
              "      background-color: #434B5C;\n",
              "      box-shadow: 0px 1px 3px 1px rgba(0, 0, 0, 0.15);\n",
              "      filter: drop-shadow(0px 1px 2px rgba(0, 0, 0, 0.3));\n",
              "      fill: #FFFFFF;\n",
              "    }\n",
              "  </style>\n",
              "\n",
              "      <script>\n",
              "        const buttonEl =\n",
              "          document.querySelector('#df-4ce0ab1c-708f-41a6-bfb9-7b56b5e68923 button.colab-df-convert');\n",
              "        buttonEl.style.display =\n",
              "          google.colab.kernel.accessAllowed ? 'block' : 'none';\n",
              "\n",
              "        async function convertToInteractive(key) {\n",
              "          const element = document.querySelector('#df-4ce0ab1c-708f-41a6-bfb9-7b56b5e68923');\n",
              "          const dataTable =\n",
              "            await google.colab.kernel.invokeFunction('convertToInteractive',\n",
              "                                                     [key], {});\n",
              "          if (!dataTable) return;\n",
              "\n",
              "          const docLinkHtml = 'Like what you see? Visit the ' +\n",
              "            '<a target=\"_blank\" href=https://colab.research.google.com/notebooks/data_table.ipynb>data table notebook</a>'\n",
              "            + ' to learn more about interactive tables.';\n",
              "          element.innerHTML = '';\n",
              "          dataTable['output_type'] = 'display_data';\n",
              "          await google.colab.output.renderOutput(dataTable, element);\n",
              "          const docLink = document.createElement('div');\n",
              "          docLink.innerHTML = docLinkHtml;\n",
              "          element.appendChild(docLink);\n",
              "        }\n",
              "      </script>\n",
              "    </div>\n",
              "  </div>\n",
              "  "
            ]
          },
          "metadata": {},
          "execution_count": 58
        }
      ]
    },
    {
      "cell_type": "code",
      "source": [
        "sliced = errorL1.iloc[:,3:54]\n",
        "long = sliced.T\n",
        "#long.columns = long['Error Added']\n",
        "long = long.iloc[1:,:]\n",
        "long[long.iloc[:,2]<6.5]"
      ],
      "metadata": {
        "id": "Zed1aw71zFGh",
        "colab": {
          "base_uri": "https://localhost:8080/",
          "height": 81
        },
        "outputId": "db31c30a-92d5-4c19-d3f8-a40412d29f0b"
      },
      "execution_count": null,
      "outputs": [
        {
          "output_type": "execute_result",
          "data": {
            "text/plain": [
              "              0    1    2    3    4    5    6\n",
              "ReClassd_6  6.2  3.4  6.0  6.9  8.8  5.3  7.2"
            ],
            "text/html": [
              "\n",
              "  <div id=\"df-c2600963-b9db-4c5c-9074-673c0c55577d\">\n",
              "    <div class=\"colab-df-container\">\n",
              "      <div>\n",
              "<style scoped>\n",
              "    .dataframe tbody tr th:only-of-type {\n",
              "        vertical-align: middle;\n",
              "    }\n",
              "\n",
              "    .dataframe tbody tr th {\n",
              "        vertical-align: top;\n",
              "    }\n",
              "\n",
              "    .dataframe thead th {\n",
              "        text-align: right;\n",
              "    }\n",
              "</style>\n",
              "<table border=\"1\" class=\"dataframe\">\n",
              "  <thead>\n",
              "    <tr style=\"text-align: right;\">\n",
              "      <th></th>\n",
              "      <th>0</th>\n",
              "      <th>1</th>\n",
              "      <th>2</th>\n",
              "      <th>3</th>\n",
              "      <th>4</th>\n",
              "      <th>5</th>\n",
              "      <th>6</th>\n",
              "    </tr>\n",
              "  </thead>\n",
              "  <tbody>\n",
              "    <tr>\n",
              "      <th>ReClassd_6</th>\n",
              "      <td>6.2</td>\n",
              "      <td>3.4</td>\n",
              "      <td>6.0</td>\n",
              "      <td>6.9</td>\n",
              "      <td>8.8</td>\n",
              "      <td>5.3</td>\n",
              "      <td>7.2</td>\n",
              "    </tr>\n",
              "  </tbody>\n",
              "</table>\n",
              "</div>\n",
              "      <button class=\"colab-df-convert\" onclick=\"convertToInteractive('df-c2600963-b9db-4c5c-9074-673c0c55577d')\"\n",
              "              title=\"Convert this dataframe to an interactive table.\"\n",
              "              style=\"display:none;\">\n",
              "        \n",
              "  <svg xmlns=\"http://www.w3.org/2000/svg\" height=\"24px\"viewBox=\"0 0 24 24\"\n",
              "       width=\"24px\">\n",
              "    <path d=\"M0 0h24v24H0V0z\" fill=\"none\"/>\n",
              "    <path d=\"M18.56 5.44l.94 2.06.94-2.06 2.06-.94-2.06-.94-.94-2.06-.94 2.06-2.06.94zm-11 1L8.5 8.5l.94-2.06 2.06-.94-2.06-.94L8.5 2.5l-.94 2.06-2.06.94zm10 10l.94 2.06.94-2.06 2.06-.94-2.06-.94-.94-2.06-.94 2.06-2.06.94z\"/><path d=\"M17.41 7.96l-1.37-1.37c-.4-.4-.92-.59-1.43-.59-.52 0-1.04.2-1.43.59L10.3 9.45l-7.72 7.72c-.78.78-.78 2.05 0 2.83L4 21.41c.39.39.9.59 1.41.59.51 0 1.02-.2 1.41-.59l7.78-7.78 2.81-2.81c.8-.78.8-2.07 0-2.86zM5.41 20L4 18.59l7.72-7.72 1.47 1.35L5.41 20z\"/>\n",
              "  </svg>\n",
              "      </button>\n",
              "      \n",
              "  <style>\n",
              "    .colab-df-container {\n",
              "      display:flex;\n",
              "      flex-wrap:wrap;\n",
              "      gap: 12px;\n",
              "    }\n",
              "\n",
              "    .colab-df-convert {\n",
              "      background-color: #E8F0FE;\n",
              "      border: none;\n",
              "      border-radius: 50%;\n",
              "      cursor: pointer;\n",
              "      display: none;\n",
              "      fill: #1967D2;\n",
              "      height: 32px;\n",
              "      padding: 0 0 0 0;\n",
              "      width: 32px;\n",
              "    }\n",
              "\n",
              "    .colab-df-convert:hover {\n",
              "      background-color: #E2EBFA;\n",
              "      box-shadow: 0px 1px 2px rgba(60, 64, 67, 0.3), 0px 1px 3px 1px rgba(60, 64, 67, 0.15);\n",
              "      fill: #174EA6;\n",
              "    }\n",
              "\n",
              "    [theme=dark] .colab-df-convert {\n",
              "      background-color: #3B4455;\n",
              "      fill: #D2E3FC;\n",
              "    }\n",
              "\n",
              "    [theme=dark] .colab-df-convert:hover {\n",
              "      background-color: #434B5C;\n",
              "      box-shadow: 0px 1px 3px 1px rgba(0, 0, 0, 0.15);\n",
              "      filter: drop-shadow(0px 1px 2px rgba(0, 0, 0, 0.3));\n",
              "      fill: #FFFFFF;\n",
              "    }\n",
              "  </style>\n",
              "\n",
              "      <script>\n",
              "        const buttonEl =\n",
              "          document.querySelector('#df-c2600963-b9db-4c5c-9074-673c0c55577d button.colab-df-convert');\n",
              "        buttonEl.style.display =\n",
              "          google.colab.kernel.accessAllowed ? 'block' : 'none';\n",
              "\n",
              "        async function convertToInteractive(key) {\n",
              "          const element = document.querySelector('#df-c2600963-b9db-4c5c-9074-673c0c55577d');\n",
              "          const dataTable =\n",
              "            await google.colab.kernel.invokeFunction('convertToInteractive',\n",
              "                                                     [key], {});\n",
              "          if (!dataTable) return;\n",
              "\n",
              "          const docLinkHtml = 'Like what you see? Visit the ' +\n",
              "            '<a target=\"_blank\" href=https://colab.research.google.com/notebooks/data_table.ipynb>data table notebook</a>'\n",
              "            + ' to learn more about interactive tables.';\n",
              "          element.innerHTML = '';\n",
              "          dataTable['output_type'] = 'display_data';\n",
              "          await google.colab.output.renderOutput(dataTable, element);\n",
              "          const docLink = document.createElement('div');\n",
              "          docLink.innerHTML = docLinkHtml;\n",
              "          element.appendChild(docLink);\n",
              "        }\n",
              "      </script>\n",
              "    </div>\n",
              "  </div>\n",
              "  "
            ]
          },
          "metadata": {},
          "execution_count": 59
        }
      ]
    },
    {
      "cell_type": "code",
      "source": [
        "sliced2 = errorN1.iloc[:,3:54]\n",
        "long2 = sliced2.T\n",
        "#long.columns = long['Error Added']\n",
        "long2 = long2.iloc[1:,:]\n",
        "long2.head()"
      ],
      "metadata": {
        "colab": {
          "base_uri": "https://localhost:8080/",
          "height": 206
        },
        "id": "yvVx2NM41y5x",
        "outputId": "a736739e-c983-44ac-df11-736f73848c8b"
      },
      "execution_count": null,
      "outputs": [
        {
          "output_type": "execute_result",
          "data": {
            "text/plain": [
              "              0    1    2    3    4    5    6\n",
              "ReClassd_1  5.9  3.3  6.3  6.4  8.2  4.8  6.8\n",
              "ReClassd_2  5.1  2.7  6.4  5.9  8.6  4.6  7.3\n",
              "ReClassd_3  5.5  2.9  6.2  6.2  8.5  4.7  6.9\n",
              "ReClassd_4  5.6  3.2  6.5  6.1  8.4  4.3  6.8\n",
              "ReClassd_5  5.9  3.1  6.6  6.3  8.7  4.6  7.0"
            ],
            "text/html": [
              "\n",
              "  <div id=\"df-633f86a5-4ae0-468c-ab0c-5ed609a6c624\">\n",
              "    <div class=\"colab-df-container\">\n",
              "      <div>\n",
              "<style scoped>\n",
              "    .dataframe tbody tr th:only-of-type {\n",
              "        vertical-align: middle;\n",
              "    }\n",
              "\n",
              "    .dataframe tbody tr th {\n",
              "        vertical-align: top;\n",
              "    }\n",
              "\n",
              "    .dataframe thead th {\n",
              "        text-align: right;\n",
              "    }\n",
              "</style>\n",
              "<table border=\"1\" class=\"dataframe\">\n",
              "  <thead>\n",
              "    <tr style=\"text-align: right;\">\n",
              "      <th></th>\n",
              "      <th>0</th>\n",
              "      <th>1</th>\n",
              "      <th>2</th>\n",
              "      <th>3</th>\n",
              "      <th>4</th>\n",
              "      <th>5</th>\n",
              "      <th>6</th>\n",
              "    </tr>\n",
              "  </thead>\n",
              "  <tbody>\n",
              "    <tr>\n",
              "      <th>ReClassd_1</th>\n",
              "      <td>5.9</td>\n",
              "      <td>3.3</td>\n",
              "      <td>6.3</td>\n",
              "      <td>6.4</td>\n",
              "      <td>8.2</td>\n",
              "      <td>4.8</td>\n",
              "      <td>6.8</td>\n",
              "    </tr>\n",
              "    <tr>\n",
              "      <th>ReClassd_2</th>\n",
              "      <td>5.1</td>\n",
              "      <td>2.7</td>\n",
              "      <td>6.4</td>\n",
              "      <td>5.9</td>\n",
              "      <td>8.6</td>\n",
              "      <td>4.6</td>\n",
              "      <td>7.3</td>\n",
              "    </tr>\n",
              "    <tr>\n",
              "      <th>ReClassd_3</th>\n",
              "      <td>5.5</td>\n",
              "      <td>2.9</td>\n",
              "      <td>6.2</td>\n",
              "      <td>6.2</td>\n",
              "      <td>8.5</td>\n",
              "      <td>4.7</td>\n",
              "      <td>6.9</td>\n",
              "    </tr>\n",
              "    <tr>\n",
              "      <th>ReClassd_4</th>\n",
              "      <td>5.6</td>\n",
              "      <td>3.2</td>\n",
              "      <td>6.5</td>\n",
              "      <td>6.1</td>\n",
              "      <td>8.4</td>\n",
              "      <td>4.3</td>\n",
              "      <td>6.8</td>\n",
              "    </tr>\n",
              "    <tr>\n",
              "      <th>ReClassd_5</th>\n",
              "      <td>5.9</td>\n",
              "      <td>3.1</td>\n",
              "      <td>6.6</td>\n",
              "      <td>6.3</td>\n",
              "      <td>8.7</td>\n",
              "      <td>4.6</td>\n",
              "      <td>7.0</td>\n",
              "    </tr>\n",
              "  </tbody>\n",
              "</table>\n",
              "</div>\n",
              "      <button class=\"colab-df-convert\" onclick=\"convertToInteractive('df-633f86a5-4ae0-468c-ab0c-5ed609a6c624')\"\n",
              "              title=\"Convert this dataframe to an interactive table.\"\n",
              "              style=\"display:none;\">\n",
              "        \n",
              "  <svg xmlns=\"http://www.w3.org/2000/svg\" height=\"24px\"viewBox=\"0 0 24 24\"\n",
              "       width=\"24px\">\n",
              "    <path d=\"M0 0h24v24H0V0z\" fill=\"none\"/>\n",
              "    <path d=\"M18.56 5.44l.94 2.06.94-2.06 2.06-.94-2.06-.94-.94-2.06-.94 2.06-2.06.94zm-11 1L8.5 8.5l.94-2.06 2.06-.94-2.06-.94L8.5 2.5l-.94 2.06-2.06.94zm10 10l.94 2.06.94-2.06 2.06-.94-2.06-.94-.94-2.06-.94 2.06-2.06.94z\"/><path d=\"M17.41 7.96l-1.37-1.37c-.4-.4-.92-.59-1.43-.59-.52 0-1.04.2-1.43.59L10.3 9.45l-7.72 7.72c-.78.78-.78 2.05 0 2.83L4 21.41c.39.39.9.59 1.41.59.51 0 1.02-.2 1.41-.59l7.78-7.78 2.81-2.81c.8-.78.8-2.07 0-2.86zM5.41 20L4 18.59l7.72-7.72 1.47 1.35L5.41 20z\"/>\n",
              "  </svg>\n",
              "      </button>\n",
              "      \n",
              "  <style>\n",
              "    .colab-df-container {\n",
              "      display:flex;\n",
              "      flex-wrap:wrap;\n",
              "      gap: 12px;\n",
              "    }\n",
              "\n",
              "    .colab-df-convert {\n",
              "      background-color: #E8F0FE;\n",
              "      border: none;\n",
              "      border-radius: 50%;\n",
              "      cursor: pointer;\n",
              "      display: none;\n",
              "      fill: #1967D2;\n",
              "      height: 32px;\n",
              "      padding: 0 0 0 0;\n",
              "      width: 32px;\n",
              "    }\n",
              "\n",
              "    .colab-df-convert:hover {\n",
              "      background-color: #E2EBFA;\n",
              "      box-shadow: 0px 1px 2px rgba(60, 64, 67, 0.3), 0px 1px 3px 1px rgba(60, 64, 67, 0.15);\n",
              "      fill: #174EA6;\n",
              "    }\n",
              "\n",
              "    [theme=dark] .colab-df-convert {\n",
              "      background-color: #3B4455;\n",
              "      fill: #D2E3FC;\n",
              "    }\n",
              "\n",
              "    [theme=dark] .colab-df-convert:hover {\n",
              "      background-color: #434B5C;\n",
              "      box-shadow: 0px 1px 3px 1px rgba(0, 0, 0, 0.15);\n",
              "      filter: drop-shadow(0px 1px 2px rgba(0, 0, 0, 0.3));\n",
              "      fill: #FFFFFF;\n",
              "    }\n",
              "  </style>\n",
              "\n",
              "      <script>\n",
              "        const buttonEl =\n",
              "          document.querySelector('#df-633f86a5-4ae0-468c-ab0c-5ed609a6c624 button.colab-df-convert');\n",
              "        buttonEl.style.display =\n",
              "          google.colab.kernel.accessAllowed ? 'block' : 'none';\n",
              "\n",
              "        async function convertToInteractive(key) {\n",
              "          const element = document.querySelector('#df-633f86a5-4ae0-468c-ab0c-5ed609a6c624');\n",
              "          const dataTable =\n",
              "            await google.colab.kernel.invokeFunction('convertToInteractive',\n",
              "                                                     [key], {});\n",
              "          if (!dataTable) return;\n",
              "\n",
              "          const docLinkHtml = 'Like what you see? Visit the ' +\n",
              "            '<a target=\"_blank\" href=https://colab.research.google.com/notebooks/data_table.ipynb>data table notebook</a>'\n",
              "            + ' to learn more about interactive tables.';\n",
              "          element.innerHTML = '';\n",
              "          dataTable['output_type'] = 'display_data';\n",
              "          await google.colab.output.renderOutput(dataTable, element);\n",
              "          const docLink = document.createElement('div');\n",
              "          docLink.innerHTML = docLinkHtml;\n",
              "          element.appendChild(docLink);\n",
              "        }\n",
              "      </script>\n",
              "    </div>\n",
              "  </div>\n",
              "  "
            ]
          },
          "metadata": {},
          "execution_count": 60
        }
      ]
    },
    {
      "cell_type": "code",
      "source": [
        "sns.histplot(data = long, x = 2)"
      ],
      "metadata": {
        "colab": {
          "base_uri": "https://localhost:8080/",
          "height": 301
        },
        "id": "CJxGZPaPy5wk",
        "outputId": "7e288946-a563-4d5f-a1c4-76c9b3969dd5"
      },
      "execution_count": null,
      "outputs": [
        {
          "output_type": "execute_result",
          "data": {
            "text/plain": [
              "<Axes: xlabel='2', ylabel='Count'>"
            ]
          },
          "metadata": {},
          "execution_count": 61
        },
        {
          "output_type": "display_data",
          "data": {
            "text/plain": [
              "<Figure size 432x288 with 1 Axes>"
            ],
            "image/png": "[encoded data removed]"
          },
          "metadata": {}
        }
      ]
    },
    {
      "cell_type": "code",
      "source": [
        "sns.histplot(data = long2, x = 2)"
      ],
      "metadata": {
        "id": "93zP5-dY16Qz",
        "outputId": "e7f80373-810c-4c00-973b-8488529557a9",
        "colab": {
          "base_uri": "https://localhost:8080/",
          "height": 301
        }
      },
      "execution_count": null,
      "outputs": [
        {
          "output_type": "execute_result",
          "data": {
            "text/plain": [
              "<Axes: xlabel='2', ylabel='Count'>"
            ]
          },
          "metadata": {},
          "execution_count": 62
        },
        {
          "output_type": "display_data",
          "data": {
            "text/plain": [
              "<Figure size 432x288 with 1 Axes>"
            ],
            "image/png": "[encoded data removed]"
          },
          "metadata": {}
        }
      ]
    },
    {
      "cell_type": "markdown",
      "source": [
        "# FUNCTIONS"
      ],
      "metadata": {
        "id": "rAziTdPTIeV5"
      }
    },
    {
      "cell_type": "code",
      "source": [
        "def LongError(df1,df2):\n",
        "  reclass = list(df1.columns)\n",
        "  del reclass[0:3]\n",
        "  del reclass[-1]\n",
        "  df1_long = pd.melt(df1, id_vars=['Scenario', 'Error Added', 'Criteria'], value_vars= reclass, value_name= 'Reclassified (%)', ignore_index = True)\n",
        "  df2_long = pd.melt(df2[1:], id_vars=['Scenario', 'Error Added', 'Criteria'], value_vars= reclass, value_name= 'Reclassified (%)', ignore_index = True)\n",
        "  df_long = pd.concat([df1_long, df2_long], join = \"outer\", ignore_index=True)\n",
        "  return df_long"
      ],
      "metadata": {
        "id": "drpbzWhCd6_2"
      },
      "execution_count": null,
      "outputs": []
    },
    {
      "cell_type": "code",
      "source": [
        "def BoxWhisk(df, param, letter):\n",
        "  sns.set_theme(context = 'paper', style=\"white\", font_scale = 1.5)\n",
        "  fig, ax = plt.subplots(figsize = (12,8), tight_layout=True)\n",
        "  sns.diverging_palette(220, 20, as_cmap = True)\n",
        "  \n",
        "  sns.boxplot(data=df, x=\"Error Added\",order = ['CV', 'PB1 + CV','PB2 + CV', 'BV', 'BV + CV','PB1 + BV + CV','PB2 + BV + CV'], width = 0.5, y=\"Reclassified (%)\", hue=\"Criteria\", ax=ax)\n",
        "  #plt.title('Total Reclassifications Given Old vs New Criteria: '+param, fontsize = 15)\n",
        "  ax.set_xticklabels(ax.get_xticklabels(), rotation = 20)\n",
        "  \n",
        "\n",
        "  labels = ['BV only','Scenario 1 No Bias', 'Scenario 2 Positive Bias', 'Scenario 3 Negative Bias', 'Scenario 1 No Bias', 'Scenario 2 Positive Bias', 'Scenario 3 Negative Bias']\n",
        "  labels1 = ['\\n'.join(wrap(l, 11)) for l in [labels[1],labels[4]]]\n",
        "  labels2 = ['\\n'.join(wrap(l, 15)) for l in [labels[2],labels[3],labels[5],labels[6]]]\n",
        "  labels = [labels1[0], labels2[0], labels2[1], labels[0], labels1[1], labels2[2], labels2[3]]\n",
        "  ax.set_xticklabels(labels)\n",
        "\n",
        "  ax.set_xlabel('Error Added',labelpad = 40)\n",
        "  ax.set_ylabel('Misclassified (%)')\n",
        "  ax.set_yticks([3,4,5,6,7,8,9,10])\n",
        "  ax.set_ylim(ymax=10.5, auto = False)\n",
        "\n",
        "  trans = ax.get_xaxis_transform()\n",
        "  ax.annotate(\"Without BV\", xy=(1.1, -.19), xycoords=trans, ha=\"center\", va=\"top\")\n",
        "  ax.plot([0.1,2.1],[-.17,-.17], color=\"k\", transform=trans, clip_on=False)\n",
        "  ax.annotate(\"With BV\", xy=(4.5, -.19), xycoords=trans, ha=\"center\", va=\"top\")\n",
        "  ax.plot([3,6],[-.17,-.17], color=\"k\", transform=trans, clip_on=False)\n",
        "\n",
        "  ax.legend(title = 'Criteria', loc = 'upper left')\n",
        "\n",
        "  fig = plt.gcf()\n",
        "  fig.savefig('Figures/BoxWhisk' +letter +'in_ftn.jpg', dpi = 600)\n",
        "  return (fig, 'BoxWhisk' +letter +'.jpg')"
      ],
      "metadata": {
        "id": "a9DLrdanfSDj"
      },
      "execution_count": null,
      "outputs": []
    },
    {
      "cell_type": "markdown",
      "source": [
        "#CALL FUNCTIONS"
      ],
      "metadata": {
        "id": "k858nfzjSKmM"
      }
    },
    {
      "cell_type": "code",
      "source": [
        "errorL_long = LongError(errorL1, errorL2)\n",
        "errorN_long = LongError(errorN1, errorN2)"
      ],
      "metadata": {
        "id": "InZWGB3L0Uy4"
      },
      "execution_count": null,
      "outputs": []
    },
    {
      "cell_type": "code",
      "source": [
        "L_boxwhisk = BoxWhisk(errorL_long, 'LDL-C', 'L')"
      ],
      "metadata": {
        "id": "uC1CN8QHjeCH",
        "colab": {
          "base_uri": "https://localhost:8080/",
          "height": 576
        },
        "outputId": "d989412a-b88a-4f49-e767-a50987b9c30f"
      },
      "execution_count": null,
      "outputs": [
        {
          "output_type": "display_data",
          "data": {
            "text/plain": [
              "<Figure size 864x576 with 1 Axes>"
            ],
            "image/png": "[encoded data removed]"
          },
          "metadata": {}
        }
      ]
    },
    {
      "cell_type": "code",
      "source": [
        "N_boxwhisk = BoxWhisk(errorN_long, 'nHDL-C', 'N')"
      ],
      "metadata": {
        "colab": {
          "base_uri": "https://localhost:8080/",
          "height": 576
        },
        "id": "ut6zHQgswvei",
        "outputId": "0a20c4e1-f752-4d78-92c0-702d710ad34d"
      },
      "execution_count": null,
      "outputs": [
        {
          "output_type": "display_data",
          "data": {
            "text/plain": [
              "<Figure size 864x576 with 1 Axes>"
            ],
            "image/png": "[encoded data removed]"
          },
          "metadata": {}
        }
      ]
    }
  ]
}